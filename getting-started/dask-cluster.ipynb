{
 "cells": [
  {
   "cell_type": "markdown",
   "metadata": {},
   "source": [
    "# Running Dask on the cluster\n",
    "\n",
    "The dask frameworks enabling users to parallelize internal systems\n",
    "Not all computations fit into a big dataframe. Dask exposes lower-level APIs letting you build custom systems for in-house applications. This helps parallelize python processes and dramatically accelerate their performance\n",
    "\n",
    "Dask Kubernetes deploys Dask workers on Kubernetes clusters using native Kubernetes APIs. It is designed to dynamically launch short-lived deployments of workers during the lifetime of a Python process.\n",
    "\n",
    "Check out this link https://kubernetes.dask.org/en/latest/"
   ]
  },
  {
   "cell_type": "code",
   "execution_count": 1,
   "metadata": {
    "collapsed": true,
    "jupyter": {
     "outputs_hidden": true
    }
   },
   "outputs": [
    {
     "name": "stdout",
     "output_type": "stream",
     "text": [
      "Requirement already satisfied: dask-kubernetes in /User/.pythonlibs/lib/python3.6/site-packages (0.10.0)\n",
      "Requirement already satisfied: kubernetes-asyncio>=9 in /User/.pythonlibs/lib/python3.6/site-packages (from dask-kubernetes) (10.0.0)\n",
      "Requirement already satisfied: dask>=2.5.2 in /User/.pythonlibs/lib/python3.6/site-packages (from dask-kubernetes) (2.8.0)\n",
      "Requirement already satisfied: kubernetes>=9 in /User/.pythonlibs/lib/python3.6/site-packages (from dask-kubernetes) (9.0.0)\n",
      "Requirement already satisfied: distributed>=2.5.2 in /User/.pythonlibs/lib/python3.6/site-packages (from dask-kubernetes) (2.8.0)\n",
      "Requirement already satisfied: pyyaml>=3.12 in /conda/lib/python3.6/site-packages (from kubernetes-asyncio>=9->dask-kubernetes) (5.1.2)\n",
      "Requirement already satisfied: python-dateutil>=2.5.3 in /conda/lib/python3.6/site-packages (from kubernetes-asyncio>=9->dask-kubernetes) (2.8.0)\n",
      "Requirement already satisfied: six>=1.9.0 in /conda/lib/python3.6/site-packages (from kubernetes-asyncio>=9->dask-kubernetes) (1.12.0)\n",
      "Requirement already satisfied: setuptools>=21.0.0 in /conda/lib/python3.6/site-packages (from kubernetes-asyncio>=9->dask-kubernetes) (41.4.0)\n",
      "Requirement already satisfied: urllib3>=1.24.2 in /conda/lib/python3.6/site-packages (from kubernetes-asyncio>=9->dask-kubernetes) (1.24.2)\n",
      "Requirement already satisfied: aiohttp>=2.3.10 in /User/.pythonlibs/lib/python3.6/site-packages (from kubernetes-asyncio>=9->dask-kubernetes) (3.6.2)\n",
      "Requirement already satisfied: certifi>=14.05.14 in /conda/lib/python3.6/site-packages (from kubernetes-asyncio>=9->dask-kubernetes) (2019.9.11)\n",
      "Requirement already satisfied: requests in /conda/lib/python3.6/site-packages (from kubernetes>=9->dask-kubernetes) (2.22.0)\n",
      "Requirement already satisfied: websocket-client!=0.40.0,!=0.41.*,!=0.42.*,>=0.32.0 in /User/.pythonlibs/lib/python3.6/site-packages (from kubernetes>=9->dask-kubernetes) (0.56.0)\n",
      "Requirement already satisfied: requests-oauthlib in /User/.pythonlibs/lib/python3.6/site-packages (from kubernetes>=9->dask-kubernetes) (1.3.0)\n",
      "Requirement already satisfied: google-auth>=1.0.1 in /User/.pythonlibs/lib/python3.6/site-packages (from kubernetes>=9->dask-kubernetes) (1.7.1)\n",
      "Requirement already satisfied: msgpack in /conda/lib/python3.6/site-packages (from distributed>=2.5.2->dask-kubernetes) (0.6.2)\n",
      "Requirement already satisfied: tornado>=5 in /User/.pythonlibs/lib/python3.6/site-packages (from distributed>=2.5.2->dask-kubernetes) (5.1.1)\n",
      "Requirement already satisfied: sortedcontainers!=2.0.0,!=2.0.1 in /conda/lib/python3.6/site-packages (from distributed>=2.5.2->dask-kubernetes) (2.1.0)\n",
      "Requirement already satisfied: cloudpickle>=0.2.2 in /User/.pythonlibs/lib/python3.6/site-packages (from distributed>=2.5.2->dask-kubernetes) (1.1.1)\n",
      "Requirement already satisfied: zict>=0.1.3 in /conda/lib/python3.6/site-packages (from distributed>=2.5.2->dask-kubernetes) (1.0.0)\n",
      "Requirement already satisfied: tblib in /conda/lib/python3.6/site-packages (from distributed>=2.5.2->dask-kubernetes) (1.5.0)\n",
      "Requirement already satisfied: psutil>=5.0 in /conda/lib/python3.6/site-packages (from distributed>=2.5.2->dask-kubernetes) (5.6.3)\n",
      "Requirement already satisfied: click>=6.6 in /conda/lib/python3.6/site-packages (from distributed>=2.5.2->dask-kubernetes) (7.0)\n",
      "Requirement already satisfied: toolz>=0.7.4 in /conda/lib/python3.6/site-packages (from distributed>=2.5.2->dask-kubernetes) (0.10.0)\n",
      "Requirement already satisfied: yarl<2.0,>=1.0 in /User/.pythonlibs/lib/python3.6/site-packages (from aiohttp>=2.3.10->kubernetes-asyncio>=9->dask-kubernetes) (1.3.0)\n",
      "Requirement already satisfied: attrs>=17.3.0 in /conda/lib/python3.6/site-packages (from aiohttp>=2.3.10->kubernetes-asyncio>=9->dask-kubernetes) (19.3.0)\n",
      "Requirement already satisfied: async-timeout<4.0,>=3.0 in /User/.pythonlibs/lib/python3.6/site-packages (from aiohttp>=2.3.10->kubernetes-asyncio>=9->dask-kubernetes) (3.0.1)\n",
      "Requirement already satisfied: chardet<4.0,>=2.0 in /conda/lib/python3.6/site-packages (from aiohttp>=2.3.10->kubernetes-asyncio>=9->dask-kubernetes) (3.0.4)\n",
      "Requirement already satisfied: idna-ssl>=1.0; python_version < \"3.7\" in /User/.pythonlibs/lib/python3.6/site-packages (from aiohttp>=2.3.10->kubernetes-asyncio>=9->dask-kubernetes) (1.1.0)\n",
      "Requirement already satisfied: multidict<5.0,>=4.5 in /User/.pythonlibs/lib/python3.6/site-packages (from aiohttp>=2.3.10->kubernetes-asyncio>=9->dask-kubernetes) (4.5.2)\n",
      "Requirement already satisfied: typing-extensions>=3.6.5; python_version < \"3.7\" in /User/.pythonlibs/lib/python3.6/site-packages (from aiohttp>=2.3.10->kubernetes-asyncio>=9->dask-kubernetes) (3.7.4.1)\n",
      "Requirement already satisfied: idna<2.9,>=2.5 in /conda/lib/python3.6/site-packages (from requests->kubernetes>=9->dask-kubernetes) (2.8)\n",
      "Requirement already satisfied: oauthlib>=3.0.0 in /User/.pythonlibs/lib/python3.6/site-packages (from requests-oauthlib->kubernetes>=9->dask-kubernetes) (3.1.0)\n",
      "Requirement already satisfied: pyasn1-modules>=0.2.1 in /User/.pythonlibs/lib/python3.6/site-packages (from google-auth>=1.0.1->kubernetes>=9->dask-kubernetes) (0.2.7)\n",
      "Requirement already satisfied: cachetools<3.2,>=2.0.0 in /User/.pythonlibs/lib/python3.6/site-packages (from google-auth>=1.0.1->kubernetes>=9->dask-kubernetes) (3.1.1)\n",
      "Requirement already satisfied: rsa<4.1,>=3.1.4 in /User/.pythonlibs/lib/python3.6/site-packages (from google-auth>=1.0.1->kubernetes>=9->dask-kubernetes) (4.0)\n",
      "Requirement already satisfied: heapdict in /conda/lib/python3.6/site-packages (from zict>=0.1.3->distributed>=2.5.2->dask-kubernetes) (1.0.1)\n",
      "Requirement already satisfied: pyasn1<0.5.0,>=0.4.6 in /User/.pythonlibs/lib/python3.6/site-packages (from pyasn1-modules>=0.2.1->google-auth>=1.0.1->kubernetes>=9->dask-kubernetes) (0.4.7)\n"
     ]
    }
   ],
   "source": [
    "!pip install dask-kubernetes"
   ]
  },
  {
   "cell_type": "markdown",
   "metadata": {},
   "source": [
    "When user runs dask the frameworks start one or more pods running in parallel on the cluster. Users can define the number of nodes and the minimun and maximum number of pods that the dask framework opens up\n",
    "Scale to zero is achieved by setting the minimum = 0. Setting it to zero delete the pods once the job is done and free up the resources "
   ]
  },
  {
   "cell_type": "code",
   "execution_count": 2,
   "metadata": {
    "collapsed": true,
    "jupyter": {
     "outputs_hidden": true
    }
   },
   "outputs": [
    {
     "name": "stderr",
     "output_type": "stream",
     "text": [
      "/conda/lib/python3.6/site-packages/bokeh/themes/theme.py:131: YAMLLoadWarning: calling yaml.load() without Loader=... is deprecated, as the default Loader is unsafe. Please read https://msg.pyyaml.org/load for full details.\n",
      "  json = yaml.load(f)\n",
      "distributed.dashboard.proxy - INFO - To route to workers diagnostics web server please install jupyter-server-proxy: pip install jupyter-server-proxy\n",
      "distributed.scheduler - INFO - Clear task state\n",
      "/User/.pythonlibs/lib/python3.6/site-packages/distributed/dashboard/core.py:72: UserWarning: \n",
      "Port 8787 is already in use. \n",
      "Perhaps you already have a cluster running?\n",
      "Hosting the diagnostics dashboard on a random port instead.\n",
      "  warnings.warn(\"\\n\" + msg)\n",
      "distributed.scheduler - INFO -   Scheduler at:  tcp://10.233.81.31:43201\n",
      "distributed.scheduler - INFO -   dashboard at:                    :42621\n"
     ]
    },
    {
     "data": {
      "text/plain": [
       "<distributed.deploy.adaptive.Adaptive at 0x7f9ee67a4048>"
      ]
     },
     "execution_count": 2,
     "metadata": {},
     "output_type": "execute_result"
    },
    {
     "name": "stderr",
     "output_type": "stream",
     "text": [
      "distributed.scheduler - INFO - Retire worker names (0, 1)\n",
      "distributed.deploy.adaptive - INFO - Retiring workers [0, 1]\n"
     ]
    }
   ],
   "source": [
    "from dask_kubernetes import KubeCluster\n",
    "\n",
    "cluster = KubeCluster.from_yaml('worker-spec.yml')\n",
    "cluster.scale_up(4)  # specify number of nodes explicitly\n",
    "\n",
    "cluster.adapt(minimum=2, maximum=5)  # or dynamically scale based on current workload"
   ]
  },
  {
   "cell_type": "markdown",
   "metadata": {},
   "source": [
    "to view the pods that are running"
   ]
  },
  {
   "cell_type": "code",
   "execution_count": 3,
   "metadata": {},
   "outputs": [
    {
     "name": "stdout",
     "output_type": "stream",
     "text": [
      "dask-iguazio-4e54e604-bcfqrc                       1/1     Running     0          10s\n",
      "dask-iguazio-4e54e604-bldmph                       1/1     Running     0          10s\n"
     ]
    }
   ],
   "source": [
    "!kubectl  -n default-tenant get pods | grep dask"
   ]
  },
  {
   "cell_type": "code",
   "execution_count": 4,
   "metadata": {},
   "outputs": [
    {
     "name": "stderr",
     "output_type": "stream",
     "text": [
      "distributed.scheduler - INFO - Receive client connection: Client-ec580b48-0b0c-11ea-9bc2-019f8a8ab19d\n",
      "distributed.core - INFO - Starting established connection\n",
      "distributed.core - INFO - Event loop was unresponsive in Scheduler for 3.09s.  This is often caused by long-running GIL-holding functions or moving large chunks of data. This can cause timeouts and instability.\n",
      "distributed.scheduler - INFO - Register tcp://10.233.76.67:33187\n",
      "distributed.scheduler - INFO - Starting worker compute stream, tcp://10.233.76.67:33187\n",
      "distributed.core - INFO - Starting established connection\n",
      "distributed.scheduler - INFO - Retire worker names (2, 3, 4)\n",
      "distributed.deploy.adaptive - INFO - Retiring workers [2, 3, 4]\n",
      "distributed.scheduler - INFO - Remove worker tcp://10.233.76.67:33187\n",
      "distributed.core - INFO - Removing comms to tcp://10.233.76.67:33187\n",
      "distributed.scheduler - INFO - Lost all workers\n",
      "distributed.scheduler - INFO - Register tcp://10.233.111.64:33079\n",
      "distributed.scheduler - INFO - Starting worker compute stream, tcp://10.233.111.64:33079\n",
      "distributed.core - INFO - Starting established connection\n",
      "distributed.scheduler - INFO - Retire worker names (5,)\n",
      "distributed.deploy.adaptive - INFO - Retiring workers [5]\n"
     ]
    },
    {
     "name": "stdout",
     "output_type": "stream",
     "text": [
      "1.0\n"
     ]
    },
    {
     "name": "stderr",
     "output_type": "stream",
     "text": [
      "distributed.scheduler - INFO - Register tcp://10.233.76.68:46786\n",
      "distributed.scheduler - INFO - Starting worker compute stream, tcp://10.233.76.68:46786\n",
      "distributed.core - INFO - Starting established connection\n"
     ]
    }
   ],
   "source": [
    "# Example usage\n",
    "import distributed\n",
    "import dask.array as da\n",
    "\n",
    "# Connect dask to the cluster\n",
    "client = distributed.Client(cluster)\n",
    "\n",
    "# Create an array and calculate the mean\n",
    "array = da.ones((1000, 1000, 1000), chunks=(100, 100, 10))\n",
    "print(array.mean().compute())  # Should print 1.0"
   ]
  }
 ],
 "metadata": {
  "kernelspec": {
   "display_name": "Python 3",
   "language": "python",
   "name": "python3"
  },
  "language_info": {
   "codemirror_mode": {
    "name": "ipython",
    "version": 3
   },
   "file_extension": ".py",
   "mimetype": "text/x-python",
   "name": "python",
   "nbconvert_exporter": "python",
   "pygments_lexer": "ipython3",
   "version": "3.6.8"
  }
 },
 "nbformat": 4,
 "nbformat_minor": 4
}
