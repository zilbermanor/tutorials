{
 "cells": [
  {
   "cell_type": "markdown",
   "metadata": {},
   "source": [
    "# Nuclio - Process user location signal"
   ]
  },
  {
   "cell_type": "markdown",
   "metadata": {},
   "source": [
    "## Setup the environment"
   ]
  },
  {
   "cell_type": "code",
   "execution_count": 2,
   "metadata": {},
   "outputs": [],
   "source": [
    "# nuclio: ignore\n",
    "import nuclio"
   ]
  },
  {
   "cell_type": "markdown",
   "metadata": {},
   "source": [
    "### Define environment variables"
   ]
  },
  {
   "cell_type": "code",
   "execution_count": 1,
   "metadata": {},
   "outputs": [],
   "source": [
    "import os"
   ]
  },
  {
   "cell_type": "code",
   "execution_count": 4,
   "metadata": {},
   "outputs": [],
   "source": [
    "# nuclio: ignore\n",
    "os.environ['STORES_TABLE'] = os.path.join(os.getenv('V3IO_USERNAME', 'iguazio'), 'stores')\n",
    "os.environ['CUSTOMERS_TABLE'] = os.path.join(os.getenv('V3IO_USERNAME', 'iguazio'), 'customers')\n",
    "os.environ['CUSTOMERS_STREAM'] = os.path.join(os.getenv('V3IO_USERNAME', 'iguazio'), 'customers_stream')\n",
    "os.environ['PREDICTIONS_STREAM'] = os.path.join(os.getenv('V3IO_USERNAME', 'iguazio'), 'predictions')"
   ]
  },
  {
   "cell_type": "code",
   "execution_count": 5,
   "metadata": {},
   "outputs": [
    {
     "name": "stdout",
     "output_type": "stream",
     "text": [
      "%nuclio: setting 'V3IO_API' environment variable\n",
      "%nuclio: setting 'V3IO_ACCESS_KEY' environment variable\n",
      "%nuclio: setting 'COSTUMERS_STREAM' environment variable\n",
      "%nuclio: setting 'COSTUMERS_TABLE' environment variable\n",
      "%nuclio: setting 'STORES_TABLE' environment variable\n",
      "%nuclio: setting 'PREDICTIONS_STREAM' environment variable\n",
      "%nuclio: setting 'PREDICTION_SERVER' environment variable\n"
     ]
    }
   ],
   "source": [
    "# DB Acess\n",
    "%nuclio env V3IO_API=${V3IO_FRAMESD}\n",
    "%nuclio env V3IO_ACCESS_KEY=${V3IO_ACCESS_KEY}\n",
    "\n",
    "# Customers\n",
    "%nuclio env COSTUMERS_STREAM=${CUSTOMERS_STREAM}\n",
    "%nuclio env COSTUMERS_TABLE=${CUSTOMERS_TABLE}\n",
    "%nuclio env STORES_TABLE=${STORES_TABLE}\n",
    "\n",
    "# Predictions\n",
    "%nuclio env PREDICTIONS_STREAM=${PREDICTIONS_STREAM}\n",
    "%nuclio env PREDICTION_SERVER=http://prediction-server:8080"
   ]
  },
  {
   "cell_type": "markdown",
   "metadata": {},
   "source": [
    "### Base image"
   ]
  },
  {
   "cell_type": "code",
   "execution_count": 6,
   "metadata": {},
   "outputs": [
    {
     "name": "stdout",
     "output_type": "stream",
     "text": [
      "%nuclio: setting spec.build.baseImage to 'python:3.6-jessie'\n"
     ]
    }
   ],
   "source": [
    "%nuclio config spec.build.baseImage = \"python:3.6-jessie\""
   ]
  },
  {
   "cell_type": "markdown",
   "metadata": {},
   "source": [
    "### Set cron trigger to read from stream"
   ]
  },
  {
   "cell_type": "code",
   "execution_count": 7,
   "metadata": {},
   "outputs": [
    {
     "name": "stdout",
     "output_type": "stream",
     "text": [
      "%nuclio: setting spec.triggers.secs.kind to 'cron'\n",
      "%nuclio: setting spec.triggers.secs.attributes.interval to '1m'\n"
     ]
    }
   ],
   "source": [
    "%nuclio config spec.triggers.secs.kind = \"cron\"\n",
    "%nuclio config spec.triggers.secs.attributes.interval = \"1m\""
   ]
  },
  {
   "cell_type": "markdown",
   "metadata": {},
   "source": [
    "### Install packages"
   ]
  },
  {
   "cell_type": "code",
   "execution_count": 8,
   "metadata": {},
   "outputs": [],
   "source": [
    "%%nuclio cmd -c\n",
    "pip install v3io_frames\n",
    "pip install v3io==0.1.1 --upgrade\n",
    "pip install requests\n",
    "pip install pandas"
   ]
  },
  {
   "cell_type": "markdown",
   "metadata": {},
   "source": [
    "## Function code"
   ]
  },
  {
   "cell_type": "code",
   "execution_count": 9,
   "metadata": {},
   "outputs": [],
   "source": [
    "import json\n",
    "import os\n",
    "import requests\n",
    "import time\n",
    "\n",
    "# Data handling\n",
    "import pandas as pd\n",
    "\n",
    "# DB\n",
    "import v3io\n",
    "import v3io.dataplane\n",
    "import v3io.logger\n",
    "import v3io_frames as v3f"
   ]
  },
  {
   "cell_type": "markdown",
   "metadata": {},
   "source": [
    "### Init context"
   ]
  },
  {
   "cell_type": "code",
   "execution_count": 10,
   "metadata": {},
   "outputs": [],
   "source": [
    "def init_context(context):\n",
    "    # DB Contexts\n",
    "   \n",
    "    v3c = v3io.dataplane.Context(v3io.logger.Logger('DEBUG')).new_session().new_container('users')\n",
    "    setattr(context, 'v3c', v3c)\n",
    "   \n",
    "    v3c_frames = v3f.Client('framesd:8081', container='users')\n",
    "    setattr(context, 'v3f', v3c_frames)\n",
    "    \n",
    "    \n",
    "    # DB Tables\n",
    "    \n",
    "    customers_table = os.environ['COSTUMERS_TABLE']\n",
    "    setattr(context, 'customers', customers_table)\n",
    "    \n",
    "    stores_table = os.environ['STORES_TABLE']\n",
    "    setattr(context, 'stores', stores_table)\n",
    "    \n",
    "    predictions_stream = os.environ['PREDICTIONS_STREAM']\n",
    "    setattr(context, 'predictions', predictions_stream)\n",
    "    \n",
    "    customers_stream = os.environ['COSTUMERS_STREAM']\n",
    "    setattr(context, 'customers_stream', customers_stream)\n",
    "    \n",
    "    \n",
    "    # Prediction server\n",
    "    \n",
    "    prediction_server = os.getenv('PREDICTION_SERVER')\n",
    "    setattr(context, 'prediction_server', prediction_server)"
   ]
  },
  {
   "cell_type": "markdown",
   "metadata": {},
   "source": [
    "### Helper functions"
   ]
  },
  {
   "cell_type": "code",
   "execution_count": 11,
   "metadata": {},
   "outputs": [],
   "source": [
    "def is_customer_in_store(customer, context) -> bool:\n",
    "    store_location = customer['location']\n",
    "    store = context.v3f.read('kv', context.stores, filter=f'__name==\"{store_location}\"')\n",
    "\n",
    "    return not store.empty"
   ]
  },
  {
   "cell_type": "code",
   "execution_count": 12,
   "metadata": {},
   "outputs": [],
   "source": [
    "def is_customer_out_of_store(context, new_customer_locations):\n",
    "    if not new_customer_locations.empty:\n",
    "        users = new_customer_locations['id'].values.astype('int').astype('str')\n",
    "        filter_line = str(list(users))\n",
    "        filter_line = f'__name IN ({filter_line[1:-1]})'\n",
    "        old_customer_locations = context.v3f.read('kv', context.customers, columns=['location'], filter=filter_line)\n",
    "        old_customer_locations['is_store'] = old_customer_locations.apply(is_customer_in_store, args=[context], axis=1)\n",
    "        return old_customer_locations[old_customer_locations['is_store'] == True]['location']"
   ]
  },
  {
   "cell_type": "code",
   "execution_count": 13,
   "metadata": {},
   "outputs": [],
   "source": [
    "def update_customer_location(context, customer_id: str, location: str):\n",
    "    context.v3f.execute('kv', context.customers , 'update', args={'key':customer_id, 'expression': f'SET location=\"{location}\"', 'condition':''})"
   ]
  },
  {
   "cell_type": "code",
   "execution_count": 14,
   "metadata": {},
   "outputs": [],
   "source": [
    "def update_store_count(customer, context, is_add=True):\n",
    "    operator = '+' if is_add else '-'\n",
    "    context.v3f.execute('kv', context.stores , 'update', args={'key': customer, 'expression': f'SET customers=customers{operator}1', 'condition':''})"
   ]
  },
  {
   "cell_type": "code",
   "execution_count": 15,
   "metadata": {},
   "outputs": [],
   "source": [
    "def save_predictions(context, customer_id: str, prediction: pd.DataFrame):\n",
    "    context.v3f.write('tsdb', context.predictions, prediction)"
   ]
  },
  {
   "cell_type": "markdown",
   "metadata": {},
   "source": [
    "### Handler"
   ]
  },
  {
   "cell_type": "code",
   "execution_count": 26,
   "metadata": {},
   "outputs": [],
   "source": [
    "def handler(context, event):\n",
    "   \n",
    "    # Get latest customer locations from the customers stream\n",
    "    customers_stream = context.v3f.read('tsdb', context.customers_stream, start='now-1m')\n",
    "    \n",
    "    if not customers_stream.empty:\n",
    "        # Has anyone moved out of any store?\n",
    "        stores_to_update = is_customer_out_of_store(context, customers_stream)\n",
    "        stores_to_update.apply(update_store_count, args=[context, False])\n",
    "\n",
    "        # Update the customer's new location\n",
    "        [update_customer_location(context, str(int(customer['id'])), customer['location']) for idx, customer in customers_stream.iterrows()]\n",
    "       \n",
    "    \n",
    "        # Get all customers that are in stores\n",
    "        customers_stream['is_store'] = customers_stream.apply(is_customer_in_store, args=[context], axis=1)\n",
    "        customers_stream = customers_stream[customers_stream['is_store']]\n",
    "       \n",
    "        # Update customers in stores count\n",
    "        customers_stream['update_stores'] = customers_stream['location'].apply(update_store_count, args=[context])\n",
    "       \n",
    "        context.logger.debug(customers_stream)\n",
    " \n",
    "        [requests.post(context.prediction_server, json={'id': str(int(customer['id'])), 'store': str(customer['location'])}) for idx, customer in customers_stream.iterrows()]"
   ]
  },
  {
   "cell_type": "code",
   "execution_count": 17,
   "metadata": {},
   "outputs": [],
   "source": [
    "# nuclio: ignore\n",
    "init_context(context)"
   ]
  },
  {
   "cell_type": "code",
   "execution_count": 27,
   "metadata": {},
   "outputs": [],
   "source": [
    "# nuclio: ignore\n",
    "event = nuclio.Event()\n",
    "handler(context, event)"
   ]
  },
  {
   "cell_type": "code",
   "execution_count": 19,
   "metadata": {},
   "outputs": [
    {
     "name": "stdout",
     "output_type": "stream",
     "text": [
      "[nuclio.deploy] 2019-08-11 13:38:34,372 (info) Building processor image\n",
      "[nuclio.deploy] 2019-08-11 13:39:04,748 (info) Pushing image\n",
      "[nuclio.deploy] 2019-08-11 13:39:18,908 (info) Build complete\n",
      "[nuclio.deploy] 2019-08-11 13:39:22,100 done creating process-user-location, function address: 3.120.15.118:32537\n",
      "%nuclio: function deployed\n"
     ]
    }
   ],
   "source": [
    "%nuclio deploy -n process_user_location -p recommendation_engine -c"
   ]
  },
  {
   "cell_type": "code",
   "execution_count": null,
   "metadata": {},
   "outputs": [],
   "source": []
  }
 ],
 "metadata": {
  "kernelspec": {
   "display_name": "Python 3",
   "language": "python",
   "name": "python3"
  },
  "language_info": {
   "codemirror_mode": {
    "name": "ipython",
    "version": 3
   },
   "file_extension": ".py",
   "mimetype": "text/x-python",
   "name": "python",
   "nbconvert_exporter": "python",
   "pygments_lexer": "ipython3",
   "version": "3.6.8"
  }
 },
 "nbformat": 4,
 "nbformat_minor": 4
}
