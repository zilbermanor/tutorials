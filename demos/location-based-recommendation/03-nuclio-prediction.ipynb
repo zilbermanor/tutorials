{
 "cells": [
  {
   "cell_type": "markdown",
   "metadata": {},
   "source": [
    "# Nuclio - prediction function"
   ]
  },
  {
   "cell_type": "markdown",
   "metadata": {},
   "source": [
    "## Setup the environment"
   ]
  },
  {
   "cell_type": "code",
   "execution_count": 1,
   "metadata": {},
   "outputs": [],
   "source": [
    "# nuclio: ignore\n",
    "import nuclio"
   ]
  },
  {
   "cell_type": "markdown",
   "metadata": {},
   "source": [
    "### Set environment variables"
   ]
  },
  {
   "cell_type": "code",
   "execution_count": 2,
   "metadata": {},
   "outputs": [],
   "source": [
    "import os"
   ]
  },
  {
   "cell_type": "code",
   "execution_count": 3,
   "metadata": {},
   "outputs": [],
   "source": [
    "# nuclio: ignore\n",
    "os.environ['CUSTOMERS_TABLE'] = os.path.join(os.getenv('V3IO_USERNAME', 'iguazio'), 'customers')\n",
    "os.environ['PREDICTIONS_TABLE'] = os.path.join(os.getenv('V3IO_USERNAME', 'iguazio'), 'predictions')"
   ]
  },
  {
   "cell_type": "code",
   "execution_count": 4,
   "metadata": {},
   "outputs": [
    {
     "name": "stdout",
     "output_type": "stream",
     "text": [
      "%nuclio: setting 'FRAMESD' environment variable\n",
      "%nuclio: setting 'V3IO_USERNAME' environment variable\n",
      "%nuclio: setting 'V3IO_ACCESS_KEY' environment variable\n",
      "%nuclio: setting 'MODEL_FILE' environment variable\n",
      "%nuclio: setting 'MODEL_FILEPATH' environment variable\n",
      "%nuclio: setting 'NUM_OF_PRODUCTS_TO_RETURN' environment variable\n",
      "%nuclio: setting 'CUSTOMERS_TABLE' environment variable\n",
      "%nuclio: setting 'PREDICTIONS_TABLE' environment variable\n"
     ]
    }
   ],
   "source": [
    "# Iguazio access\n",
    "%nuclio env FRAMESD=${V3IO_FRAMESD}\n",
    "%nuclio env V3IO_USERNAME=${V3IO_USERNAME}\n",
    "%nuclio env V3IO_ACCESS_KEY=${V3IO_ACCESS_KEY}\n",
    "\n",
    "# Model handling\n",
    "%nuclio env MODEL_FILE=lgb.model\n",
    "%nuclio env -c MODEL_FILEPATH=/tmp/mlmodel/${MODEL_FILE}\n",
    "%nuclio env -l MODEL_FILEPATH=models/trained/${MODEL_FILE}\n",
    "\n",
    "# Function variables\n",
    "%nuclio env NUM_OF_PRODUCTS_TO_RETURN=4\n",
    "%nuclio env CUSTOMERS_TABLE= ${CUSTOMERS_TABLE}\n",
    "%nuclio env PREDICTIONS_TABLE= ${PREDICTIONS_TABLE}"
   ]
  },
  {
   "cell_type": "markdown",
   "metadata": {},
   "source": [
    "### Base image"
   ]
  },
  {
   "cell_type": "code",
   "execution_count": 5,
   "metadata": {},
   "outputs": [
    {
     "name": "stdout",
     "output_type": "stream",
     "text": [
      "%nuclio: setting spec.build.baseImage to 'python:3.6-jessie'\n"
     ]
    }
   ],
   "source": [
    "%nuclio config spec.build.baseImage = \"python:3.6-jessie\""
   ]
  },
  {
   "cell_type": "markdown",
   "metadata": {},
   "source": [
    "### Installations"
   ]
  },
  {
   "cell_type": "markdown",
   "metadata": {},
   "source": [
    "When installing packages while working, Please reset the kernel to allow Jupyter to load the new packages."
   ]
  },
  {
   "cell_type": "code",
   "execution_count": 6,
   "metadata": {},
   "outputs": [],
   "source": [
    "%%nuclio cmd -c\n",
    "pip install requests\n",
    "pip install pandas\n",
    "pip install lightgbm\n",
    "pip install v3io_frames"
   ]
  },
  {
   "cell_type": "markdown",
   "metadata": {},
   "source": [
    "### Get the model"
   ]
  },
  {
   "cell_type": "code",
   "execution_count": 7,
   "metadata": {},
   "outputs": [],
   "source": [
    "# nuclio: ignore\n",
    "# Verify the model is in the shared data directory\n",
    "os.environ['MODEL_SHARED_FILEPATH'] = f'/users/{os.environ[\"V3IO_USERNAME\"]}/recommendation_demo/models/'\n",
    "os.environ['FULL_LOCAL_MODEL_PATH'] = f'{os.path.join(os.getcwd(), os.environ[\"MODEL_FILEPATH\"])}'\n",
    "!mkdir -p /v3io${MODEL_SHARED_FILEPATH}\n",
    "!cp ${FULL_LOCAL_MODEL_PATH} /v3io${MODEL_SHARED_FILEPATH} "
   ]
  },
  {
   "cell_type": "code",
   "execution_count": 8,
   "metadata": {},
   "outputs": [
    {
     "name": "stdout",
     "output_type": "stream",
     "text": [
      "%nuclio: setting 'MODEL_SHARED_FILEPATH' environment variable\n"
     ]
    }
   ],
   "source": [
    "%nuclio env MODEL_SHARED_FILEPATH = ${MODEL_SHARED_FILEPATH}"
   ]
  },
  {
   "cell_type": "code",
   "execution_count": 9,
   "metadata": {},
   "outputs": [],
   "source": [
    "%%nuclio cmd -c \n",
    "apt-get update && apt-get install -y wget\n",
    "mkdir -p /tmp/mlmodel\n",
    "wget -O /tmp/mlmodel/${MODEL_FILE} --header \"x-v3io-session-key: ${V3IO_ACCESS_KEY}\" http://${V3IO_WEBAPI_SERVICE_HOST}:8081${MODEL_SHARED_FILEPATH}${MODEL_FILE}"
   ]
  },
  {
   "cell_type": "markdown",
   "metadata": {},
   "source": [
    "### Imports"
   ]
  },
  {
   "cell_type": "code",
   "execution_count": 10,
   "metadata": {},
   "outputs": [],
   "source": [
    "# Util\n",
    "import json\n",
    "import requests\n",
    "import datetime\n",
    "\n",
    "# Function\n",
    "import pandas as pd\n",
    "import lightgbm as lgb\n",
    "\n",
    "# DB\n",
    "import v3io_frames as v3f"
   ]
  },
  {
   "cell_type": "markdown",
   "metadata": {},
   "source": [
    "## Function code"
   ]
  },
  {
   "cell_type": "markdown",
   "metadata": {},
   "source": [
    "### Init context"
   ]
  },
  {
   "cell_type": "code",
   "execution_count": 11,
   "metadata": {},
   "outputs": [],
   "source": [
    "def init_context(context):\n",
    "    # Define DB\n",
    "    client = v3f.Client('framesd:8081', container='users')\n",
    "    setattr(context, 'client', client)\n",
    "    \n",
    "    setattr(context, 'customers_table', os.environ['CUSTOMERS_TABLE'])\n",
    "    \n",
    "    setattr(context, 'predictions', os.environ['PREDICTIONS_TABLE'])\n",
    "    \n",
    "    try:\n",
    "        context.client.delete('tsdb', context.predictions, if_missing=1)\n",
    "    except:\n",
    "        context.logger.debug(f'couldnt delete {context.predictions}')\n",
    "    try:\n",
    "        context.client.create('tsdb', context.predictions, attrs={'rate': '1/s'})\n",
    "    except:\n",
    "        context.logger.debug(f'couldnt create {context.predictions}')\n",
    "    \n",
    "    # define Model\n",
    "    model = lgb.Booster(model_file=os.environ['MODEL_FILEPATH'])\n",
    "    setattr(context, 'model', model)\n",
    "    \n",
    "    # vars\n",
    "    setattr(context, 'k', int(os.environ['NUM_OF_PRODUCTS_TO_RETURN']))"
   ]
  },
  {
   "cell_type": "markdown",
   "metadata": {},
   "source": [
    "### Format dataframe for prediction"
   ]
  },
  {
   "cell_type": "code",
   "execution_count": 12,
   "metadata": {},
   "outputs": [],
   "source": [
    "def prepare_df(df):\n",
    "    # Extract features col\n",
    "    keep_cols = ['products']\n",
    "    df = df.loc[:, keep_cols]\n",
    "    \n",
    "    # Create features df\n",
    "    df = pd.read_json(df.values[0][0])\n",
    "    return df"
   ]
  },
  {
   "cell_type": "code",
   "execution_count": 13,
   "metadata": {},
   "outputs": [],
   "source": [
    "def handler(context, event):\n",
    "    \n",
    "    # Get user\n",
    "    customer_id = event.body['id']\n",
    "    store = event.body['store']\n",
    "    context.logger.debug(f'Predicting for: {customer_id} in {store}')\n",
    "\n",
    "    # Get user parameters\n",
    "    df = context.client.read('kv', context.customers_table, filter=f'id=={customer_id}').reset_index()\n",
    "\n",
    "    # Do we have features for the user?\n",
    "    if not df.empty:\n",
    "                             \n",
    "        # Create features df for the user\n",
    "        df = prepare_df(df)\n",
    "                            \n",
    "        # Predict\n",
    "        df[\"prediction\"] = context.model.predict(df)\n",
    "                             \n",
    "        # Eliminate low confidence results\n",
    "        df = df.loc[df.prediction > 0.01, ['prediction', 'product_id']]\n",
    "\n",
    "        # Keep top products\n",
    "        df.sort_values(by='prediction', ascending=False, inplace=True)\n",
    "        best_products = df.iloc[:context.k, :]\n",
    "        best_products = best_products.reset_index()\n",
    "        best_products = best_products.reset_index()\n",
    "        best_products = best_products.rename(columns={'level_0': 'prediction_num'})\n",
    "        best_products['customer_id'] = int(customer_id)\n",
    "        best_products['store'] = store\n",
    "        best_products['time'] = datetime.datetime.now()\n",
    "        best_products = best_products.drop('index', axis=1)\n",
    "        best_products = best_products.set_index(['time', 'store', 'prediction_num', 'product_id'])\n",
    "        context.logger.debug(f'Predicted:\\n{best_products}')\n",
    "        \n",
    "                            \n",
    "        # Save results to DB\n",
    "        context.client.write('tsdb', context.predictions, best_products)"
   ]
  },
  {
   "cell_type": "code",
   "execution_count": 14,
   "metadata": {},
   "outputs": [],
   "source": [
    "# nuclio: ignore\n",
    "init_context(context)"
   ]
  },
  {
   "cell_type": "code",
   "execution_count": 16,
   "metadata": {},
   "outputs": [],
   "source": [
    "# nuclio: ignore\n",
    "event = nuclio.Event(body={'id': '1232', 'store': '03311311313011021022'})\n",
    "handler(context, event)"
   ]
  },
  {
   "cell_type": "code",
   "execution_count": 19,
   "metadata": {},
   "outputs": [
    {
     "data": {
      "text/html": [
       "<div>\n",
       "<style scoped>\n",
       "    .dataframe tbody tr th:only-of-type {\n",
       "        vertical-align: middle;\n",
       "    }\n",
       "\n",
       "    .dataframe tbody tr th {\n",
       "        vertical-align: top;\n",
       "    }\n",
       "\n",
       "    .dataframe thead th {\n",
       "        text-align: right;\n",
       "    }\n",
       "</style>\n",
       "<table border=\"1\" class=\"dataframe\">\n",
       "  <thead>\n",
       "    <tr style=\"text-align: right;\">\n",
       "      <th></th>\n",
       "      <th>customer_id</th>\n",
       "      <th>prediction</th>\n",
       "      <th>prediction_num</th>\n",
       "      <th>product_id</th>\n",
       "      <th>store</th>\n",
       "    </tr>\n",
       "    <tr>\n",
       "      <th>time</th>\n",
       "      <th></th>\n",
       "      <th></th>\n",
       "      <th></th>\n",
       "      <th></th>\n",
       "      <th></th>\n",
       "    </tr>\n",
       "  </thead>\n",
       "  <tbody>\n",
       "    <tr>\n",
       "      <th>2019-08-11 12:34:28.806</th>\n",
       "      <td>1232.0</td>\n",
       "      <td>0.195523</td>\n",
       "      <td>2</td>\n",
       "      <td>24852</td>\n",
       "      <td>03311311313011021022</td>\n",
       "    </tr>\n",
       "    <tr>\n",
       "      <th>2019-08-11 12:34:28.806</th>\n",
       "      <td>1232.0</td>\n",
       "      <td>0.188855</td>\n",
       "      <td>3</td>\n",
       "      <td>5884</td>\n",
       "      <td>03311311313011021022</td>\n",
       "    </tr>\n",
       "    <tr>\n",
       "      <th>2019-08-11 12:34:28.806</th>\n",
       "      <td>1232.0</td>\n",
       "      <td>0.307525</td>\n",
       "      <td>0</td>\n",
       "      <td>1940</td>\n",
       "      <td>03311311313011021022</td>\n",
       "    </tr>\n",
       "    <tr>\n",
       "      <th>2019-08-11 12:34:28.806</th>\n",
       "      <td>1232.0</td>\n",
       "      <td>0.200307</td>\n",
       "      <td>1</td>\n",
       "      <td>9387</td>\n",
       "      <td>03311311313011021022</td>\n",
       "    </tr>\n",
       "  </tbody>\n",
       "</table>\n",
       "</div>"
      ],
      "text/plain": [
       "                         customer_id  prediction prediction_num product_id  \\\n",
       "time                                                                         \n",
       "2019-08-11 12:34:28.806       1232.0    0.195523              2      24852   \n",
       "2019-08-11 12:34:28.806       1232.0    0.188855              3       5884   \n",
       "2019-08-11 12:34:28.806       1232.0    0.307525              0       1940   \n",
       "2019-08-11 12:34:28.806       1232.0    0.200307              1       9387   \n",
       "\n",
       "                                        store  \n",
       "time                                           \n",
       "2019-08-11 12:34:28.806  03311311313011021022  \n",
       "2019-08-11 12:34:28.806  03311311313011021022  \n",
       "2019-08-11 12:34:28.806  03311311313011021022  \n",
       "2019-08-11 12:34:28.806  03311311313011021022  "
      ]
     },
     "execution_count": 19,
     "metadata": {},
     "output_type": "execute_result"
    }
   ],
   "source": [
    "# nuclio: ignore\n",
    "context.client.read('tsdb', context.predictions)"
   ]
  },
  {
   "cell_type": "code",
   "execution_count": 18,
   "metadata": {},
   "outputs": [
    {
     "name": "stdout",
     "output_type": "stream",
     "text": [
      "[nuclio.deploy] 2019-08-11 12:34:44,484 (info) Building processor image\n",
      "[nuclio.deploy] 2019-08-11 12:34:48,553 (info) Pushing image\n",
      "[nuclio.deploy] 2019-08-11 12:35:03,785 (info) Build complete\n",
      "[nuclio.deploy] 2019-08-11 12:35:08,840 (info) Function deploy complete\n",
      "[nuclio.deploy] 2019-08-11 12:35:08,847 done updating prediction-server, function address: 3.120.15.118:32692\n",
      "%nuclio: function deployed\n"
     ]
    }
   ],
   "source": [
    "%nuclio deploy -n prediction_server -p recommendation_engine -c"
   ]
  },
  {
   "cell_type": "code",
   "execution_count": null,
   "metadata": {},
   "outputs": [],
   "source": []
  }
 ],
 "metadata": {
  "kernelspec": {
   "display_name": "Python 3",
   "language": "python",
   "name": "python3"
  },
  "language_info": {
   "codemirror_mode": {
    "name": "ipython",
    "version": 3
   },
   "file_extension": ".py",
   "mimetype": "text/x-python",
   "name": "python",
   "nbconvert_exporter": "python",
   "pygments_lexer": "ipython3",
   "version": "3.6.8"
  }
 },
 "nbformat": 4,
 "nbformat_minor": 4
}
