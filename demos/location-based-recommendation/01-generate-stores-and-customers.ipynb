{
 "cells": [
  {
   "cell_type": "markdown",
   "metadata": {},
   "source": [
    "# Generate stores & customers for the demo"
   ]
  },
  {
   "cell_type": "markdown",
   "metadata": {},
   "source": [
    "## Setup the environment"
   ]
  },
  {
   "cell_type": "markdown",
   "metadata": {},
   "source": [
    "### Install packages"
   ]
  },
  {
   "cell_type": "markdown",
   "metadata": {},
   "source": [
    "> **Note:** After running the pip command you should restart the Jupyter kernel.<br>\n",
    "> To restart the kernel, click on the kernel-restart button in the notebook's action toolbar (the refresh icon next to the **Code** button)."
   ]
  },
  {
   "cell_type": "code",
   "execution_count": 46,
   "metadata": {},
   "outputs": [
    {
     "name": "stdout",
     "output_type": "stream",
     "text": [
      "Requirement already satisfied: faker in /User/.pythonlibs/jupyter-notebook/lib/python3.6/site-packages (3.0.0)\n",
      "Requirement already satisfied: six>=1.10 in /conda/lib/python3.6/site-packages (from faker) (1.13.0)\n",
      "Requirement already satisfied: python-dateutil>=2.4 in /conda/lib/python3.6/site-packages (from faker) (2.8.1)\n",
      "Requirement already satisfied: text-unidecode==1.3 in /User/.pythonlibs/jupyter-notebook/lib/python3.6/site-packages (from faker) (1.3)\n",
      "Requirement already satisfied: pymorton in /User/.pythonlibs/jupyter-notebook/lib/python3.6/site-packages (1.0.5)\n",
      "Requirement already satisfied: v3io in /User/.pythonlibs/jupyter-notebook/lib/python3.6/site-packages (0.1.1)\n",
      "Requirement already satisfied: future==0.17.1 in /User/.pythonlibs/jupyter-notebook/lib/python3.6/site-packages (from v3io) (0.17.1)\n",
      "Requirement already satisfied: requests==2.21.0 in /User/.pythonlibs/jupyter-notebook/lib/python3.6/site-packages (from v3io) (2.21.0)\n",
      "Requirement already satisfied: ujson==1.35 in /User/.pythonlibs/jupyter-notebook/lib/python3.6/site-packages (from v3io) (1.35)\n",
      "Requirement already satisfied: certifi>=2017.4.17 in /conda/lib/python3.6/site-packages (from requests==2.21.0->v3io) (2019.11.28)\n",
      "Requirement already satisfied: idna<2.9,>=2.5 in /conda/lib/python3.6/site-packages (from requests==2.21.0->v3io) (2.8)\n",
      "Requirement already satisfied: urllib3<1.25,>=1.21.1 in /User/.pythonlibs/jupyter-notebook/lib/python3.6/site-packages (from requests==2.21.0->v3io) (1.24.3)\n",
      "Requirement already satisfied: chardet<3.1.0,>=3.0.2 in /conda/lib/python3.6/site-packages (from requests==2.21.0->v3io) (3.0.4)\n",
      "Requirement already satisfied: v3io_frames in /conda/lib/python3.6/site-packages (0.6.3)\n",
      "Requirement already satisfied: pandas>=0.23.4 in /conda/lib/python3.6/site-packages (from v3io_frames) (0.24.2)\n",
      "Requirement already satisfied: googleapis-common-protos>=1.5.3 in /conda/lib/python3.6/site-packages (from v3io_frames) (1.6.0)\n",
      "Requirement already satisfied: grpcio-tools>=1.16.0 in /conda/lib/python3.6/site-packages (from v3io_frames) (1.26.0)\n",
      "Requirement already satisfied: requests>=2.19.1 in /User/.pythonlibs/jupyter-notebook/lib/python3.6/site-packages (from v3io_frames) (2.21.0)\n",
      "Requirement already satisfied: numpy>=1.12.0 in /conda/lib/python3.6/site-packages (from pandas>=0.23.4->v3io_frames) (1.17.4)\n",
      "Requirement already satisfied: pytz>=2011k in /conda/lib/python3.6/site-packages (from pandas>=0.23.4->v3io_frames) (2019.3)\n",
      "Requirement already satisfied: python-dateutil>=2.5.0 in /conda/lib/python3.6/site-packages (from pandas>=0.23.4->v3io_frames) (2.8.1)\n",
      "Requirement already satisfied: protobuf>=3.6.0 in /conda/lib/python3.6/site-packages (from googleapis-common-protos>=1.5.3->v3io_frames) (3.11.2)\n",
      "Requirement already satisfied: grpcio>=1.26.0 in /conda/lib/python3.6/site-packages (from grpcio-tools>=1.16.0->v3io_frames) (1.26.0)\n",
      "Requirement already satisfied: urllib3<1.25,>=1.21.1 in /User/.pythonlibs/jupyter-notebook/lib/python3.6/site-packages (from requests>=2.19.1->v3io_frames) (1.24.3)\n",
      "Requirement already satisfied: chardet<3.1.0,>=3.0.2 in /conda/lib/python3.6/site-packages (from requests>=2.19.1->v3io_frames) (3.0.4)\n",
      "Requirement already satisfied: certifi>=2017.4.17 in /conda/lib/python3.6/site-packages (from requests>=2.19.1->v3io_frames) (2019.11.28)\n",
      "Requirement already satisfied: idna<2.9,>=2.5 in /conda/lib/python3.6/site-packages (from requests>=2.19.1->v3io_frames) (2.8)\n",
      "Requirement already satisfied: six>=1.5 in /conda/lib/python3.6/site-packages (from python-dateutil>=2.5.0->pandas>=0.23.4->v3io_frames) (1.13.0)\n",
      "Requirement already satisfied: setuptools in /conda/lib/python3.6/site-packages (from protobuf>=3.6.0->googleapis-common-protos>=1.5.3->v3io_frames) (42.0.2.post20191203)\n"
     ]
    }
   ],
   "source": [
    "!pip install faker\n",
    "!pip install pymorton\n",
    "!pip install v3io\n",
    "!pip install v3io_frames"
   ]
  },
  {
   "cell_type": "markdown",
   "metadata": {},
   "source": [
    "### imports"
   ]
  },
  {
   "cell_type": "code",
   "execution_count": 47,
   "metadata": {},
   "outputs": [],
   "source": [
    "import logging\n",
    "import os\n",
    "import pickle\n",
    "import random\n",
    "import itertools\n",
    "\n",
    "# Demo\n",
    "import pandas as pd\n",
    "import pymorton as pm\n",
    "from faker import Faker\n",
    "from faker.providers import BaseProvider\n",
    "\n",
    "# DB\n",
    "import v3io as v3c\n",
    "import sys\n",
    "sys.path.append('../../')\n",
    "import v3io_frames_local as v3f"
   ]
  },
  {
   "cell_type": "markdown",
   "metadata": {},
   "source": [
    "### Define environment variables"
   ]
  },
  {
   "cell_type": "code",
   "execution_count": 48,
   "metadata": {},
   "outputs": [],
   "source": [
    "# Stores\n",
    "NUMBER_OF_STORES=50\n",
    "STORES_TABLE=os.path.join(os.getenv('V3IO_USERNAME', 'iguazio'), 'stores')\n",
    "ACCURACY=20\n",
    "BASE_ACCURACY=14\n",
    "\n",
    "# Customers\n",
    "NUMBER_OF_CUSTOMERS=5000\n",
    "CUSTOMERS_TABLE=os.path.join(os.getenv('V3IO_USERNAME', 'iguazio'), 'customers')\n",
    "os.environ['CUSTOMERS_DATA_FILE_DIR'] = os.path.join(os.getcwd(), 'data')\n",
    "os.environ['CUSTOMERS_DATA_FILE_PATH'] = os.path.join(os.environ['CUSTOMERS_DATA_FILE_DIR'], 'data_train_n.csv')\n",
    "!mkdir -p ${CUSTOMERS_DATA_FILE_DIR}"
   ]
  },
  {
   "cell_type": "code",
   "execution_count": 49,
   "metadata": {},
   "outputs": [
    {
     "name": "stdout",
     "output_type": "stream",
     "text": [
      "  % Total    % Received % Xferd  Average Speed   Time    Time     Time  Current\n",
      "                                 Dload  Upload   Total   Spent    Left  Speed\n",
      "100  399M  100  399M    0     0  5304k      0  0:01:17  0:01:17 --:--:-- 4795k\n"
     ]
    }
   ],
   "source": [
    "!curl -L \"iguazio-sample-data.s3.amazonaws.com/data_train_n.csv\" > ${CUSTOMERS_DATA_FILE_PATH}"
   ]
  },
  {
   "cell_type": "code",
   "execution_count": 50,
   "metadata": {},
   "outputs": [
    {
     "name": "stdout",
     "output_type": "stream",
     "text": [
      "total 0\n",
      "-rw-r--r-- 1 root nogroup 400M Jan 10 18:17 data_train_n.csv\n"
     ]
    }
   ],
   "source": [
    "!ls -lah ${CUSTOMERS_DATA_FILE_DIR}"
   ]
  },
  {
   "cell_type": "markdown",
   "metadata": {},
   "source": [
    "### Open DB client"
   ]
  },
  {
   "cell_type": "code",
   "execution_count": 51,
   "metadata": {},
   "outputs": [],
   "source": [
    "client = v3f.Client('framesd:8081', container='users')"
   ]
  },
  {
   "cell_type": "markdown",
   "metadata": {},
   "source": [
    "## Generate Stores"
   ]
  },
  {
   "cell_type": "markdown",
   "metadata": {},
   "source": [
    "### Location provider"
   ]
  },
  {
   "cell_type": "code",
   "execution_count": 52,
   "metadata": {},
   "outputs": [],
   "source": [
    "class LocationProvider(BaseProvider):\n",
    "    '''\n",
    "    Creates locations within base_location\n",
    "\n",
    "    Uses QuadTree for Geohashing\n",
    "        @{http://tech.taskrabbit.com/blog/2015/06/09/elasticsearch-geohash-vs-geotree/}\n",
    "        @{http://mapzen.github.io/leaflet-spatial-prefix-tree/}\n",
    "        @{http://blog.notdot.net/2009/11/Damn-Cool-Algorithms-Spatial-indexing-with-Quadtrees-and-Hilbert-Curves}\n",
    "    '''    \n",
    "    def location(self, location_base: str, base_acc=10, acc=20):\n",
    "        coordinates = location_base[:base_acc]\n",
    "        for i in range(acc-len(coordinates)):\n",
    "            coordinates += str(random.randint(0, 3))\n",
    "        return coordinates"
   ]
  },
  {
   "cell_type": "markdown",
   "metadata": {},
   "source": [
    "Add the location provider as a faker provider"
   ]
  },
  {
   "cell_type": "code",
   "execution_count": 53,
   "metadata": {},
   "outputs": [],
   "source": [
    "faker = Faker()\n",
    "faker.add_provider(LocationProvider)"
   ]
  },
  {
   "cell_type": "markdown",
   "metadata": {},
   "source": [
    "### Define scenario environment (locations)"
   ]
  },
  {
   "cell_type": "code",
   "execution_count": 54,
   "metadata": {},
   "outputs": [
    {
     "data": {
      "text/plain": [
       "['03311311313011311011000321002320',\n",
       " '03311311311233323013031101320003',\n",
       " '03311311313010023000032330133111',\n",
       " '03311311311222300331010333220231']"
      ]
     },
     "execution_count": 54,
     "metadata": {},
     "output_type": "execute_result"
    }
   ],
   "source": [
    "london_city = (51.514926, -0.089580)\n",
    "london_city_south = (51.501593, -0.094942)\n",
    "london_west = (51.512309, -0.128966)\n",
    "london_south_west = (51.495022, -0.162268)\n",
    "\n",
    "london_coordinates = []\n",
    "london_coordinates.append(london_city)\n",
    "london_coordinates.append(london_city_south)\n",
    "london_coordinates.append(london_west)\n",
    "london_coordinates.append(london_south_west)\n",
    "\n",
    "london_coordinates_qt = list(map(lambda cooridnate: pm.interleave_latlng(*cooridnate), london_coordinates))\n",
    "london_coordinates_qt"
   ]
  },
  {
   "cell_type": "markdown",
   "metadata": {},
   "source": [
    "### Define Store class"
   ]
  },
  {
   "cell_type": "code",
   "execution_count": 55,
   "metadata": {},
   "outputs": [],
   "source": [
    "class Store(object):\n",
    "    def __init__(self, store_id: int, name: str, location: str):\n",
    "        self.store_id = store_id if store_id is not None else random.randint(1, int(os.genev('NUMBER_OF_STORES', 500)))\n",
    "        self.location = location\n",
    "        (self.lat, self.long) = pm.deinterleave_latlng(location)\n",
    "        self.store_name = name\n",
    "        self.customers = 0\n",
    "    \n",
    "    def json(self):\n",
    "        json_store = {\n",
    "            'id': self.store_id,\n",
    "            'name': self.store_name,\n",
    "            'location': self.location,\n",
    "            'latitude': self.lat,\n",
    "            'longitude': self.long,\n",
    "            'customers': self.customers\n",
    "        }\n",
    "        return json_store"
   ]
  },
  {
   "cell_type": "markdown",
   "metadata": {},
   "source": [
    "### Create stores"
   ]
  },
  {
   "cell_type": "code",
   "execution_count": 56,
   "metadata": {},
   "outputs": [],
   "source": [
    "def create_stores(faker, number_of_stores: int=500):\n",
    "    remaining = number_of_stores\n",
    "    stores = []\n",
    "    while remaining > 0:\n",
    "        # Create stores\n",
    "        stores_batch = [Store(faker.msisdn(), faker.company(), faker.location(random.choice(london_coordinates_qt), BASE_ACCURACY, ACCURACY)).json() \n",
    "              for i in range(remaining)]\n",
    "        \n",
    "        # Count for duplicate locations\n",
    "        locations = list(map(lambda store: store['location'], stores_batch))\n",
    "        locations = list(dict.fromkeys(locations))\n",
    "        remaining -= len(locations)\n",
    "        \n",
    "        # Update stores list\n",
    "        stores.append(stores_batch)\n",
    "\n",
    "    stores = list(itertools.chain.from_iterable(stores))\n",
    "    stores = pd.DataFrame.from_records(stores)\n",
    "    stores = stores.set_index(['location'])\n",
    "    stores = stores[~stores.index.duplicated(keep='first')]\n",
    "    return stores"
   ]
  },
  {
   "cell_type": "code",
   "execution_count": 57,
   "metadata": {},
   "outputs": [],
   "source": [
    "client.delete('kv', STORES_TABLE, if_missing=1)"
   ]
  },
  {
   "cell_type": "code",
   "execution_count": 58,
   "metadata": {},
   "outputs": [
    {
     "data": {
      "text/html": [
       "<div>\n",
       "<style scoped>\n",
       "    .dataframe tbody tr th:only-of-type {\n",
       "        vertical-align: middle;\n",
       "    }\n",
       "\n",
       "    .dataframe tbody tr th {\n",
       "        vertical-align: top;\n",
       "    }\n",
       "\n",
       "    .dataframe thead th {\n",
       "        text-align: right;\n",
       "    }\n",
       "</style>\n",
       "<table border=\"1\" class=\"dataframe\">\n",
       "  <thead>\n",
       "    <tr style=\"text-align: right;\">\n",
       "      <th></th>\n",
       "      <th>customers</th>\n",
       "      <th>id</th>\n",
       "      <th>latitude</th>\n",
       "      <th>longitude</th>\n",
       "      <th>name</th>\n",
       "    </tr>\n",
       "    <tr>\n",
       "      <th>location</th>\n",
       "      <th></th>\n",
       "      <th></th>\n",
       "      <th></th>\n",
       "      <th></th>\n",
       "      <th></th>\n",
       "    </tr>\n",
       "  </thead>\n",
       "  <tbody>\n",
       "    <tr>\n",
       "      <th>03311311311222323311</th>\n",
       "      <td>0</td>\n",
       "      <td>4180725720799</td>\n",
       "      <td>51.502533</td>\n",
       "      <td>-0.159645</td>\n",
       "      <td>Arnold, Costa and Taylor</td>\n",
       "    </tr>\n",
       "    <tr>\n",
       "      <th>03311311311233032331</th>\n",
       "      <td>0</td>\n",
       "      <td>2556497132084</td>\n",
       "      <td>51.492233</td>\n",
       "      <td>-0.101967</td>\n",
       "      <td>Nelson-Barrera</td>\n",
       "    </tr>\n",
       "    <tr>\n",
       "      <th>03311311311233133201</th>\n",
       "      <td>0</td>\n",
       "      <td>4166647808518</td>\n",
       "      <td>51.491547</td>\n",
       "      <td>-0.090294</td>\n",
       "      <td>Higgins-Sanchez</td>\n",
       "    </tr>\n",
       "    <tr>\n",
       "      <th>03311311313011202200</th>\n",
       "      <td>0</td>\n",
       "      <td>4613451694822</td>\n",
       "      <td>51.519012</td>\n",
       "      <td>-0.109863</td>\n",
       "      <td>Sloan-Ortiz</td>\n",
       "    </tr>\n",
       "    <tr>\n",
       "      <th>03311311311222012300</th>\n",
       "      <td>0</td>\n",
       "      <td>2898223416207</td>\n",
       "      <td>51.486053</td>\n",
       "      <td>-0.168915</td>\n",
       "      <td>Nichols-Gilmore</td>\n",
       "    </tr>\n",
       "  </tbody>\n",
       "</table>\n",
       "</div>"
      ],
      "text/plain": [
       "                      customers             id   latitude  longitude  \\\n",
       "location                                                               \n",
       "03311311311222323311          0  4180725720799  51.502533  -0.159645   \n",
       "03311311311233032331          0  2556497132084  51.492233  -0.101967   \n",
       "03311311311233133201          0  4166647808518  51.491547  -0.090294   \n",
       "03311311313011202200          0  4613451694822  51.519012  -0.109863   \n",
       "03311311311222012300          0  2898223416207  51.486053  -0.168915   \n",
       "\n",
       "                                          name  \n",
       "location                                        \n",
       "03311311311222323311  Arnold, Costa and Taylor  \n",
       "03311311311233032331            Nelson-Barrera  \n",
       "03311311311233133201           Higgins-Sanchez  \n",
       "03311311313011202200               Sloan-Ortiz  \n",
       "03311311311222012300           Nichols-Gilmore  "
      ]
     },
     "execution_count": 58,
     "metadata": {},
     "output_type": "execute_result"
    }
   ],
   "source": [
    "stores = create_stores(faker, NUMBER_OF_STORES)\n",
    "stores.head(5)"
   ]
  },
  {
   "cell_type": "markdown",
   "metadata": {},
   "source": [
    "### Upload to DB "
   ]
  },
  {
   "cell_type": "code",
   "execution_count": 59,
   "metadata": {},
   "outputs": [],
   "source": [
    "# client.delete('kv', STORES_TABLE)\n",
    "client.write('kv', STORES_TABLE, stores)"
   ]
  },
  {
   "cell_type": "code",
   "execution_count": 60,
   "metadata": {},
   "outputs": [
    {
     "data": {
      "text/html": [
       "<div>\n",
       "<style scoped>\n",
       "    .dataframe tbody tr th:only-of-type {\n",
       "        vertical-align: middle;\n",
       "    }\n",
       "\n",
       "    .dataframe tbody tr th {\n",
       "        vertical-align: top;\n",
       "    }\n",
       "\n",
       "    .dataframe thead th {\n",
       "        text-align: right;\n",
       "    }\n",
       "</style>\n",
       "<table border=\"1\" class=\"dataframe\">\n",
       "  <thead>\n",
       "    <tr style=\"text-align: right;\">\n",
       "      <th></th>\n",
       "      <th>customers</th>\n",
       "      <th>id</th>\n",
       "      <th>latitude</th>\n",
       "      <th>longitude</th>\n",
       "      <th>name</th>\n",
       "    </tr>\n",
       "    <tr>\n",
       "      <th>location</th>\n",
       "      <th></th>\n",
       "      <th></th>\n",
       "      <th></th>\n",
       "      <th></th>\n",
       "      <th></th>\n",
       "    </tr>\n",
       "  </thead>\n",
       "  <tbody>\n",
       "    <tr>\n",
       "      <th>03311311311233032331</th>\n",
       "      <td>0</td>\n",
       "      <td>2556497132084</td>\n",
       "      <td>51.492233</td>\n",
       "      <td>-0.101967</td>\n",
       "      <td>Nelson-Barrera</td>\n",
       "    </tr>\n",
       "    <tr>\n",
       "      <th>03311311313011102012</th>\n",
       "      <td>0</td>\n",
       "      <td>6253000155459</td>\n",
       "      <td>51.506996</td>\n",
       "      <td>-0.098190</td>\n",
       "      <td>Jenkins-Ramos</td>\n",
       "    </tr>\n",
       "    <tr>\n",
       "      <th>03311311311222310123</th>\n",
       "      <td>0</td>\n",
       "      <td>1893148783613</td>\n",
       "      <td>51.493950</td>\n",
       "      <td>-0.157585</td>\n",
       "      <td>Garza LLC</td>\n",
       "    </tr>\n",
       "    <tr>\n",
       "      <th>03311311311233203000</th>\n",
       "      <td>0</td>\n",
       "      <td>2782830086037</td>\n",
       "      <td>51.495667</td>\n",
       "      <td>-0.107117</td>\n",
       "      <td>Randolph, Collier and Rice</td>\n",
       "    </tr>\n",
       "    <tr>\n",
       "      <th>03311311313010333001</th>\n",
       "      <td>0</td>\n",
       "      <td>2549662772327</td>\n",
       "      <td>51.523132</td>\n",
       "      <td>-0.112267</td>\n",
       "      <td>Suarez, Mueller and Greene</td>\n",
       "    </tr>\n",
       "  </tbody>\n",
       "</table>\n",
       "</div>"
      ],
      "text/plain": [
       "                      customers             id   latitude  longitude  \\\n",
       "location                                                               \n",
       "03311311311233032331          0  2556497132084  51.492233  -0.101967   \n",
       "03311311313011102012          0  6253000155459  51.506996  -0.098190   \n",
       "03311311311222310123          0  1893148783613  51.493950  -0.157585   \n",
       "03311311311233203000          0  2782830086037  51.495667  -0.107117   \n",
       "03311311313010333001          0  2549662772327  51.523132  -0.112267   \n",
       "\n",
       "                                            name  \n",
       "location                                          \n",
       "03311311311233032331              Nelson-Barrera  \n",
       "03311311313011102012               Jenkins-Ramos  \n",
       "03311311311222310123                   Garza LLC  \n",
       "03311311311233203000  Randolph, Collier and Rice  \n",
       "03311311313010333001  Suarez, Mueller and Greene  "
      ]
     },
     "execution_count": 60,
     "metadata": {},
     "output_type": "execute_result"
    }
   ],
   "source": [
    "client.read('kv', STORES_TABLE).head(5)"
   ]
  },
  {
   "cell_type": "markdown",
   "metadata": {},
   "source": [
    "## Generate customers"
   ]
  },
  {
   "cell_type": "code",
   "execution_count": 61,
   "metadata": {},
   "outputs": [],
   "source": [
    "class Customer(object):\n",
    "    def __init__(self, id=0, location='0', products=\"\"):\n",
    "        self.id = id\n",
    "        self.location = location\n",
    "        self.products = products\n",
    "        \n",
    "    def json(self):\n",
    "        json_customer = {\n",
    "            'id': self.id,\n",
    "            'location': self.location,\n",
    "            'products': self.products\n",
    "        }\n",
    "        return json_customer"
   ]
  },
  {
   "cell_type": "code",
   "execution_count": 62,
   "metadata": {},
   "outputs": [],
   "source": [
    "def create_customers(customers_data: pd.DataFrame, number_of_customers: int):\n",
    "    available_customer = list(customers_data.user_id)\n",
    "    customers = [Customer(id=i,\n",
    "                          products=customers_data.loc[customers_data['user_id'] == random.choice(available_customer)]\\\n",
    "                                    .drop(['user_id', 'Unnamed: 0'], axis=1)\\\n",
    "                                    .to_json()).json() for i in range(number_of_customers)]\n",
    "    customers = pd.DataFrame.from_records(customers)\n",
    "    customers.set_index(['id'])\n",
    "    \n",
    "    # Verify string length for KV\n",
    "    customers['verification'] = customers['products'].apply(lambda x: len(x.encode('utf-8')))\n",
    "    customers = customers.loc[customers['verification'] <= 61000]\n",
    "    customers = customers.drop(columns='verification')\n",
    "    \n",
    "    # Fix index\n",
    "    customers = customers.reset_index(drop=True)\n",
    "    return customers"
   ]
  },
  {
   "cell_type": "code",
   "execution_count": 63,
   "metadata": {},
   "outputs": [
    {
     "data": {
      "text/html": [
       "<div>\n",
       "<style scoped>\n",
       "    .dataframe tbody tr th:only-of-type {\n",
       "        vertical-align: middle;\n",
       "    }\n",
       "\n",
       "    .dataframe tbody tr th {\n",
       "        vertical-align: top;\n",
       "    }\n",
       "\n",
       "    .dataframe thead th {\n",
       "        text-align: right;\n",
       "    }\n",
       "</style>\n",
       "<table border=\"1\" class=\"dataframe\">\n",
       "  <thead>\n",
       "    <tr style=\"text-align: right;\">\n",
       "      <th></th>\n",
       "      <th>id</th>\n",
       "      <th>location</th>\n",
       "      <th>products</th>\n",
       "    </tr>\n",
       "  </thead>\n",
       "  <tbody>\n",
       "    <tr>\n",
       "      <th>0</th>\n",
       "      <td>0</td>\n",
       "      <td>0</td>\n",
       "      <td>{\"user_product_reordered_ratio\":{\"147444\":1.0,...</td>\n",
       "    </tr>\n",
       "    <tr>\n",
       "      <th>1</th>\n",
       "      <td>1</td>\n",
       "      <td>0</td>\n",
       "      <td>{\"user_product_reordered_ratio\":{\"163784\":1.0,...</td>\n",
       "    </tr>\n",
       "    <tr>\n",
       "      <th>2</th>\n",
       "      <td>2</td>\n",
       "      <td>0</td>\n",
       "      <td>{\"user_product_reordered_ratio\":{\"8373\":1.0,\"7...</td>\n",
       "    </tr>\n",
       "    <tr>\n",
       "      <th>3</th>\n",
       "      <td>3</td>\n",
       "      <td>0</td>\n",
       "      <td>{\"user_product_reordered_ratio\":{\"154069\":1.0,...</td>\n",
       "    </tr>\n",
       "    <tr>\n",
       "      <th>4</th>\n",
       "      <td>4</td>\n",
       "      <td>0</td>\n",
       "      <td>{\"user_product_reordered_ratio\":{\"40121\":1.0,\"...</td>\n",
       "    </tr>\n",
       "  </tbody>\n",
       "</table>\n",
       "</div>"
      ],
      "text/plain": [
       "   id location                                           products\n",
       "0   0        0  {\"user_product_reordered_ratio\":{\"147444\":1.0,...\n",
       "1   1        0  {\"user_product_reordered_ratio\":{\"163784\":1.0,...\n",
       "2   2        0  {\"user_product_reordered_ratio\":{\"8373\":1.0,\"7...\n",
       "3   3        0  {\"user_product_reordered_ratio\":{\"154069\":1.0,...\n",
       "4   4        0  {\"user_product_reordered_ratio\":{\"40121\":1.0,\"..."
      ]
     },
     "execution_count": 63,
     "metadata": {},
     "output_type": "execute_result"
    }
   ],
   "source": [
    "# Load customers seed data\n",
    "customers_data = pd.read_csv(os.environ['CUSTOMERS_DATA_FILE_PATH'])\n",
    "\n",
    "# Create actual customers\n",
    "customers = create_customers(customers_data, NUMBER_OF_CUSTOMERS)\n",
    "customers.head(5)"
   ]
  },
  {
   "cell_type": "markdown",
   "metadata": {},
   "source": [
    "## Upload to DB"
   ]
  },
  {
   "cell_type": "code",
   "execution_count": 64,
   "metadata": {},
   "outputs": [],
   "source": [
    "client.delete('kv', CUSTOMERS_TABLE, if_missing=1)\n",
    "client.write('kv', CUSTOMERS_TABLE, dfs=customers)"
   ]
  },
  {
   "cell_type": "code",
   "execution_count": 65,
   "metadata": {},
   "outputs": [
    {
     "name": "stdout",
     "output_type": "stream",
     "text": [
      "Customers table sized: (4978, 3)\n"
     ]
    },
    {
     "data": {
      "text/html": [
       "<div>\n",
       "<style scoped>\n",
       "    .dataframe tbody tr th:only-of-type {\n",
       "        vertical-align: middle;\n",
       "    }\n",
       "\n",
       "    .dataframe tbody tr th {\n",
       "        vertical-align: top;\n",
       "    }\n",
       "\n",
       "    .dataframe thead th {\n",
       "        text-align: right;\n",
       "    }\n",
       "</style>\n",
       "<table border=\"1\" class=\"dataframe\">\n",
       "  <thead>\n",
       "    <tr style=\"text-align: right;\">\n",
       "      <th></th>\n",
       "      <th>id</th>\n",
       "      <th>location</th>\n",
       "      <th>products</th>\n",
       "    </tr>\n",
       "    <tr>\n",
       "      <th>idx</th>\n",
       "      <th></th>\n",
       "      <th></th>\n",
       "      <th></th>\n",
       "    </tr>\n",
       "  </thead>\n",
       "  <tbody>\n",
       "    <tr>\n",
       "      <th>101</th>\n",
       "      <td>101</td>\n",
       "      <td>0</td>\n",
       "      <td>{\"user_product_reordered_ratio\":{\"336520\":1.0,...</td>\n",
       "    </tr>\n",
       "    <tr>\n",
       "      <th>1686</th>\n",
       "      <td>1697</td>\n",
       "      <td>0</td>\n",
       "      <td>{\"user_product_reordered_ratio\":{\"24495\":1.0,\"...</td>\n",
       "    </tr>\n",
       "    <tr>\n",
       "      <th>1848</th>\n",
       "      <td>1861</td>\n",
       "      <td>0</td>\n",
       "      <td>{\"user_product_reordered_ratio\":{\"53188\":1.0,\"...</td>\n",
       "    </tr>\n",
       "    <tr>\n",
       "      <th>4887</th>\n",
       "      <td>4909</td>\n",
       "      <td>0</td>\n",
       "      <td>{\"user_product_reordered_ratio\":{\"475299\":1.0,...</td>\n",
       "    </tr>\n",
       "    <tr>\n",
       "      <th>2901</th>\n",
       "      <td>2917</td>\n",
       "      <td>0</td>\n",
       "      <td>{\"user_product_reordered_ratio\":{\"46623\":1.0,\"...</td>\n",
       "    </tr>\n",
       "  </tbody>\n",
       "</table>\n",
       "</div>"
      ],
      "text/plain": [
       "        id location                                           products\n",
       "idx                                                                   \n",
       "101    101        0  {\"user_product_reordered_ratio\":{\"336520\":1.0,...\n",
       "1686  1697        0  {\"user_product_reordered_ratio\":{\"24495\":1.0,\"...\n",
       "1848  1861        0  {\"user_product_reordered_ratio\":{\"53188\":1.0,\"...\n",
       "4887  4909        0  {\"user_product_reordered_ratio\":{\"475299\":1.0,...\n",
       "2901  2917        0  {\"user_product_reordered_ratio\":{\"46623\":1.0,\"..."
      ]
     },
     "execution_count": 65,
     "metadata": {},
     "output_type": "execute_result"
    }
   ],
   "source": [
    "print(f'Customers table sized: {client.read(\"kv\", CUSTOMERS_TABLE).shape}')\n",
    "client.read('kv', CUSTOMERS_TABLE).head(5)"
   ]
  },
  {
   "cell_type": "markdown",
   "metadata": {},
   "source": [
    "## Generate predictions"
   ]
  },
  {
   "cell_type": "code",
   "execution_count": 66,
   "metadata": {},
   "outputs": [
    {
     "ename": "TypeError",
     "evalue": "create() got multiple values for argument 'if_exists'",
     "output_type": "error",
     "traceback": [
      "\u001b[0;31m---------------------------------------------------------------------------\u001b[0m",
      "\u001b[0;31mTypeError\u001b[0m                                 Traceback (most recent call last)",
      "\u001b[0;32m<ipython-input-66-8a7c0c19b84a>\u001b[0m in \u001b[0;36m<module>\u001b[0;34m\u001b[0m\n\u001b[1;32m      1\u001b[0m \u001b[0;31m# client.delete('tsdb', 'predictions', if_missing=1)\u001b[0m\u001b[0;34m\u001b[0m\u001b[0;34m\u001b[0m\u001b[0;34m\u001b[0m\u001b[0m\n\u001b[0;32m----> 2\u001b[0;31m \u001b[0mclient\u001b[0m\u001b[0;34m.\u001b[0m\u001b[0mcreate\u001b[0m\u001b[0;34m(\u001b[0m\u001b[0;34m'tsdb'\u001b[0m\u001b[0;34m,\u001b[0m \u001b[0mos\u001b[0m\u001b[0;34m.\u001b[0m\u001b[0mgetenv\u001b[0m\u001b[0;34m(\u001b[0m\u001b[0;34m'V3IO_USERNAME'\u001b[0m\u001b[0;34m)\u001b[0m\u001b[0;34m,\u001b[0m \u001b[0;34m'iguazio'\u001b[0m\u001b[0;34m,\u001b[0m \u001b[0;34m'predictions'\u001b[0m\u001b[0;34m,\u001b[0m \u001b[0mrate\u001b[0m\u001b[0;34m=\u001b[0m\u001b[0;34m'1/s'\u001b[0m\u001b[0;34m,\u001b[0m \u001b[0mif_exists\u001b[0m\u001b[0;34m=\u001b[0m\u001b[0;36m1\u001b[0m\u001b[0;34m)\u001b[0m\u001b[0;34m\u001b[0m\u001b[0;34m\u001b[0m\u001b[0m\n\u001b[0m",
      "\u001b[0;31mTypeError\u001b[0m: create() got multiple values for argument 'if_exists'"
     ]
    }
   ],
   "source": [
    "# client.delete('tsdb', 'predictions', if_missing=1)\n",
    "client.create('tsdb', os.getenv('V3IO_USERNAME'), 'iguazio', 'predictions', rate='1/s', if_exists=1)"
   ]
  },
  {
   "cell_type": "code",
   "execution_count": null,
   "metadata": {},
   "outputs": [],
   "source": []
  }
 ],
 "metadata": {
  "kernelspec": {
   "display_name": "Python 3",
   "language": "python",
   "name": "python3"
  },
  "language_info": {
   "codemirror_mode": {
    "name": "ipython",
    "version": 3
   },
   "file_extension": ".py",
   "mimetype": "text/x-python",
   "name": "python",
   "nbconvert_exporter": "python",
   "pygments_lexer": "ipython3",
   "version": "3.6.8"
  }
 },
 "nbformat": 4,
 "nbformat_minor": 4
}
