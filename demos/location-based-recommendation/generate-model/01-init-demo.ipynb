{
 "cells": [
  {
   "cell_type": "markdown",
   "metadata": {},
   "source": [
    "# Prepare initial datasets"
   ]
  },
  {
   "cell_type": "markdown",
   "metadata": {},
   "source": [
    "## Install Kaggle API"
   ]
  },
  {
   "cell_type": "code",
   "execution_count": 1,
   "metadata": {},
   "outputs": [
    {
     "name": "stdout",
     "output_type": "stream",
     "text": [
      "Collecting kaggle\n",
      "\u001b[?25l  Downloading https://files.pythonhosted.org/packages/78/3a/64a6447e5faa313b70cb555e21b5a30718c95bcc4902d91784b57fbab737/kaggle-1.5.3.tar.gz (54kB)\n",
      "\u001b[K    100% |################################| 61kB 20.0MB/s \n",
      "\u001b[?25hRequirement already satisfied, skipping upgrade: urllib3<1.25,>=1.21.1 in /conda/lib/python3.6/site-packages (from kaggle) (1.24.1)\n",
      "Requirement already satisfied, skipping upgrade: six>=1.10 in /conda/lib/python3.6/site-packages (from kaggle) (1.12.0)\n",
      "Requirement already satisfied, skipping upgrade: certifi in /conda/lib/python3.6/site-packages (from kaggle) (2019.3.9)\n",
      "Requirement already satisfied, skipping upgrade: python-dateutil in /conda/lib/python3.6/site-packages (from kaggle) (2.8.0)\n",
      "Requirement already satisfied, skipping upgrade: requests in /conda/lib/python3.6/site-packages (from kaggle) (2.21.0)\n",
      "Collecting tqdm (from kaggle)\n",
      "\u001b[?25l  Downloading https://files.pythonhosted.org/packages/6c/4b/c38b5144cf167c4f52288517436ccafefe9dc01b8d1c190e18a6b154cd4a/tqdm-4.31.1-py2.py3-none-any.whl (48kB)\n",
      "\u001b[K    100% |################################| 51kB 28.6MB/s \n",
      "\u001b[?25hCollecting python-slugify (from kaggle)\n",
      "  Downloading https://files.pythonhosted.org/packages/c1/19/c3cf1dc65e89aa999f85a4a3a4924ccac765a6964b405d487b7b7c8bb39f/python-slugify-3.0.2.tar.gz\n",
      "Requirement already satisfied, skipping upgrade: chardet<3.1.0,>=3.0.2 in /conda/lib/python3.6/site-packages (from requests->kaggle) (3.0.4)\n",
      "Requirement already satisfied, skipping upgrade: idna<2.9,>=2.5 in /conda/lib/python3.6/site-packages (from requests->kaggle) (2.8)\n",
      "Collecting text-unidecode==1.2 (from python-slugify->kaggle)\n",
      "\u001b[?25l  Downloading https://files.pythonhosted.org/packages/79/42/d717cc2b4520fb09e45b344b1b0b4e81aa672001dd128c180fabc655c341/text_unidecode-1.2-py2.py3-none-any.whl (77kB)\n",
      "\u001b[K    100% |################################| 81kB 24.6MB/s \n",
      "\u001b[?25hBuilding wheels for collected packages: kaggle, python-slugify\n",
      "  Running setup.py bdist_wheel for kaggle ... \u001b[?25ldone\n",
      "\u001b[?25h  Stored in directory: /igz/.cache/pip/wheels/ee/97/c5/87dcdc9434fe4e632ed5945e31a03703af229db178ef6a00e8\n",
      "  Running setup.py bdist_wheel for python-slugify ... \u001b[?25ldone\n",
      "\u001b[?25h  Stored in directory: /igz/.cache/pip/wheels/16/7f/c3/6b0582283ad589d68a306da924a78c74546e010d8106b9b3a9\n",
      "Successfully built kaggle python-slugify\n",
      "Installing collected packages: tqdm, text-unidecode, python-slugify, kaggle\n",
      "Successfully installed kaggle python-slugify text-unidecode tqdm\n"
     ]
    }
   ],
   "source": [
    "!pip install kaggle --upgrade"
   ]
  },
  {
   "cell_type": "code",
   "execution_count": 2,
   "metadata": {},
   "outputs": [],
   "source": [
    "import json"
   ]
  },
  {
   "cell_type": "code",
   "execution_count": 6,
   "metadata": {},
   "outputs": [
    {
     "name": "stdout",
     "output_type": "stream",
     "text": [
      "mkdir: cannot create directory '/User/.kaggle': File exists\n"
     ]
    }
   ],
   "source": [
    "!mkdir ~/.kaggle\n",
    "with open('/User/.kaggle/kaggle.json', 'w') as f:\n",
    "    f.write(json.dumps(kaggle_api_token))\n",
    "!chmod 600 ~/.kaggle/kaggle.json"
   ]
  },
  {
   "cell_type": "markdown",
   "metadata": {},
   "source": [
    "## Create Data directory and Download zips from Kaggle"
   ]
  },
  {
   "cell_type": "code",
   "execution_count": 7,
   "metadata": {},
   "outputs": [
    {
     "name": "stdout",
     "output_type": "stream",
     "text": [
      "mkdir: cannot create directory './data': File exists\n",
      "Downloading departments.csv.zip to /User/demos/location-based-recommendation\n",
      "  0%|                                                 | 0.00/804 [00:00<?, ?B/s]\n",
      "100%|###########################################| 804/804 [00:00<00:00, 126kB/s]\n",
      "Downloading aisles.csv.zip to /User/demos/location-based-recommendation\n",
      "  0%|                                               | 0.00/1.87k [00:00<?, ?B/s]\n",
      "100%|#######################################| 1.87k/1.87k [00:00<00:00, 300kB/s]\n",
      "Downloading order_products__train.csv.zip to /User/demos/location-based-recommendation\n",
      " 72%|###########################5          | 5.00M/6.90M [00:00<00:00, 16.2MB/s]\n",
      "100%|######################################| 6.90M/6.90M [00:00<00:00, 20.8MB/s]\n",
      "Downloading products.csv.zip to /User/demos/location-based-recommendation\n",
      "  0%|                                                | 0.00/795k [00:00<?, ?B/s]\n",
      "100%|########################################| 795k/795k [00:00<00:00, 52.5MB/s]\n",
      "Downloading orders.csv.zip to /User/demos/location-based-recommendation\n",
      " 80%|##############################3       | 25.0M/31.3M [00:02<00:00, 10.2MB/s]\n",
      "100%|######################################| 31.3M/31.3M [00:02<00:00, 15.6MB/s]\n",
      "Downloading order_products__prior.csv.zip to /User/demos/location-based-recommendation\n",
      " 99%|#######################################4| 155M/157M [00:09<00:00, 36.2MB/s]\n",
      "100%|########################################| 157M/157M [00:09<00:00, 17.9MB/s]\n",
      "Downloading sample_submission.csv.zip to /User/demos/location-based-recommendation\n",
      "  0%|                                                | 0.00/220k [00:00<?, ?B/s]\n",
      "100%|########################################| 220k/220k [00:00<00:00, 25.9MB/s]\n"
     ]
    }
   ],
   "source": [
    "!mkdir ./data\n",
    "!cd data\n",
    "!kaggle competitions download -c instacart-market-basket-analysis"
   ]
  },
  {
   "cell_type": "markdown",
   "metadata": {},
   "source": [
    "### Unzip & Delete"
   ]
  },
  {
   "cell_type": "code",
   "execution_count": 66,
   "metadata": {},
   "outputs": [
    {
     "name": "stdout",
     "output_type": "stream",
     "text": [
      "Archive:  ./order_products__prior.csv.zip\n",
      "  inflating: ./data/order_products__prior.csv  \n",
      "   creating: ./data/__MACOSX/\n",
      "  inflating: ./data/__MACOSX/._order_products__prior.csv  \n",
      "\n",
      "Archive:  ./order_products__train.csv.zip\n",
      "  inflating: ./data/order_products__train.csv  \n",
      "  inflating: ./data/__MACOSX/._order_products__train.csv  \n",
      "\n",
      "Archive:  ./aisles.csv.zip\n",
      "  inflating: ./data/aisles.csv       \n",
      "  inflating: ./data/__MACOSX/._aisles.csv  \n",
      "\n",
      "Archive:  ./orders.csv.zip\n",
      "  inflating: ./data/orders.csv       \n",
      "  inflating: ./data/__MACOSX/._orders.csv  \n",
      "\n",
      "Archive:  ./departments.csv.zip\n",
      "  inflating: ./data/departments.csv  \n",
      "  inflating: ./data/__MACOSX/._departments.csv  \n",
      "\n",
      "Archive:  ./products.csv.zip\n",
      "  inflating: ./data/products.csv     \n",
      "  inflating: ./data/__MACOSX/._products.csv  \n",
      "\n",
      "Archive:  ./sample_submission.csv.zip\n",
      "  inflating: ./data/sample_submission.csv  \n",
      "\n",
      "7 archives were successfully processed.\n"
     ]
    }
   ],
   "source": [
    "!unzip './*.zip' -d './data/'"
   ]
  },
  {
   "cell_type": "code",
   "execution_count": 67,
   "metadata": {},
   "outputs": [],
   "source": [
    "!rm ./*.zip"
   ]
  },
  {
   "cell_type": "code",
   "execution_count": null,
   "metadata": {},
   "outputs": [],
   "source": []
  }
 ],
 "metadata": {
  "kernelspec": {
   "display_name": "Python 3",
   "language": "python",
   "name": "python3"
  },
  "language_info": {
   "codemirror_mode": {
    "name": "ipython",
    "version": 3
   },
   "file_extension": ".py",
   "mimetype": "text/x-python",
   "name": "python",
   "nbconvert_exporter": "python",
   "pygments_lexer": "ipython3",
   "version": "3.6.8"
  }
 },
 "nbformat": 4,
 "nbformat_minor": 2
}
