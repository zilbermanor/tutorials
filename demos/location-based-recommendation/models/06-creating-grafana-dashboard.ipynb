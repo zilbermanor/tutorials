{
 "cells": [
  {
   "cell_type": "markdown",
   "metadata": {},
   "source": [
    "# Creating the Grafana dashboard"
   ]
  },
  {
   "cell_type": "markdown",
   "metadata": {},
   "source": [
    "## Setup grafana service"
   ]
  },
  {
   "cell_type": "markdown",
   "metadata": {},
   "source": [
    "* Go to the services screen\n",
    "* Create Grafana service or use an existing one"
   ]
  },
  {
   "cell_type": "markdown",
   "metadata": {},
   "source": [
    "## Get grafana package"
   ]
  },
  {
   "cell_type": "code",
   "execution_count": 2,
   "metadata": {
    "collapsed": true,
    "jupyter": {
     "outputs_hidden": true
    }
   },
   "outputs": [
    {
     "name": "stdout",
     "output_type": "stream",
     "text": [
      "Collecting git+https://github.com/v3io/grafwiz.git\n",
      "  Cloning https://github.com/v3io/grafwiz.git to /tmp/pip-req-build-8pvxl9lu\n",
      "Collecting grafanalib (from grafwiz==0.1.0)\n",
      "  Downloading https://files.pythonhosted.org/packages/dc/b2/690724e7e526f775c5f53d4c2d697293abf0e7455bed7d758282d6b40f09/grafanalib-0.5.3-py3-none-any.whl\n",
      "Requirement already satisfied: attrs in /conda/lib/python3.6/site-packages (from grafanalib->grafwiz==0.1.0) (19.1.0)\n",
      "Building wheels for collected packages: grafwiz\n",
      "  Running setup.py bdist_wheel for grafwiz ... \u001b[?25ldone\n",
      "\u001b[?25h  Stored in directory: /tmp/pip-ephem-wheel-cache-yw3rk2f3/wheels/8f/07/f3/185d8b497806aae5db86574055449669bd6c6658be2a5f9ec4\n",
      "Successfully built grafwiz\n",
      "Installing collected packages: grafanalib, grafwiz\n",
      "Successfully installed grafanalib-0.5.3 grafwiz-0.1.0\n"
     ]
    }
   ],
   "source": [
    "!pip install git+https://github.com/v3io/grafwiz.git"
   ]
  },
  {
   "cell_type": "code",
   "execution_count": 3,
   "metadata": {},
   "outputs": [],
   "source": [
    "from grafwiz import *"
   ]
  },
  {
   "cell_type": "markdown",
   "metadata": {},
   "source": [
    "## Deploy worldmap datasource "
   ]
  },
  {
   "cell_type": "code",
   "execution_count": 4,
   "metadata": {},
   "outputs": [],
   "source": [
    "# Grafana internal cluster address (will be http://{grafana-service-name})\n",
    "grafana_url = 'http://grafana'"
   ]
  },
  {
   "cell_type": "markdown",
   "metadata": {},
   "source": [
    "Using the nuclio function created at the previous notebook ([nuclio-worldmap](05-nuclio-worldmap-grafana-integration.ipynb)) with the kubernetes dns."
   ]
  },
  {
   "cell_type": "code",
   "execution_count": 24,
   "metadata": {},
   "outputs": [
    {
     "name": "stdout",
     "output_type": "stream",
     "text": [
      "Datasource worldmap already exists\n",
      "Datasource worldmap created successfully\n"
     ]
    }
   ],
   "source": [
    "# frames_url = http://{worldmap-function-name}:8080 \n",
    "worldmap = DataSource(name='worldmap', frames_url='http://worldmap-endpoint:8080')\n",
    "worldmap.deploy(grafana_url)"
   ]
  },
  {
   "cell_type": "markdown",
   "metadata": {},
   "source": [
    "## Import dashboard to grafana "
   ]
  },
  {
   "cell_type": "markdown",
   "metadata": {},
   "source": [
    "* Open up the Grafana service (click on the HTTPS link)\n",
    "* Click on + and then \"Import\"\n",
    "* On the righ hand side - click on the Upload .Json file\n",
    "* Upload the Json file under location-based-recommendation/dashboards\n",
    "* It could take few minutes till the data will be displayed in the dashboard"
   ]
  },
  {
   "cell_type": "code",
   "execution_count": null,
   "metadata": {},
   "outputs": [],
   "source": []
  }
 ],
 "metadata": {
  "kernelspec": {
   "display_name": "Python 3",
   "language": "python",
   "name": "python3"
  },
  "language_info": {
   "codemirror_mode": {
    "name": "ipython",
    "version": 3
   },
   "file_extension": ".py",
   "mimetype": "text/x-python",
   "name": "python",
   "nbconvert_exporter": "python",
   "pygments_lexer": "ipython3",
   "version": "3.6.8"
  }
 },
 "nbformat": 4,
 "nbformat_minor": 4
}
