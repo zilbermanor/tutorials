{
 "cells": [
  {
   "cell_type": "markdown",
   "metadata": {},
   "source": [
    "# Generate stores & customers for the demo"
   ]
  },
  {
   "cell_type": "markdown",
   "metadata": {},
   "source": [
    "## Setup the environment"
   ]
  },
  {
   "cell_type": "markdown",
   "metadata": {},
   "source": [
    "### Install packages"
   ]
  },
  {
   "cell_type": "markdown",
   "metadata": {},
   "source": [
    "> **Note:** After running the pip command you should restart the Jupyter kernel.<br>\n",
    "> To restart the kernel, click on the kernel-restart button in the notebook's action toolbar (the refresh icon next to the **Code** button)."
   ]
  },
  {
   "cell_type": "code",
   "execution_count": 1,
   "metadata": {
    "collapsed": true,
    "jupyter": {
     "outputs_hidden": true
    }
   },
   "outputs": [
    {
     "name": "stdout",
     "output_type": "stream",
     "text": [
      "Requirement already satisfied: faker in /User/.pythonlibs/lib/python3.6/site-packages (1.0.8)\n",
      "Requirement already satisfied: six>=1.10 in /conda/lib/python3.6/site-packages (from faker) (1.12.0)\n",
      "Requirement already satisfied: python-dateutil>=2.4 in /conda/lib/python3.6/site-packages (from faker) (2.8.0)\n",
      "Requirement already satisfied: text-unidecode==1.2 in /User/.pythonlibs/lib/python3.6/site-packages (from faker) (1.2)\n",
      "Requirement already satisfied: pymorton in /User/.pythonlibs/lib/python3.6/site-packages (1.0.5)\n",
      "Requirement already satisfied: v3io in /User/.pythonlibs/lib/python3.6/site-packages (0.1.1)\n",
      "Requirement already satisfied: requests==2.21.0 in /User/.pythonlibs/lib/python3.6/site-packages (from v3io) (2.21.0)\n",
      "Requirement already satisfied: ujson==1.35 in /User/.pythonlibs/lib/python3.6/site-packages (from v3io) (1.35)\n",
      "Requirement already satisfied: future==0.17.1 in /conda/lib/python3.6/site-packages (from v3io) (0.17.1)\n",
      "Requirement already satisfied: urllib3<1.25,>=1.21.1 in /conda/lib/python3.6/site-packages (from requests==2.21.0->v3io) (1.24.2)\n",
      "Requirement already satisfied: idna<2.9,>=2.5 in /conda/lib/python3.6/site-packages (from requests==2.21.0->v3io) (2.8)\n",
      "Requirement already satisfied: certifi>=2017.4.17 in /conda/lib/python3.6/site-packages (from requests==2.21.0->v3io) (2019.6.16)\n",
      "Requirement already satisfied: chardet<3.1.0,>=3.0.2 in /conda/lib/python3.6/site-packages (from requests==2.21.0->v3io) (3.0.4)\n",
      "Requirement already satisfied: v3io_frames in /User/.pythonlibs/lib/python3.6/site-packages (0.6.0)\n",
      "Requirement already satisfied: grpcio-tools>=1.16.0 in /conda/lib/python3.6/site-packages (from v3io_frames) (1.22.0)\n",
      "Requirement already satisfied: googleapis-common-protos>=1.5.3 in /conda/lib/python3.6/site-packages (from v3io_frames) (1.6.0)\n",
      "Requirement already satisfied: pandas==0.23.* in /conda/lib/python3.6/site-packages (from v3io_frames) (0.23.4)\n",
      "Requirement already satisfied: requests>=2.19.1 in /User/.pythonlibs/lib/python3.6/site-packages (from v3io_frames) (2.21.0)\n",
      "Requirement already satisfied: protobuf>=3.5.0.post1 in /conda/lib/python3.6/site-packages (from grpcio-tools>=1.16.0->v3io_frames) (3.9.0)\n",
      "Requirement already satisfied: grpcio>=1.22.0 in /conda/lib/python3.6/site-packages (from grpcio-tools>=1.16.0->v3io_frames) (1.22.0)\n",
      "Requirement already satisfied: python-dateutil>=2.5.0 in /conda/lib/python3.6/site-packages (from pandas==0.23.*->v3io_frames) (2.8.0)\n",
      "Requirement already satisfied: pytz>=2011k in /conda/lib/python3.6/site-packages (from pandas==0.23.*->v3io_frames) (2019.1)\n",
      "Requirement already satisfied: numpy>=1.9.0 in /conda/lib/python3.6/site-packages (from pandas==0.23.*->v3io_frames) (1.16.4)\n",
      "Requirement already satisfied: idna<2.9,>=2.5 in /conda/lib/python3.6/site-packages (from requests>=2.19.1->v3io_frames) (2.8)\n",
      "Requirement already satisfied: urllib3<1.25,>=1.21.1 in /conda/lib/python3.6/site-packages (from requests>=2.19.1->v3io_frames) (1.24.2)\n",
      "Requirement already satisfied: certifi>=2017.4.17 in /conda/lib/python3.6/site-packages (from requests>=2.19.1->v3io_frames) (2019.6.16)\n",
      "Requirement already satisfied: chardet<3.1.0,>=3.0.2 in /conda/lib/python3.6/site-packages (from requests>=2.19.1->v3io_frames) (3.0.4)\n",
      "Requirement already satisfied: setuptools in /conda/lib/python3.6/site-packages (from protobuf>=3.5.0.post1->grpcio-tools>=1.16.0->v3io_frames) (41.0.1)\n",
      "Requirement already satisfied: six>=1.9 in /conda/lib/python3.6/site-packages (from protobuf>=3.5.0.post1->grpcio-tools>=1.16.0->v3io_frames) (1.12.0)\n"
     ]
    }
   ],
   "source": [
    "!pip install faker\n",
    "!pip install pymorton\n",
    "!pip install v3io\n",
    "!pip install v3io_frames"
   ]
  },
  {
   "cell_type": "markdown",
   "metadata": {},
   "source": [
    "### imports"
   ]
  },
  {
   "cell_type": "code",
   "execution_count": 2,
   "metadata": {},
   "outputs": [],
   "source": [
    "import logging\n",
    "import os\n",
    "import pickle\n",
    "import random\n",
    "import itertools\n",
    "\n",
    "# Demo\n",
    "import pandas as pd\n",
    "import pymorton as pm\n",
    "from faker import Faker\n",
    "from faker.providers import BaseProvider\n",
    "\n",
    "# DB\n",
    "import v3io as v3c\n",
    "import sys
sys.path.append('../../')
import v3io_frames_local as v3f"
   ]
  },
  {
   "cell_type": "markdown",
   "metadata": {},
   "source": [
    "### Define environment variables"
   ]
  },
  {
   "cell_type": "code",
   "execution_count": 3,
   "metadata": {},
   "outputs": [],
   "source": [
    "# Stores\n",
    "NUMBER_OF_STORES=50\n",
    "STORES_TABLE=os.path.join(os.getenv('V3IO_USERNAME', 'iguazio'), 'stores')\n",
    "ACCURACY=20\n",
    "BASE_ACCURACY=14\n",
    "\n",
    "# Customers\n",
    "NUMBER_OF_CUSTOMERS=5000\n",
    "CUSTOMERS_TABLE=os.path.join(os.getenv('V3IO_USERNAME', 'iguazio'), 'customers')\n",
    "os.environ['CUSTOMERS_DATA_FILE_DIR'] = os.path.join(os.getcwd(), 'data')\n",
    "os.environ['CUSTOMERS_DATA_FILE_PATH'] = os.path.join(os.environ['CUSTOMERS_DATA_FILE_DIR'], 'data_train_n.csv')\n",
    "!mkdir -p ${CUSTOMERS_DATA_FILE_DIR}"
   ]
  },
  {
   "cell_type": "code",
   "execution_count": 3,
   "metadata": {},
   "outputs": [
    {
     "name": "stdout",
     "output_type": "stream",
     "text": [
      "  % Total    % Received % Xferd  Average Speed   Time    Time     Time  Current\n",
      "                                 Dload  Upload   Total   Spent    Left  Speed\n",
      "100  399M  100  399M    0     0  16.4M      0  0:00:24  0:00:24 --:--:-- 15.5M\n"
     ]
    }
   ],
   "source": [
    "!curl -L \"iguazio-sample-data.s3.amazonaws.com/data_train_n.csv\" > ${CUSTOMERS_DATA_FILE_PATH}"
   ]
  },
  {
   "cell_type": "code",
   "execution_count": 4,
   "metadata": {},
   "outputs": [
    {
     "name": "stdout",
     "output_type": "stream",
     "text": [
      "total 0\n",
      "-rw-r--r-- 1 50 nogroup 400M Aug  4 12:09 data_train_n.csv\n"
     ]
    }
   ],
   "source": [
    "!ls -lah ${CUSTOMERS_DATA_FILE_DIR}"
   ]
  },
  {
   "cell_type": "markdown",
   "metadata": {},
   "source": [
    "### Open DB client"
   ]
  },
  {
   "cell_type": "code",
   "execution_count": 5,
   "metadata": {},
   "outputs": [],
   "source": [
    "client = v3f.Client('framesd:8081', container='users')"
   ]
  },
  {
   "cell_type": "markdown",
   "metadata": {},
   "source": [
    "## Generate Stores"
   ]
  },
  {
   "cell_type": "markdown",
   "metadata": {},
   "source": [
    "### Location provider"
   ]
  },
  {
   "cell_type": "code",
   "execution_count": 6,
   "metadata": {},
   "outputs": [],
   "source": [
    "class LocationProvider(BaseProvider):\n",
    "    '''\n",
    "    Creates locations within base_location\n",
    "\n",
    "    Uses QuadTree for Geohashing\n",
    "        @{http://tech.taskrabbit.com/blog/2015/06/09/elasticsearch-geohash-vs-geotree/}\n",
    "        @{http://mapzen.github.io/leaflet-spatial-prefix-tree/}\n",
    "        @{http://blog.notdot.net/2009/11/Damn-Cool-Algorithms-Spatial-indexing-with-Quadtrees-and-Hilbert-Curves}\n",
    "    '''    \n",
    "    def location(self, location_base: str, base_acc=10, acc=20):\n",
    "        coordinates = location_base[:base_acc]\n",
    "        for i in range(acc-len(coordinates)):\n",
    "            coordinates += str(random.randint(0, 3))\n",
    "        return coordinates"
   ]
  },
  {
   "cell_type": "markdown",
   "metadata": {},
   "source": [
    "Add the location provider as a faker provider"
   ]
  },
  {
   "cell_type": "code",
   "execution_count": 7,
   "metadata": {},
   "outputs": [],
   "source": [
    "faker = Faker()\n",
    "faker.add_provider(LocationProvider)"
   ]
  },
  {
   "cell_type": "markdown",
   "metadata": {},
   "source": [
    "### Define scenario environment (locations)"
   ]
  },
  {
   "cell_type": "code",
   "execution_count": 8,
   "metadata": {},
   "outputs": [
    {
     "data": {
      "text/plain": [
       "['03311311313011311011000321002320',\n",
       " '03311311311233323013031101320003',\n",
       " '03311311313010023000032330133111',\n",
       " '03311311311222300331010333220231']"
      ]
     },
     "execution_count": 8,
     "metadata": {},
     "output_type": "execute_result"
    }
   ],
   "source": [
    "london_city = (51.514926, -0.089580)\n",
    "london_city_south = (51.501593, -0.094942)\n",
    "london_west = (51.512309, -0.128966)\n",
    "london_south_west = (51.495022, -0.162268)\n",
    "\n",
    "london_coordinates = []\n",
    "london_coordinates.append(london_city)\n",
    "london_coordinates.append(london_city_south)\n",
    "london_coordinates.append(london_west)\n",
    "london_coordinates.append(london_south_west)\n",
    "\n",
    "london_coordinates_qt = list(map(lambda cooridnate: pm.interleave_latlng(*cooridnate), london_coordinates))\n",
    "london_coordinates_qt"
   ]
  },
  {
   "cell_type": "markdown",
   "metadata": {},
   "source": [
    "### Define Store class"
   ]
  },
  {
   "cell_type": "code",
   "execution_count": 9,
   "metadata": {},
   "outputs": [],
   "source": [
    "class Store(object):\n",
    "    def __init__(self, store_id: int, name: str, location: str):\n",
    "        self.store_id = store_id if store_id is not None else random.randint(1, int(os.genev('NUMBER_OF_STORES', 500)))\n",
    "        self.location = location\n",
    "        (self.lat, self.long) = pm.deinterleave_latlng(location)\n",
    "        self.store_name = name\n",
    "        self.customers = 0\n",
    "    \n",
    "    def json(self):\n",
    "        json_store = {\n",
    "            'id': self.store_id,\n",
    "            'name': self.store_name,\n",
    "            'location': self.location,\n",
    "            'latitude': self.lat,\n",
    "            'longitude': self.long,\n",
    "            'customers': self.customers\n",
    "        }\n",
    "        return json_store"
   ]
  },
  {
   "cell_type": "markdown",
   "metadata": {},
   "source": [
    "### Create stores"
   ]
  },
  {
   "cell_type": "code",
   "execution_count": 10,
   "metadata": {},
   "outputs": [],
   "source": [
    "def create_stores(faker, number_of_stores: int=500):\n",
    "    remaining = number_of_stores\n",
    "    stores = []\n",
    "    while remaining > 0:\n",
    "        # Create stores\n",
    "        stores_batch = [Store(faker.msisdn(), faker.company(), faker.location(random.choice(london_coordinates_qt), BASE_ACCURACY, ACCURACY)).json() \n",
    "              for i in range(remaining)]\n",
    "        \n",
    "        # Count for duplicate locations\n",
    "        locations = list(map(lambda store: store['location'], stores_batch))\n",
    "        locations = list(dict.fromkeys(locations))\n",
    "        remaining -= len(locations)\n",
    "        \n",
    "        # Update stores list\n",
    "        stores.append(stores_batch)\n",
    "\n",
    "    stores = list(itertools.chain.from_iterable(stores))\n",
    "    stores = pd.DataFrame.from_records(stores)\n",
    "    stores = stores.set_index(['location'])\n",
    "    stores = stores[~stores.index.duplicated(keep='first')]\n",
    "    return stores"
   ]
  },
  {
   "cell_type": "code",
   "execution_count": 11,
   "metadata": {},
   "outputs": [],
   "source": [
    "client.delete('kv', STORES_TABLE, if_missing=1)"
   ]
  },
  {
   "cell_type": "code",
   "execution_count": 12,
   "metadata": {},
   "outputs": [
    {
     "data": {
      "text/html": [
       "<div>\n",
       "<style scoped>\n",
       "    .dataframe tbody tr th:only-of-type {\n",
       "        vertical-align: middle;\n",
       "    }\n",
       "\n",
       "    .dataframe tbody tr th {\n",
       "        vertical-align: top;\n",
       "    }\n",
       "\n",
       "    .dataframe thead th {\n",
       "        text-align: right;\n",
       "    }\n",
       "</style>\n",
       "<table border=\"1\" class=\"dataframe\">\n",
       "  <thead>\n",
       "    <tr style=\"text-align: right;\">\n",
       "      <th></th>\n",
       "      <th>customers</th>\n",
       "      <th>id</th>\n",
       "      <th>latitude</th>\n",
       "      <th>longitude</th>\n",
       "      <th>name</th>\n",
       "    </tr>\n",
       "    <tr>\n",
       "      <th>location</th>\n",
       "      <th></th>\n",
       "      <th></th>\n",
       "      <th></th>\n",
       "      <th></th>\n",
       "      <th></th>\n",
       "    </tr>\n",
       "  </thead>\n",
       "  <tbody>\n",
       "    <tr>\n",
       "      <th>03311311311222120103</th>\n",
       "      <td>0</td>\n",
       "      <td>7044947204572</td>\n",
       "      <td>51.487770</td>\n",
       "      <td>-0.163078</td>\n",
       "      <td>Bishop-Cole</td>\n",
       "    </tr>\n",
       "    <tr>\n",
       "      <th>03311311313010223333</th>\n",
       "      <td>0</td>\n",
       "      <td>7317394796707</td>\n",
       "      <td>51.525536</td>\n",
       "      <td>-0.126686</td>\n",
       "      <td>Bailey LLC</td>\n",
       "    </tr>\n",
       "    <tr>\n",
       "      <th>03311311313010313113</th>\n",
       "      <td>0</td>\n",
       "      <td>8712626224402</td>\n",
       "      <td>51.517982</td>\n",
       "      <td>-0.110207</td>\n",
       "      <td>Ryan-Hopkins</td>\n",
       "    </tr>\n",
       "    <tr>\n",
       "      <th>03311311311222132202</th>\n",
       "      <td>0</td>\n",
       "      <td>6521901547120</td>\n",
       "      <td>51.491890</td>\n",
       "      <td>-0.159302</td>\n",
       "      <td>Sullivan-Brown</td>\n",
       "    </tr>\n",
       "    <tr>\n",
       "      <th>03311311313010023003</th>\n",
       "      <td>0</td>\n",
       "      <td>8883522350757</td>\n",
       "      <td>51.512489</td>\n",
       "      <td>-0.128746</td>\n",
       "      <td>Walker-Harper</td>\n",
       "    </tr>\n",
       "  </tbody>\n",
       "</table>\n",
       "</div>"
      ],
      "text/plain": [
       "                      customers             id   latitude  longitude  \\\n",
       "location                                                               \n",
       "03311311311222120103          0  7044947204572  51.487770  -0.163078   \n",
       "03311311313010223333          0  7317394796707  51.525536  -0.126686   \n",
       "03311311313010313113          0  8712626224402  51.517982  -0.110207   \n",
       "03311311311222132202          0  6521901547120  51.491890  -0.159302   \n",
       "03311311313010023003          0  8883522350757  51.512489  -0.128746   \n",
       "\n",
       "                                name  \n",
       "location                              \n",
       "03311311311222120103     Bishop-Cole  \n",
       "03311311313010223333      Bailey LLC  \n",
       "03311311313010313113    Ryan-Hopkins  \n",
       "03311311311222132202  Sullivan-Brown  \n",
       "03311311313010023003   Walker-Harper  "
      ]
     },
     "execution_count": 12,
     "metadata": {},
     "output_type": "execute_result"
    }
   ],
   "source": [
    "stores = create_stores(faker, NUMBER_OF_STORES)\n",
    "stores.head(5)"
   ]
  },
  {
   "cell_type": "markdown",
   "metadata": {},
   "source": [
    "### Upload to DB "
   ]
  },
  {
   "cell_type": "code",
   "execution_count": 13,
   "metadata": {},
   "outputs": [],
   "source": [
    "# client.delete('kv', STORES_TABLE)\n",
    "client.write('kv', STORES_TABLE, stores)"
   ]
  },
  {
   "cell_type": "code",
   "execution_count": 14,
   "metadata": {},
   "outputs": [
    {
     "data": {
      "text/html": [
       "<div>\n",
       "<style scoped>\n",
       "    .dataframe tbody tr th:only-of-type {\n",
       "        vertical-align: middle;\n",
       "    }\n",
       "\n",
       "    .dataframe tbody tr th {\n",
       "        vertical-align: top;\n",
       "    }\n",
       "\n",
       "    .dataframe thead th {\n",
       "        text-align: right;\n",
       "    }\n",
       "</style>\n",
       "<table border=\"1\" class=\"dataframe\">\n",
       "  <thead>\n",
       "    <tr style=\"text-align: right;\">\n",
       "      <th></th>\n",
       "      <th>customers</th>\n",
       "      <th>id</th>\n",
       "      <th>latitude</th>\n",
       "      <th>longitude</th>\n",
       "      <th>name</th>\n",
       "    </tr>\n",
       "    <tr>\n",
       "      <th>location</th>\n",
       "      <th></th>\n",
       "      <th></th>\n",
       "      <th></th>\n",
       "      <th></th>\n",
       "      <th></th>\n",
       "    </tr>\n",
       "  </thead>\n",
       "  <tbody>\n",
       "    <tr>\n",
       "      <th>03311311313010221120</th>\n",
       "      <td>0</td>\n",
       "      <td>6040149292924</td>\n",
       "      <td>51.521072</td>\n",
       "      <td>-0.127716</td>\n",
       "      <td>Collins-Compton</td>\n",
       "    </tr>\n",
       "    <tr>\n",
       "      <th>03311311311233232223</th>\n",
       "      <td>0</td>\n",
       "      <td>1388437311094</td>\n",
       "      <td>51.503563</td>\n",
       "      <td>-0.104027</td>\n",
       "      <td>Bush, Campbell and Crawford</td>\n",
       "    </tr>\n",
       "    <tr>\n",
       "      <th>03311311313011111303</th>\n",
       "      <td>0</td>\n",
       "      <td>7393751159414</td>\n",
       "      <td>51.505623</td>\n",
       "      <td>-0.088921</td>\n",
       "      <td>Kirby-Romero</td>\n",
       "    </tr>\n",
       "    <tr>\n",
       "      <th>03311311311222130330</th>\n",
       "      <td>0</td>\n",
       "      <td>3332001482053</td>\n",
       "      <td>51.489487</td>\n",
       "      <td>-0.157242</td>\n",
       "      <td>Little and Sons</td>\n",
       "    </tr>\n",
       "    <tr>\n",
       "      <th>03311311311222211100</th>\n",
       "      <td>0</td>\n",
       "      <td>2516602914090</td>\n",
       "      <td>51.492920</td>\n",
       "      <td>-0.166168</td>\n",
       "      <td>West, Brooks and Wilson</td>\n",
       "    </tr>\n",
       "  </tbody>\n",
       "</table>\n",
       "</div>"
      ],
      "text/plain": [
       "                      customers             id   latitude  longitude  \\\n",
       "location                                                               \n",
       "03311311313010221120          0  6040149292924  51.521072  -0.127716   \n",
       "03311311311233232223          0  1388437311094  51.503563  -0.104027   \n",
       "03311311313011111303          0  7393751159414  51.505623  -0.088921   \n",
       "03311311311222130330          0  3332001482053  51.489487  -0.157242   \n",
       "03311311311222211100          0  2516602914090  51.492920  -0.166168   \n",
       "\n",
       "                                             name  \n",
       "location                                           \n",
       "03311311313010221120              Collins-Compton  \n",
       "03311311311233232223  Bush, Campbell and Crawford  \n",
       "03311311313011111303                 Kirby-Romero  \n",
       "03311311311222130330              Little and Sons  \n",
       "03311311311222211100      West, Brooks and Wilson  "
      ]
     },
     "execution_count": 14,
     "metadata": {},
     "output_type": "execute_result"
    }
   ],
   "source": [
    "client.read('kv', STORES_TABLE).head(5)"
   ]
  },
  {
   "cell_type": "markdown",
   "metadata": {},
   "source": [
    "## Generate customers"
   ]
  },
  {
   "cell_type": "code",
   "execution_count": 15,
   "metadata": {},
   "outputs": [],
   "source": [
    "class Customer(object):\n",
    "    def __init__(self, id=0, location='0', products=\"\"):\n",
    "        self.id = id\n",
    "        self.location = location\n",
    "        self.products = products\n",
    "        \n",
    "    def json(self):\n",
    "        json_customer = {\n",
    "            'id': self.id,\n",
    "            'location': self.location,\n",
    "            'products': self.products\n",
    "        }\n",
    "        return json_customer"
   ]
  },
  {
   "cell_type": "code",
   "execution_count": 19,
   "metadata": {},
   "outputs": [],
   "source": [
    "def create_customers(customers_data: pd.DataFrame, number_of_customers: int):\n",
    "    available_customer = list(customers_data.user_id)\n",
    "    customers = [Customer(id=i,\n",
    "                          products=customers_data.loc[customers_data['user_id'] == random.choice(available_customer)]\\\n",
    "                                    .drop(['user_id', 'Unnamed: 0'], axis=1)\\\n",
    "                                    .to_json()).json() for i in range(number_of_customers)]\n",
    "    customers = pd.DataFrame.from_records(customers)\n",
    "    customers.set_index(['id'])\n",
    "    \n",
    "    # Verify string length for KV\n",
    "    customers['verification'] = customers['products'].apply(lambda x: len(x.encode('utf-8')))\n",
    "    customers = customers.loc[customers['verification'] <= 61000]\n",
    "    customers = customers.drop(columns='verification')\n",
    "    \n",
    "    # Fix index\n",
    "    customers = customers.reset_index(drop=True)\n",
    "    return customers"
   ]
  },
  {
   "cell_type": "code",
   "execution_count": 20,
   "metadata": {},
   "outputs": [
    {
     "data": {
      "text/html": [
       "<div>\n",
       "<style scoped>\n",
       "    .dataframe tbody tr th:only-of-type {\n",
       "        vertical-align: middle;\n",
       "    }\n",
       "\n",
       "    .dataframe tbody tr th {\n",
       "        vertical-align: top;\n",
       "    }\n",
       "\n",
       "    .dataframe thead th {\n",
       "        text-align: right;\n",
       "    }\n",
       "</style>\n",
       "<table border=\"1\" class=\"dataframe\">\n",
       "  <thead>\n",
       "    <tr style=\"text-align: right;\">\n",
       "      <th></th>\n",
       "      <th>id</th>\n",
       "      <th>location</th>\n",
       "      <th>products</th>\n",
       "    </tr>\n",
       "  </thead>\n",
       "  <tbody>\n",
       "    <tr>\n",
       "      <th>0</th>\n",
       "      <td>0</td>\n",
       "      <td>0</td>\n",
       "      <td>{\"user_product_reordered_ratio\":{\"11355\":1.0,\"...</td>\n",
       "    </tr>\n",
       "    <tr>\n",
       "      <th>1</th>\n",
       "      <td>1</td>\n",
       "      <td>0</td>\n",
       "      <td>{\"user_product_reordered_ratio\":{\"277139\":1.0,...</td>\n",
       "    </tr>\n",
       "    <tr>\n",
       "      <th>2</th>\n",
       "      <td>2</td>\n",
       "      <td>0</td>\n",
       "      <td>{\"user_product_reordered_ratio\":{\"5952\":1.0,\"2...</td>\n",
       "    </tr>\n",
       "    <tr>\n",
       "      <th>3</th>\n",
       "      <td>3</td>\n",
       "      <td>0</td>\n",
       "      <td>{\"user_product_reordered_ratio\":{\"41610\":1.0,\"...</td>\n",
       "    </tr>\n",
       "    <tr>\n",
       "      <th>4</th>\n",
       "      <td>4</td>\n",
       "      <td>0</td>\n",
       "      <td>{\"user_product_reordered_ratio\":{\"170321\":1.0,...</td>\n",
       "    </tr>\n",
       "  </tbody>\n",
       "</table>\n",
       "</div>"
      ],
      "text/plain": [
       "   id location                                           products\n",
       "0   0        0  {\"user_product_reordered_ratio\":{\"11355\":1.0,\"...\n",
       "1   1        0  {\"user_product_reordered_ratio\":{\"277139\":1.0,...\n",
       "2   2        0  {\"user_product_reordered_ratio\":{\"5952\":1.0,\"2...\n",
       "3   3        0  {\"user_product_reordered_ratio\":{\"41610\":1.0,\"...\n",
       "4   4        0  {\"user_product_reordered_ratio\":{\"170321\":1.0,..."
      ]
     },
     "execution_count": 20,
     "metadata": {},
     "output_type": "execute_result"
    }
   ],
   "source": [
    "# Load customers seed data\n",
    "customers_data = pd.read_csv(os.environ['CUSTOMERS_DATA_FILE_PATH'])\n",
    "\n",
    "# Create actual customers\n",
    "customers = create_customers(customers_data, NUMBER_OF_CUSTOMERS)\n",
    "customers.head(5)"
   ]
  },
  {
   "cell_type": "markdown",
   "metadata": {},
   "source": [
    "## Upload to DB"
   ]
  },
  {
   "cell_type": "code",
   "execution_count": 21,
   "metadata": {},
   "outputs": [],
   "source": [
    "client.delete('kv', CUSTOMERS_TABLE, if_missing=1)\n",
    "client.write('kv', CUSTOMERS_TABLE, dfs=customers)"
   ]
  },
  {
   "cell_type": "code",
   "execution_count": 22,
   "metadata": {},
   "outputs": [
    {
     "name": "stdout",
     "output_type": "stream",
     "text": [
      "Customers table sized: (4981, 3)\n"
     ]
    },
    {
     "data": {
      "text/html": [
       "<div>\n",
       "<style scoped>\n",
       "    .dataframe tbody tr th:only-of-type {\n",
       "        vertical-align: middle;\n",
       "    }\n",
       "\n",
       "    .dataframe tbody tr th {\n",
       "        vertical-align: top;\n",
       "    }\n",
       "\n",
       "    .dataframe thead th {\n",
       "        text-align: right;\n",
       "    }\n",
       "</style>\n",
       "<table border=\"1\" class=\"dataframe\">\n",
       "  <thead>\n",
       "    <tr style=\"text-align: right;\">\n",
       "      <th></th>\n",
       "      <th>id</th>\n",
       "      <th>location</th>\n",
       "      <th>products</th>\n",
       "    </tr>\n",
       "    <tr>\n",
       "      <th>idx</th>\n",
       "      <th></th>\n",
       "      <th></th>\n",
       "      <th></th>\n",
       "    </tr>\n",
       "  </thead>\n",
       "  <tbody>\n",
       "    <tr>\n",
       "      <th>461</th>\n",
       "      <td>463</td>\n",
       "      <td>0</td>\n",
       "      <td>{\"user_product_reordered_ratio\":{\"294423\":1.0,...</td>\n",
       "    </tr>\n",
       "    <tr>\n",
       "      <th>630</th>\n",
       "      <td>633</td>\n",
       "      <td>0</td>\n",
       "      <td>{\"user_product_reordered_ratio\":{\"91075\":1.0,\"...</td>\n",
       "    </tr>\n",
       "    <tr>\n",
       "      <th>917</th>\n",
       "      <td>922</td>\n",
       "      <td>0</td>\n",
       "      <td>{\"user_product_reordered_ratio\":{\"6898\":1.0,\"1...</td>\n",
       "    </tr>\n",
       "    <tr>\n",
       "      <th>1137</th>\n",
       "      <td>1143</td>\n",
       "      <td>0</td>\n",
       "      <td>{\"user_product_reordered_ratio\":{\"240572\":1.0,...</td>\n",
       "    </tr>\n",
       "    <tr>\n",
       "      <th>2976</th>\n",
       "      <td>2988</td>\n",
       "      <td>0</td>\n",
       "      <td>{\"user_product_reordered_ratio\":{\"53855\":1.0,\"...</td>\n",
       "    </tr>\n",
       "  </tbody>\n",
       "</table>\n",
       "</div>"
      ],
      "text/plain": [
       "        id location                                           products\n",
       "idx                                                                   \n",
       "461    463        0  {\"user_product_reordered_ratio\":{\"294423\":1.0,...\n",
       "630    633        0  {\"user_product_reordered_ratio\":{\"91075\":1.0,\"...\n",
       "917    922        0  {\"user_product_reordered_ratio\":{\"6898\":1.0,\"1...\n",
       "1137  1143        0  {\"user_product_reordered_ratio\":{\"240572\":1.0,...\n",
       "2976  2988        0  {\"user_product_reordered_ratio\":{\"53855\":1.0,\"..."
      ]
     },
     "execution_count": 22,
     "metadata": {},
     "output_type": "execute_result"
    }
   ],
   "source": [
    "print(f'Customers table sized: {client.read(\"kv\", CUSTOMERS_TABLE).shape}')\n",
    "client.read('kv', CUSTOMERS_TABLE).head(5)"
   ]
  },
  {
   "cell_type": "markdown",
   "metadata": {},
   "source": [
    "## Generate predictions"
   ]
  },
  {
   "cell_type": "code",
   "execution_count": 27,
   "metadata": {},
   "outputs": [],
   "source": [
    "# client.delete('tsdb', 'predictions', if_missing=1)\n",
    "client.create('tsdb', os.path.getenv('V3IO_USERNAME', 'iguazio'), 'predictions'), attrs={'rate': '1/s'}, if_exists=1)"
   ]
  },
  {
   "cell_type": "code",
   "execution_count": null,
   "metadata": {},
   "outputs": [],
   "source": []
  }
 ],
 "metadata": {
  "kernelspec": {
   "display_name": "Python 3",
   "language": "python",
   "name": "python3"
  },
  "language_info": {
   "codemirror_mode": {
    "name": "ipython",
    "version": 3
   },
   "file_extension": ".py",
   "mimetype": "text/x-python",
   "name": "python",
   "nbconvert_exporter": "python",
   "pygments_lexer": "ipython3",
   "version": "3.6.8"
  }
 },
 "nbformat": 4,
 "nbformat_minor": 4
}
