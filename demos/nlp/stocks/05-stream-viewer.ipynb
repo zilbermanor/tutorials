{
 "cells": [
  {
   "cell_type": "markdown",
   "metadata": {},
   "source": [
    "# Real-Time Stream Viewer (HTTP)\n",
    "the following function responds to HTTP requests with the list of last 10 processed twitter messages + sentiments in reverse order (newest on top), it reads records from the enriched stream, take the recent 10 messages, and reverse sort them. the function is using nuclio context to store the last results and stream pointers for max efficiency.<br> \n",
    "\n",
    "The code is automatically converted into a nuclio (serverless) function and and respond to HTTP requests<br>\n",
    "\n",
    "the example demonstrate the use of `%nuclio` magic commands to specify environment variables, package dependencies,<br>configurations, and to deploy functions automatically onto a cluster.\n",
    "\n",
    "\n",
    "## Initialize nuclio emulation, environment variables and configuration\n",
    "use `# nuclio: ignore` for sections that don't need to be copied to the function"
   ]
  },
  {
   "cell_type": "code",
   "execution_count": 1,
   "metadata": {},
   "outputs": [],
   "source": [
    "# nuclio: ignore\n",
    "# if the nuclio-jupyter package is not installed run !pip install nuclio-jupyter\n",
    "import nuclio "
   ]
  },
  {
   "cell_type": "code",
   "execution_count": 2,
   "metadata": {},
   "outputs": [],
   "source": [
    "%nuclio env -c V3IO_ACCESS_KEY=${V3IO_ACCESS_KEY}\n",
    "%nuclio env -c V3IO_USERNAME=${V3IO_USERNAME}\n",
    "%nuclio env -c V3IO_API=${V3IO_API}"
   ]
  },
  {
   "cell_type": "markdown",
   "metadata": {},
   "source": [
    "### Set function configuration \n",
    "use a cron trigger with 5min interval and define the base image<br>\n",
    "for more details check [nuclio function configuration reference](https://github.com/nuclio/nuclio/blob/master/docs/reference/function-configuration/function-configuration-reference.md)"
   ]
  },
  {
   "cell_type": "code",
   "execution_count": 3,
   "metadata": {},
   "outputs": [
    {
     "name": "stdout",
     "output_type": "stream",
     "text": [
      "%nuclio: setting spec.triggers.web.kind to 'http'\n",
      "%nuclio: setting spec.triggers.web.attributes.port to 30099\n",
      "%nuclio: setting spec.build.baseImage to 'python:3.6-jessie'\n"
     ]
    }
   ],
   "source": [
    "%%nuclio config \n",
    "# ask for a specific (fixed) API port\n",
    "spec.triggers.web.kind = \"http\"\n",
    "spec.triggers.web.attributes.port = 30100\n",
    "# define the function base docker image\n",
    "spec.build.baseImage = \"python:3.6-jessie\""
   ]
  },
  {
   "cell_type": "markdown",
   "metadata": {},
   "source": [
    "### Install required packages\n",
    "`%nuclio cmd` allows you to run image build instructions and install packages<br>\n",
    "Note: `-c` option will only install in nuclio, not locally"
   ]
  },
  {
   "cell_type": "code",
   "execution_count": null,
   "metadata": {},
   "outputs": [],
   "source": [
    "%nuclio cmd pip install git+https://github.com/yaronha/v3io-py-http.git"
   ]
  },
  {
   "cell_type": "markdown",
   "metadata": {},
   "source": [
    "## Nuclio function implementation\n",
    "this function can run in Jupyter or in nuclio (real-time serverless)"
   ]
  },
  {
   "cell_type": "code",
   "execution_count": 4,
   "metadata": {},
   "outputs": [],
   "source": [
    "import v3io\n",
    "import base64\n",
    "import json\n",
    "import os\n",
    "\n",
    "v3 = v3io.V3io(container='bigdata')\n",
    "\n",
    "def handler(context, event):\n",
    "\n",
    "\n",
    "    resp = v3.getrecords('stock_stream','0',context.next_location,10)\n",
    "    json_resp = resp.json()\n",
    "    context.next_location = json_resp['NextLocation']\n",
    "\n",
    "    context.logger.info('location: %s', context.next_location)\n",
    "\n",
    "    for rec in json_resp['Records'] :\n",
    "        rec_data = base64.b64decode(rec['Data']).decode('utf-8')\n",
    "        rec_json = json.loads(rec_data)['text']\n",
    "        context.data += [rec_json]\n",
    "\n",
    "    context.data = context.data[-10:]\n",
    "\n",
    "    return context.Response(body=json.dumps(context.data[::-1]),\n",
    "                            headers={'Access-Control-Allow-Origin': '*'},\n",
    "                            content_type='text/plain',\n",
    "                            status_code=200)\n",
    "\n",
    "\n",
    "def init_context(context):\n",
    "    resp = v3.seek('stock_stream','0','EARLIEST')\n",
    "    context.next_location = resp.json()['Location']\n",
    "    context.data = []"
   ]
  },
  {
   "cell_type": "markdown",
   "metadata": {},
   "source": [
    "## Function invocation\n",
    "the following section simulates nuclio function invocation and will emit the function results"
   ]
  },
  {
   "cell_type": "code",
   "execution_count": 5,
   "metadata": {},
   "outputs": [
    {
     "name": "stdout",
     "output_type": "stream",
     "text": [
      "Python> 2019-03-05 11:33:24,910 [info] location: AQAAAAEAAAAAAECLAQAAAA==\n"
     ]
    },
    {
     "name": "stderr",
     "output_type": "stream",
     "text": [
      "[20190305T113324 - nuclio_sdk - INFO] location: AQAAAAEAAAAAAECLAQAAAA==\n"
     ]
    },
    {
     "data": {
      "text/plain": [
       "Response(headers={'Access-Control-Allow-Origin': '*'}, body='[\"RT @Sophiemcneill: Just in - @Google, siding with Saudi Arabia, refuses to remove widely-criticized government app which lets men track wom\\\\u2026\", \"Diversity and Inclusion Consultants @prdgm, whose CEO @joelle_emerson criticized @Google for going for \\\\\"Equality\\\\\" r\\\\u2026 https://t.co/Ih7l8EX4mu\", \"RT @MyWhiteNinja_: OOF https://t.co/3BsS1O5UFI\", \"RT @AAPPres: Right now, pediatricians are watching our worst fears realized as measles outbreaks spread across the country. My home state o\\\\u2026\", \"RT @MohapatraHemant: So @lyft is paying $8m/mo to @AWS -- almost $100m/yr! Each ride costs $.14 in AWS rent. I keep hearing they could buil\\\\u2026\"]', status_code=200, content_type='text/plain')"
      ]
     },
     "execution_count": 5,
     "metadata": {},
     "output_type": "execute_result"
    }
   ],
   "source": [
    "# nuclio: ignore\n",
    "# create a test event and invoke the function locally \n",
    "init_context(context)\n",
    "event = nuclio.Event(body='')\n",
    "handler(context, event)"
   ]
  },
  {
   "cell_type": "markdown",
   "metadata": {},
   "source": [
    "## Deploy a function onto a cluster\n",
    "the `%nuclio deploy` command deploy functions into a cluster, make sure the notebook is saved prior to running it !<br>check the help (`%nuclio help deploy`) for more information"
   ]
  },
  {
   "cell_type": "code",
   "execution_count": 8,
   "metadata": {},
   "outputs": [
    {
     "name": "stdout",
     "output_type": "stream",
     "text": [
      "%nuclio: [nuclio.deploy] 2019-03-05 11:37:10,433 (info) Building processor image\n",
      "%nuclio: [nuclio.deploy] 2019-03-05 11:37:12,464 (info) Pushing image\n",
      "%nuclio: [nuclio.deploy] 2019-03-05 11:37:12,464 (info) Build complete\n",
      "%nuclio: [nuclio.deploy] 2019-03-05 11:37:15,491 done updating stream-viewer, function address: 3.122.204.208:30100\n",
      "%nuclio: function deployed\n"
     ]
    }
   ],
   "source": [
    "%nuclio deploy -p stocks -c"
   ]
  },
  {
   "cell_type": "code",
   "execution_count": 9,
   "metadata": {},
   "outputs": [
    {
     "name": "stdout",
     "output_type": "stream",
     "text": [
      "[\"RT @Sophiemcneill: Just in - @Google, siding with Saudi Arabia, refuses to remove widely-criticized government app which lets men track wom\\u2026\", \"Diversity and Inclusion Consultants @prdgm, whose CEO @joelle_emerson criticized @Google for going for \\\"Equality\\\" r\\u2026 https://t.co/Ih7l8EX4mu\", \"RT @MyWhiteNinja_: OOF https://t.co/3BsS1O5UFI\", \"RT @AAPPres: Right now, pediatricians are watching our worst fears realized as measles outbreaks spread across the country. My home state o\\u2026\", \"RT @MohapatraHemant: So @lyft is paying $8m/mo to @AWS -- almost $100m/yr! Each ride costs $.14 in AWS rent. I keep hearing they could buil\\u2026\"]"
     ]
    }
   ],
   "source": [
    "# nuclio: ignore\n",
    "# test the new API end point, take the address from the deploy log above\n",
    "!curl 3.122.204.208:30100"
   ]
  },
  {
   "cell_type": "code",
   "execution_count": null,
   "metadata": {},
   "outputs": [],
   "source": []
  }
 ],
 "metadata": {
  "kernelspec": {
   "display_name": "Python 3",
   "language": "python",
   "name": "python3"
  },
  "language_info": {
   "codemirror_mode": {
    "name": "ipython",
    "version": 3
   },
   "file_extension": ".py",
   "mimetype": "text/x-python",
   "name": "python",
   "nbconvert_exporter": "python",
   "pygments_lexer": "ipython3",
   "version": "3.6.8"
  }
 },
 "nbformat": 4,
 "nbformat_minor": 2
}
