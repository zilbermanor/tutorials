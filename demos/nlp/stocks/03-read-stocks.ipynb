{
 "cells": [
  {
   "cell_type": "markdown",
   "metadata": {},
   "source": [
    "# Ingest Real-Time Stock Data to Iguazio NoSQL and Time-series DB\n",
    "the following example function ingest real-time stock information from an internet service (World Trading Data) into iguazio platform.<br>\n",
    "everytime the data is updated it updates a NoSQL table with the recent metadata and updates the time-series DB with the new metrics (price and volume)\n",
    "\n",
    "The same code can run inside a nuclio (serverless) function and be automatically triggered on a predefined schedule (cron) or through HTTP requests<br>\n",
    "\n",
    "the example demonstrate the use of `%nuclio` magic commands to specify environment variables, package dependencies,<br>configurations (such as the cron schedule), and to deploy functions automatically onto a cluster.\n",
    "\n",
    "### Initialization \n",
    "need to fill the `API_TOKEN` environment variables with real credentials.<br>\n",
    "obtain your free API token from [World Trading Data](https://www.worldtradingdata.com) <br>\n",
    "\n",
    "## Initialize nuclio emulation, environment variables and configuration\n",
    "use `# nuclio: ignore` for sections that dont need to be copied to the function"
   ]
  },
  {
   "cell_type": "code",
   "execution_count": 1,
   "metadata": {},
   "outputs": [],
   "source": [
    "# nuclio: ignore\n",
    "# if the nuclio-jupyter package is not installed run !pip install nuclio-jupyter\n",
    "import nuclio "
   ]
  },
  {
   "cell_type": "markdown",
   "metadata": {},
   "source": [
    "copy the local credentials to the nuclio function config (-c option doesn't initialize locally)"
   ]
  },
  {
   "cell_type": "code",
   "execution_count": 2,
   "metadata": {},
   "outputs": [],
   "source": [
    "%nuclio env -c V3IO_ACCESS_KEY=${V3IO_ACCESS_KEY}\n",
    "%nuclio env -c V3IO_USERNAME=${V3IO_USERNAME}\n",
    "%nuclio env -c V3IO_API=${V3IO_API}"
   ]
  },
  {
   "cell_type": "markdown",
   "metadata": {},
   "source": [
    "initialize the token and frames URL both locally and in the function config"
   ]
  },
  {
   "cell_type": "code",
   "execution_count": 3,
   "metadata": {},
   "outputs": [
    {
     "name": "stdout",
     "output_type": "stream",
     "text": [
      "%nuclio: setting 'API_TOKEN' environment variable\n"
     ]
    }
   ],
   "source": [
    "%nuclio env API_TOKEN= <Insert world trading data token>"
   ]
  },
  {
   "cell_type": "markdown",
   "metadata": {},
   "source": [
    "### Set function configuration \n",
    "use a cron trigger with 5min interval and define the base image<br>\n",
    "for more details check [nuclio function configuration reference](https://github.com/nuclio/nuclio/blob/master/docs/reference/function-configuration/function-configuration-reference.md)"
   ]
  },
  {
   "cell_type": "code",
   "execution_count": 4,
   "metadata": {},
   "outputs": [
    {
     "name": "stdout",
     "output_type": "stream",
     "text": [
      "%nuclio: setting spec.triggers.secs.kind to 'cron'\n",
      "%nuclio: setting spec.triggers.secs.attributes.interval to '300s'\n",
      "%nuclio: setting spec.build.baseImage to 'python:3.6-jessie'\n"
     ]
    }
   ],
   "source": [
    "%%nuclio config \n",
    "spec.triggers.secs.kind = \"cron\"\n",
    "spec.triggers.secs.attributes.interval = \"300s\"\n",
    "spec.build.baseImage = \"python:3.6-jessie\""
   ]
  },
  {
   "cell_type": "markdown",
   "metadata": {},
   "source": [
    "### Install required packages\n",
    "`%nuclio cmd` allows you to run image build instructions and install packages<br>\n",
    "Note: `-c` option will only install in nuclio, not locally"
   ]
  },
  {
   "cell_type": "code",
   "execution_count": 5,
   "metadata": {},
   "outputs": [],
   "source": [
    "%%nuclio cmd -c \n",
    "pip install requests\n",
    "pip install v3io_frames"
   ]
  },
  {
   "cell_type": "markdown",
   "metadata": {},
   "source": [
    "## Nuclio function implementation\n",
    "this function can run in Jupyter or in nuclio (real-time serverless)"
   ]
  },
  {
   "cell_type": "code",
   "execution_count": 6,
   "metadata": {},
   "outputs": [],
   "source": [
    "import json\n",
    "import requests\n",
    "import os\n",
    "import pandas as pd\n",
    "import datetime\n",
    "import v3io_frames as v3f\n",
    "\n",
    "stocks = os.getenv('STOCK_LIST','GOOG,MSFT,AMZN,AAPL,INTC')\n",
    "token = os.getenv('API_TOKEN') \n",
    "url = 'https://www.worldtradingdata.com/api/v1/stock?symbol={0}&api_token={1}'.format(stocks,token)\n",
    "client = v3f.Client('framesd:8081',container='bigdata')\n",
    "\n",
    "# v3io update expression template \n",
    "expr_template = \"symbol='{symbol}';name='{name}';currency='{currency}';exchange='{stock_exchange_short}';\" + \\\n",
    "    \"timezone='{timezone}';price={price};volume={volume};last_trade='{last_trade_time}'\"\n",
    "\n",
    "last_trade_times = {}\n",
    "\n",
    "# nuclio handler function \n",
    "def handler(context, event):\n",
    "    \n",
    "    # reading latest stock information \n",
    "    r = requests.get(url)\n",
    "    stocks=[]; dates=[]; volumes=[]; prices=[]; exchanges=[]\n",
    "    \n",
    "    context.logger.debug('read symbols')\n",
    "    for stock in r.json()['data']:\n",
    "        \n",
    "        symbol = stock['symbol']\n",
    "        last = last_trade_times.get(symbol)\n",
    "        date = datetime.datetime.strptime(stock['last_trade_time'], '%Y-%m-%d %H:%M:%S')\n",
    "        \n",
    "        # update the stocks table and TSDB metrics in case of new data \n",
    "        if not last or date > last:\n",
    "            # update NoSQL table with stock data\n",
    "            expr = expr_template.format(**stock)\n",
    "            context.logger.debug_with('update expression', symbol=symbol, expr=expr)\n",
    "            client.execute('kv','stocks','update', args={'key':symbol, 'expression': expr})\n",
    "        \n",
    "            # update time-series DB with price and volume metrics (use pandas dataframe with a single row, indexed by date)\n",
    "            last_trade_times[symbol] = date \n",
    "            stocks += [symbol]\n",
    "            exchanges += [stock['stock_exchange_short']]\n",
    "            dates +=[date]\n",
    "            volumes += [float(stock['volume'])]\n",
    "            prices += [float(stock['price'])]\n",
    "               \n",
    "    # write price and volume metrics to the Time-Series DB, add exchange label\n",
    "    if len(stocks)>0:\n",
    "        df = pd.DataFrame({'volume':volumes,'price': prices}, index=[dates,stocks,exchanges], columns=['volume','price'])\n",
    "        df.index.names=['time','symbol','exchange']\n",
    "        context.logger.debug_with('writing data to TSDB', stocks=stocks)\n",
    "        client.write(backend='tsdb', table='stock_metrics',dfs=df)\n",
    "        \n",
    "    return r.json()"
   ]
  },
  {
   "cell_type": "markdown",
   "metadata": {},
   "source": [
    "## Function invocation\n",
    "the following section simulates nuclio function invocation and will emit the function results"
   ]
  },
  {
   "cell_type": "code",
   "execution_count": 7,
   "metadata": {},
   "outputs": [
    {
     "data": {
      "text/plain": [
       "{'symbols_requested': 5,\n",
       " 'symbols_returned': 5,\n",
       " 'data': [{'symbol': 'AAPL',\n",
       "   'name': 'Apple Inc.',\n",
       "   'currency': 'USD',\n",
       "   'price': '175.85',\n",
       "   'price_open': '175.69',\n",
       "   'day_high': '177.75',\n",
       "   'day_low': '173.97',\n",
       "   '52_week_high': '233.47',\n",
       "   '52_week_low': '142.00',\n",
       "   'day_change': '0.88',\n",
       "   'change_pct': '0.50',\n",
       "   'close_yesterday': '174.97',\n",
       "   'market_cap': '829182016779',\n",
       "   'volume': '27417664',\n",
       "   'volume_avg': '28138059',\n",
       "   'shares': '4715280000',\n",
       "   'stock_exchange_long': 'NASDAQ Stock Exchange',\n",
       "   'stock_exchange_short': 'NASDAQ',\n",
       "   'timezone': 'EST',\n",
       "   'timezone_name': 'America/New_York',\n",
       "   'gmt_offset': '-18000',\n",
       "   'last_trade_time': '2019-03-04 16:00:01'},\n",
       "  {'symbol': 'AMZN',\n",
       "   'name': 'Amazon.com, Inc.',\n",
       "   'currency': 'USD',\n",
       "   'price': '1696.17',\n",
       "   'price_open': '1685.00',\n",
       "   'day_high': '1709.43',\n",
       "   'day_low': '1674.36',\n",
       "   '52_week_high': '2050.50',\n",
       "   '52_week_low': '1307.00',\n",
       "   'day_change': '24.44',\n",
       "   'change_pct': '1.46',\n",
       "   'close_yesterday': '1671.73',\n",
       "   'market_cap': '833163814096',\n",
       "   'volume': '6157823',\n",
       "   'volume_avg': '4766582',\n",
       "   'shares': '491203000',\n",
       "   'stock_exchange_long': 'NASDAQ Stock Exchange',\n",
       "   'stock_exchange_short': 'NASDAQ',\n",
       "   'timezone': 'EST',\n",
       "   'timezone_name': 'America/New_York',\n",
       "   'gmt_offset': '-18000',\n",
       "   'last_trade_time': '2019-03-04 16:00:01'},\n",
       "  {'symbol': 'GOOG',\n",
       "   'name': 'Alphabet Inc Class C',\n",
       "   'currency': 'USD',\n",
       "   'price': '1147.80',\n",
       "   'price_open': '1146.99',\n",
       "   'day_high': '1158.28',\n",
       "   'day_low': '1130.69',\n",
       "   '52_week_high': '1273.89',\n",
       "   '52_week_low': '970.11',\n",
       "   'day_change': '6.81',\n",
       "   'change_pct': '0.60',\n",
       "   'close_yesterday': '1140.99',\n",
       "   'market_cap': '799200480795',\n",
       "   'volume': '1445232',\n",
       "   'volume_avg': '1458960',\n",
       "   'shares': '349291000',\n",
       "   'stock_exchange_long': 'NASDAQ Stock Exchange',\n",
       "   'stock_exchange_short': 'NASDAQ',\n",
       "   'timezone': 'EST',\n",
       "   'timezone_name': 'America/New_York',\n",
       "   'gmt_offset': '-18000',\n",
       "   'last_trade_time': '2019-03-04 16:00:01'},\n",
       "  {'symbol': 'INTC',\n",
       "   'name': 'Intel Corporation',\n",
       "   'currency': 'USD',\n",
       "   'price': '53.94',\n",
       "   'price_open': '53.75',\n",
       "   'day_high': '54.10',\n",
       "   'day_low': '53.21',\n",
       "   '52_week_high': '57.60',\n",
       "   '52_week_low': '42.36',\n",
       "   'day_change': '0.64',\n",
       "   'change_pct': '1.20',\n",
       "   'close_yesterday': '53.30',\n",
       "   'market_cap': '242568173824',\n",
       "   'volume': '21602956',\n",
       "   'volume_avg': '26158995',\n",
       "   'shares': '4497000000',\n",
       "   'stock_exchange_long': 'NASDAQ Stock Exchange',\n",
       "   'stock_exchange_short': 'NASDAQ',\n",
       "   'timezone': 'EST',\n",
       "   'timezone_name': 'America/New_York',\n",
       "   'gmt_offset': '-18000',\n",
       "   'last_trade_time': '2019-03-04 16:00:01'},\n",
       "  {'symbol': 'MSFT',\n",
       "   'name': 'Microsoft Corporation',\n",
       "   'currency': 'USD',\n",
       "   'price': '112.26',\n",
       "   'price_open': '113.02',\n",
       "   'day_high': '113.25',\n",
       "   'day_low': '110.80',\n",
       "   '52_week_high': '116.18',\n",
       "   '52_week_low': '87.08',\n",
       "   'day_change': '-0.27',\n",
       "   'change_pct': '-0.24',\n",
       "   'close_yesterday': '112.53',\n",
       "   'market_cap': '861282647769',\n",
       "   'volume': '25874179',\n",
       "   'volume_avg': '27904061',\n",
       "   'shares': '7672213000',\n",
       "   'stock_exchange_long': 'NASDAQ Stock Exchange',\n",
       "   'stock_exchange_short': 'NASDAQ',\n",
       "   'timezone': 'EST',\n",
       "   'timezone_name': 'America/New_York',\n",
       "   'gmt_offset': '-18000',\n",
       "   'last_trade_time': '2019-03-04 16:00:01'}]}"
      ]
     },
     "execution_count": 7,
     "metadata": {},
     "output_type": "execute_result"
    }
   ],
   "source": [
    "# nuclio: ignore\n",
    "# create a test event and invoke the function locally \n",
    "event = nuclio.Event(body='')\n",
    "handler(context, event)"
   ]
  },
  {
   "cell_type": "markdown",
   "metadata": {},
   "source": [
    "## Deploy a function onto a cluster\n",
    "the `%nuclio deploy` command deploy functions into a cluster, make sure the notebook is saved prior to running it !<br>check the help (`%nuclio help deploy`) for more information"
   ]
  },
  {
   "cell_type": "code",
   "execution_count": 8,
   "metadata": {},
   "outputs": [
    {
     "name": "stdout",
     "output_type": "stream",
     "text": [
      "%nuclio: [nuclio.deploy] 2019-03-04 23:22:48,635 project name not found created new (stocks)\n",
      "%nuclio: [nuclio.deploy] 2019-03-04 23:22:50,702 (info) Building processor image\n",
      "%nuclio: [nuclio.deploy] 2019-03-04 23:23:24,001 (info) Pushing image\n",
      "%nuclio: [nuclio.deploy] 2019-03-04 23:23:43,192 (info) Build complete\n",
      "%nuclio: [nuclio.deploy] 2019-03-04 23:23:47,233 (info) Function deploy complete\n",
      "%nuclio: [nuclio.deploy] 2019-03-04 23:23:47,238 done creating read-stocks, function address: 3.122.204.208:31641\n",
      "%nuclio: function deployed\n"
     ]
    }
   ],
   "source": [
    "%nuclio deploy -p stocks -c"
   ]
  },
  {
   "cell_type": "code",
   "execution_count": null,
   "metadata": {},
   "outputs": [],
   "source": []
  }
 ],
 "metadata": {
  "kernelspec": {
   "display_name": "Python 3",
   "language": "python",
   "name": "python3"
  },
  "language_info": {
   "codemirror_mode": {
    "name": "ipython",
    "version": 3
   },
   "file_extension": ".py",
   "mimetype": "text/x-python",
   "name": "python",
   "nbconvert_exporter": "python",
   "pygments_lexer": "ipython3",
   "version": "3.6.8"
  },
  "toc-autonumbering": false
 },
 "nbformat": 4,
 "nbformat_minor": 2
}
