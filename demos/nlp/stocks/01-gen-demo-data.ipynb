{
 "cells": [
  {
   "cell_type": "markdown",
   "metadata": {},
   "source": [
    "# Genarate Stocks Demo Data\n",
    "\n",
    "Run the code below to generate the key/value table, time-series table and stream used in the demo<br>\n",
    "> ### In order to run the notebook you need to obtain a free token from WorldTradingData \n",
    "\n",
    "### Require obtaining a (free) API token from [World Trading Data](https://www.worldtradingdata.com) and setting the environment variable below "
   ]
  },
  {
   "cell_type": "code",
   "execution_count": 1,
   "metadata": {},
   "outputs": [
    {
     "name": "stdout",
     "output_type": "stream",
     "text": [
      "env: API_TOKEN=<Insert world trading data token>\n"
     ]
    }
   ],
   "source": [
    "%env API_TOKEN = <Insert world trading data token>"
   ]
  },
  {
   "cell_type": "code",
   "execution_count": 2,
   "metadata": {},
   "outputs": [],
   "source": [
    "# import required libraries \n",
    "import pandas as pd\n",
    "import numpy as np\n",
    "import os\n",
    "from datetime import datetime\n",
    "import sys\n",
    "sys.path.append('../../')\n",
    "import v3io_frames_local as v3f"
   ]
  },
  {
   "cell_type": "code",
   "execution_count": 3,
   "metadata": {},
   "outputs": [],
   "source": [
    "# initialize iguazio multi-model DB dataframe client library \n",
    "client = v3f.Client('framesd:8081')"
   ]
  },
  {
   "cell_type": "markdown",
   "metadata": {},
   "source": [
    "## Delete KV, TSDB, and Stream tabels\n",
    "in case we want to start things from scratch (delete current tabels), uncomment the following line(s) and run them "
   ]
  },
  {
   "cell_type": "code",
   "execution_count": 4,
   "metadata": {},
   "outputs": [],
   "source": [
    "#client.delete('kv','stocks')"
   ]
  },
  {
   "cell_type": "code",
   "execution_count": 5,
   "metadata": {},
   "outputs": [],
   "source": [
    "#client.delete('tsdb','stock_metrics')"
   ]
  },
  {
   "cell_type": "code",
   "execution_count": 6,
   "metadata": {},
   "outputs": [],
   "source": [
    "#client.delete('stream','stock_stream')"
   ]
  },
  {
   "cell_type": "markdown",
   "metadata": {},
   "source": [
    "## Create TSDB, KV, and Stream tabels "
   ]
  },
  {
   "cell_type": "code",
   "execution_count": 7,
   "metadata": {},
   "outputs": [
    {
     "ename": "ValueError",
     "evalue": "Protocol message CreateRequest has no \"attrs\" field.",
     "output_type": "error",
     "traceback": [
      "\u001b[0;31m---------------------------------------------------------------------------\u001b[0m",
      "\u001b[0;31mValueError\u001b[0m                                Traceback (most recent call last)",
      "\u001b[0;32m<ipython-input-7-3fa963e88f95>\u001b[0m in \u001b[0;36m<module>\u001b[0;34m\u001b[0m\n\u001b[0;32m----> 1\u001b[0;31m \u001b[0mclient\u001b[0m\u001b[0;34m.\u001b[0m\u001b[0mcreate\u001b[0m\u001b[0;34m(\u001b[0m\u001b[0mbackend\u001b[0m\u001b[0;34m=\u001b[0m\u001b[0;34m'tsdb'\u001b[0m\u001b[0;34m,\u001b[0m \u001b[0mtable\u001b[0m\u001b[0;34m=\u001b[0m\u001b[0;34m'stock_metrics'\u001b[0m\u001b[0;34m,\u001b[0m\u001b[0mattrs\u001b[0m\u001b[0;34m=\u001b[0m\u001b[0;34m{\u001b[0m\u001b[0;34m'rate'\u001b[0m\u001b[0;34m:\u001b[0m\u001b[0;34m'1/m'\u001b[0m\u001b[0;34m}\u001b[0m\u001b[0;34m)\u001b[0m\u001b[0;34m\u001b[0m\u001b[0;34m\u001b[0m\u001b[0m\n\u001b[0m",
      "\u001b[0;32m~/v3io_frames_local/client.py\u001b[0m in \u001b[0;36mcreate\u001b[0;34m(self, backend, table, schema, if_exists, **kw)\u001b[0m\n\u001b[1;32m    333\u001b[0m         \"\"\"\n\u001b[1;32m    334\u001b[0m         \u001b[0mself\u001b[0m\u001b[0;34m.\u001b[0m\u001b[0m_validate_request\u001b[0m\u001b[0;34m(\u001b[0m\u001b[0mbackend\u001b[0m\u001b[0;34m,\u001b[0m \u001b[0mtable\u001b[0m\u001b[0;34m,\u001b[0m \u001b[0mCreateError\u001b[0m\u001b[0;34m)\u001b[0m\u001b[0;34m\u001b[0m\u001b[0;34m\u001b[0m\u001b[0m\n\u001b[0;32m--> 335\u001b[0;31m         \u001b[0;32mreturn\u001b[0m \u001b[0mself\u001b[0m\u001b[0;34m.\u001b[0m\u001b[0m_create\u001b[0m\u001b[0;34m(\u001b[0m\u001b[0mself\u001b[0m\u001b[0;34m.\u001b[0m\u001b[0m_alias_backends\u001b[0m\u001b[0;34m(\u001b[0m\u001b[0mbackend\u001b[0m\u001b[0;34m)\u001b[0m\u001b[0;34m,\u001b[0m \u001b[0mtable\u001b[0m\u001b[0;34m,\u001b[0m \u001b[0mschema\u001b[0m\u001b[0;34m,\u001b[0m \u001b[0mif_exists\u001b[0m\u001b[0;34m,\u001b[0m \u001b[0;34m**\u001b[0m\u001b[0mkw\u001b[0m\u001b[0;34m)\u001b[0m\u001b[0;34m\u001b[0m\u001b[0;34m\u001b[0m\u001b[0m\n\u001b[0m\u001b[1;32m    336\u001b[0m \u001b[0;34m\u001b[0m\u001b[0m\n\u001b[1;32m    337\u001b[0m     def delete(self, backend, table, filter='', start='', end='',\n",
      "\u001b[0;32m~/v3io_frames_local/grpc.py\u001b[0m in \u001b[0;36mwrapper\u001b[0;34m(*args, **kw)\u001b[0m\n\u001b[1;32m     43\u001b[0m         \u001b[0;32mdef\u001b[0m \u001b[0mwrapper\u001b[0m\u001b[0;34m(\u001b[0m\u001b[0;34m*\u001b[0m\u001b[0margs\u001b[0m\u001b[0;34m,\u001b[0m \u001b[0;34m**\u001b[0m\u001b[0mkw\u001b[0m\u001b[0;34m)\u001b[0m\u001b[0;34m:\u001b[0m\u001b[0;34m\u001b[0m\u001b[0;34m\u001b[0m\u001b[0m\n\u001b[1;32m     44\u001b[0m             \u001b[0;32mtry\u001b[0m\u001b[0;34m:\u001b[0m\u001b[0;34m\u001b[0m\u001b[0;34m\u001b[0m\u001b[0m\n\u001b[0;32m---> 45\u001b[0;31m                 \u001b[0;32mreturn\u001b[0m \u001b[0mfn\u001b[0m\u001b[0;34m(\u001b[0m\u001b[0;34m*\u001b[0m\u001b[0margs\u001b[0m\u001b[0;34m,\u001b[0m \u001b[0;34m**\u001b[0m\u001b[0mkw\u001b[0m\u001b[0;34m)\u001b[0m\u001b[0;34m\u001b[0m\u001b[0;34m\u001b[0m\u001b[0m\n\u001b[0m\u001b[1;32m     46\u001b[0m             \u001b[0;32mexcept\u001b[0m \u001b[0mgrpc\u001b[0m\u001b[0;34m.\u001b[0m\u001b[0mRpcError\u001b[0m \u001b[0;32mas\u001b[0m \u001b[0mgerr\u001b[0m\u001b[0;34m:\u001b[0m\u001b[0;34m\u001b[0m\u001b[0;34m\u001b[0m\u001b[0m\n\u001b[1;32m     47\u001b[0m                 \u001b[0merr\u001b[0m \u001b[0;34m=\u001b[0m \u001b[0merr_cls\u001b[0m\u001b[0;34m(\u001b[0m\u001b[0;34m'error in {}: {}'\u001b[0m\u001b[0;34m.\u001b[0m\u001b[0mformat\u001b[0m\u001b[0;34m(\u001b[0m\u001b[0mfn\u001b[0m\u001b[0;34m.\u001b[0m\u001b[0m__name__\u001b[0m\u001b[0;34m,\u001b[0m \u001b[0mgerr\u001b[0m\u001b[0;34m)\u001b[0m\u001b[0;34m)\u001b[0m\u001b[0;34m\u001b[0m\u001b[0;34m\u001b[0m\u001b[0m\n",
      "\u001b[0;32m~/v3io_frames_local/grpc.py\u001b[0m in \u001b[0;36m_create\u001b[0;34m(self, backend, table, schema, if_exists, **kw)\u001b[0m\n\u001b[1;32m    116\u001b[0m                 \u001b[0mschema\u001b[0m\u001b[0;34m=\u001b[0m\u001b[0mschema\u001b[0m\u001b[0;34m,\u001b[0m\u001b[0;34m\u001b[0m\u001b[0;34m\u001b[0m\u001b[0m\n\u001b[1;32m    117\u001b[0m                 \u001b[0mif_exists\u001b[0m\u001b[0;34m=\u001b[0m\u001b[0mif_exists\u001b[0m\u001b[0;34m,\u001b[0m\u001b[0;34m\u001b[0m\u001b[0;34m\u001b[0m\u001b[0m\n\u001b[0;32m--> 118\u001b[0;31m                 \u001b[0;34m**\u001b[0m\u001b[0mkw\u001b[0m\u001b[0;34m\u001b[0m\u001b[0;34m\u001b[0m\u001b[0m\n\u001b[0m\u001b[1;32m    119\u001b[0m             )\n\u001b[1;32m    120\u001b[0m             \u001b[0mstub\u001b[0m\u001b[0;34m.\u001b[0m\u001b[0mCreate\u001b[0m\u001b[0;34m(\u001b[0m\u001b[0mrequest\u001b[0m\u001b[0;34m)\u001b[0m\u001b[0;34m\u001b[0m\u001b[0;34m\u001b[0m\u001b[0m\n",
      "\u001b[0;31mValueError\u001b[0m: Protocol message CreateRequest has no \"attrs\" field."
     ]
    }
   ],
   "source": [
    "client.create(backend='tsdb', table='stock_metrics',attrs={'rate':'1/m'})"
   ]
  },
  {
   "cell_type": "code",
   "execution_count": null,
   "metadata": {},
   "outputs": [],
   "source": [
    "client.create(backend='stream', table='stock_stream',attrs={'retention_hours':48,'shards':1})"
   ]
  },
  {
   "cell_type": "code",
   "execution_count": null,
   "metadata": {},
   "outputs": [],
   "source": [
    "# fill the key/value table with some data (KV tables are automatically created on write and have a dynamic schema)\n",
    "kvtbl = '{\"price\":{\"GOOG\":1039.55,\"AMZN\":1641.03,\"AAPL\":169.6,\"MSFT\":107.59,\"INTC\":47.21},\"volume\":{\"GOOG\":1807725,\"AMZN\":7494808,\"AAPL\":62025994,\"MSFT\":40801525,\"INTC\":23289000},\"symbol\":{\"GOOG\":\"GOOG\",\"AMZN\":\"AMZN\",\"AAPL\":\"AAPL\",\"MSFT\":\"MSFT\",\"INTC\":\"INTC\"},\"exchange\":{\"GOOG\":\"NASDAQ\",\"AMZN\":\"NASDAQ\",\"AAPL\":\"NASDAQ\",\"MSFT\":\"NASDAQ\",\"INTC\":\"NASDAQ\"},\"last_trade\":{\"GOOG\":\"2018-12-10 16:00:01\",\"AMZN\":\"2018-12-10 16:00:02\",\"AAPL\":\"2018-12-10 16:00:02\",\"MSFT\":\"2018-12-10 16:00:02\",\"INTC\":\"2018-12-10 16:00:02\"},\"name\":{\"GOOG\":\"Alphabet Inc Class C\",\"AMZN\":\"Amazon.com, Inc.\",\"AAPL\":\"Apple Inc.\",\"MSFT\":\"Microsoft Corporation\",\"INTC\":\"Intel Corporation\"},\"currency\":{\"GOOG\":\"USD\",\"AMZN\":\"USD\",\"AAPL\":\"USD\",\"MSFT\":\"USD\",\"INTC\":\"USD\"},\"timezone\":{\"GOOG\":\"EST\",\"AMZN\":\"EST\",\"AAPL\":\"EST\",\"MSFT\":\"EST\",\"INTC\":\"EST\"}}'\n",
    "client.write(backend='kv', table='stocks',dfs=pd.read_json(kvtbl))"
   ]
  },
  {
   "cell_type": "markdown",
   "metadata": {},
   "source": [
    "## Fill the time-series table with a week worth or historical data from WorldTradingData API "
   ]
  },
  {
   "cell_type": "code",
   "execution_count": null,
   "metadata": {},
   "outputs": [],
   "source": [
    "# read the stocks kv table (to get the Symboles)\n",
    "sdf = client.read(backend='kv', table='stocks') \n",
    "stocklist = sdf.index.tolist()\n",
    "\n",
    "# create all stocks data based on stocks table & WTD history API\n",
    "# need the symbol & exchange name from stocks table \n",
    "urlt = 'https://www.worldtradingdata.com/api/v1/intraday?symbol={0}&range=7&sort=asc&interval=1&output=csv&api_token=' + os.getenv('API_TOKEN')\n",
    "for sym in stocklist:\n",
    "    if not sym:\n",
    "        continue \n",
    "    url = urlt.format(sym)\n",
    "    df = pd.read_csv(url,skiprows=[0])\n",
    "    df.drop(['Open','High','Low'], axis=1, inplace=True)\n",
    "    df.rename(columns={'Close': 'price', 'Volume': 'volume'}, inplace=True)\n",
    "    \n",
    "    # generate random sentiment series per stock\n",
    "    df['sentiment'] = np.random.uniform(low=0.0, high=2, size=(len(df),))-1\n",
    "    \n",
    "    # set the index to date, symbol, exchange (will be marked as TSDB labels) \n",
    "    df.Date = pd.to_datetime(df.Date)\n",
    "    df['exchange']=sdf.loc[sym].exchange\n",
    "    df['symbol']=sym\n",
    "    newdf =df.set_index(['Date','symbol','exchange'])\n",
    "    \n",
    "    # write to the TSDB\n",
    "    print(newdf.head())\n",
    "    client.write(backend='tsdb', table='stock_metrics',dfs=newdf)"
   ]
  },
  {
   "cell_type": "markdown",
   "metadata": {},
   "source": [
    "## Fill dummy tweet data in the stream"
   ]
  },
  {
   "cell_type": "code",
   "execution_count": null,
   "metadata": {},
   "outputs": [],
   "source": [
    "import json\n",
    "record = {'text': 'bla bla bla', \n",
    "          'user': '@supermen',\n",
    "          'id': 1102722594429132545,\n",
    "          'created_at':'Tue Mar 02 00:08:48 +0000 2019',\n",
    "          'polarity':0.3,\n",
    "          'subjectivity':0.1,\n",
    "         }\n",
    "client.execute('stream', 'stock_stream', 'put', args={'data': json.dumps(record)})"
   ]
  }
 ],
 "metadata": {
  "kernelspec": {
   "display_name": "Python 3",
   "language": "python",
   "name": "python3"
  },
  "language_info": {
   "codemirror_mode": {
    "name": "ipython",
    "version": 3
   },
   "file_extension": ".py",
   "mimetype": "text/x-python",
   "name": "python",
   "nbconvert_exporter": "python",
   "pygments_lexer": "ipython3",
   "version": "3.6.8"
  }
 },
 "nbformat": 4,
 "nbformat_minor": 4
}
