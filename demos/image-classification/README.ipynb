{
 "cells": [
  {
   "cell_type": "markdown",
   "metadata": {},
   "source": [
    "# Image Classification Using Distributed Training\n",
    "\n",
    "- [Overview](#image-classif-demo-overview)\n",
    "- [Notebooks and Code](#image-classif-demo-nbs-n-code)"
   ]
  },
  {
   "cell_type": "markdown",
   "metadata": {},
   "source": [
    "<a id=\"image-classif-demo-overview\"></a>\n",
    "## Overview\n",
    "\n",
    "This demo demonstrates an end-to-end solution for image recognition: the application uses TensorFlow, Keras, Horovod, and Nuclio to build and train an ML model that identifies (recognizes) and classifies images. \n",
    "The application consists of four MLRun and Nuclio functions for performing the following operations:\n",
    "\n",
    "1. Import an image archive from from an Amazon Simple Storage (S3) bucket to the platform's data store.\n",
    "2. Tag the images based on their name structure.\n",
    "3. Train the image-classification ML model by using [TensorFlow](https://www.tensorflow.org/) and [Keras](https://keras.io/); use [Horovod](https://eng.uber.com/horovod/) to perform distributed training over either GPUs or CPUs.\n",
    "4. Automatically deploy a Nuclio model-serving function from [Jupyter Notebook](nuclio-serving-tf-images.ipynb) or from a [Dockerfile](./inference-docker).\n",
    "\n",
    "<br><p align=\"center\"><img src=\"workflow.png\" width=\"600\"/></p><br>\n",
    "\n",
    "This demo also provides an example of an [automated pipeline](image-classification/02-create_pipeline.ipynb) using [MLRun](https://github.com/mlrun/mlrun) and [Kubeflow pipelines](https://github.com/kubeflow/pipelines)."
   ]
  },
  {
   "cell_type": "markdown",
   "metadata": {},
   "source": [
    "<a id=\"image-classif-demo-nbs-n-code\"></a>\n",
    "## Notebooks and Code\n",
    "\n",
    "- [**01-image-classification.ipynb**](01-image-classification.ipynb) &mdash; all-in-one: import, tag, launch train, deploy, and serve\n",
    "- [**horovod-training.py**](horovod-training.py) &mdash; train function code\n",
    "- [**nuclio-serving-tf-images.ipynb**](nuclio-serving-tf-images.ipynb) &mdash; serve function development and test\n",
    "- [**02-create_pipeline.ipynb**](02-create_pipeline.ipynb) &mdash; auto-generate a Kubeflow pipeline workflow\n",
    "- **inference-docker/** &mdash; build and serve functions using a Dockerfile:\n",
    "  - [**main.py**](./inference-docker/main.py) &mdash; function code\n",
    "  - [**Dockerfile**](./inference-docker/Dockerfile) &mdash; a Dockerfile"
   ]
  }
 ],
 "metadata": {
  "kernelspec": {
   "display_name": "Python 3",
   "language": "python",
   "name": "python3"
  },
  "language_info": {
   "codemirror_mode": {
    "name": "ipython",
    "version": 3
   },
   "file_extension": ".py",
   "mimetype": "text/x-python",
   "name": "python",
   "nbconvert_exporter": "python",
   "pygments_lexer": "ipython3",
   "version": "3.6.8"
  }
 },
 "nbformat": 4,
 "nbformat_minor": 4
}
