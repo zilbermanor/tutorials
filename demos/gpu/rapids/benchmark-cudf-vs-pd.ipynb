{
 "cells": [
  {
   "cell_type": "markdown",
   "metadata": {},
   "source": [
    "# Benchmarks Comparison &mdash; pandas Versus RAPIDS cuDF\n",
    "\n",
    "This tutorial uses `timeit` to compare performance benchmarks with pandas and RAPIDS cuDF."
   ]
  },
  {
   "cell_type": "markdown",
   "metadata": {},
   "source": [
    "## System Details"
   ]
  },
  {
   "cell_type": "markdown",
   "metadata": {},
   "source": [
    "### GPU"
   ]
  },
  {
   "cell_type": "code",
   "execution_count": 1,
   "metadata": {},
   "outputs": [
    {
     "name": "stdout",
     "output_type": "stream",
     "text": [
      "\n",
      "==============NVSMI LOG==============\n",
      "\n",
      "Timestamp                           : Tue Sep  3 06:37:06 2019\n",
      "Driver Version                      : 418.56\n",
      "CUDA Version                        : 10.1\n",
      "\n",
      "Attached GPUs                       : 1\n",
      "GPU 00000000:00:1E.0\n",
      "    Product Name                    : Tesla V100-SXM2-16GB\n",
      "    Product Brand                   : Tesla\n",
      "    Display Mode                    : Enabled\n",
      "    Display Active                  : Disabled\n",
      "    Persistence Mode                : Enabled\n",
      "    Accounting Mode                 : Disabled\n",
      "    Accounting Mode Buffer Size     : 4000\n",
      "    Driver Model\n",
      "        Current                     : N/A\n",
      "        Pending                     : N/A\n",
      "    Serial Number                   : 0323017025263\n",
      "    GPU UUID                        : GPU-f02f07a7-7607-6aec-7831-64fe25f7c212\n",
      "    Minor Number                    : 0\n",
      "    VBIOS Version                   : 88.00.4F.00.09\n",
      "    MultiGPU Board                  : No\n",
      "    Board ID                        : 0x1e\n",
      "    GPU Part Number                 : 900-2G503-0000-000\n",
      "    Inforom Version\n",
      "        Image Version               : G503.0201.00.03\n",
      "        OEM Object                  : 1.1\n",
      "        ECC Object                  : 5.0\n",
      "        Power Management Object     : N/A\n",
      "    GPU Operation Mode\n",
      "        Current                     : N/A\n",
      "        Pending                     : N/A\n",
      "    GPU Virtualization Mode\n",
      "        Virtualization mode         : Pass-Through\n",
      "    IBMNPU\n",
      "        Relaxed Ordering Mode       : N/A\n",
      "    PCI\n",
      "        Bus                         : 0x00\n",
      "        Device                      : 0x1E\n",
      "        Domain                      : 0x0000\n",
      "        Device Id                   : 0x1DB110DE\n",
      "        Bus Id                      : 00000000:00:1E.0\n",
      "        Sub System Id               : 0x121210DE\n",
      "        GPU Link Info\n",
      "            PCIe Generation\n",
      "                Max                 : 3\n",
      "                Current             : 3\n",
      "            Link Width\n",
      "                Max                 : 16x\n",
      "                Current             : 16x\n",
      "        Bridge Chip\n",
      "            Type                    : N/A\n",
      "            Firmware                : N/A\n",
      "        Replays Since Reset         : 0\n",
      "        Replay Number Rollovers     : 0\n",
      "        Tx Throughput               : 0 KB/s\n",
      "        Rx Throughput               : 0 KB/s\n",
      "    Fan Speed                       : N/A\n",
      "    Performance State               : P0\n",
      "    Clocks Throttle Reasons\n",
      "        Idle                        : Active\n",
      "        Applications Clocks Setting : Not Active\n",
      "        SW Power Cap                : Not Active\n",
      "        HW Slowdown                 : Not Active\n",
      "            HW Thermal Slowdown     : Not Active\n",
      "            HW Power Brake Slowdown : Not Active\n",
      "        Sync Boost                  : Not Active\n",
      "        SW Thermal Slowdown         : Not Active\n",
      "        Display Clock Setting       : Not Active\n",
      "    FB Memory Usage\n",
      "        Total                       : 16130 MiB\n",
      "        Used                        : 0 MiB\n",
      "        Free                        : 16130 MiB\n",
      "    BAR1 Memory Usage\n",
      "        Total                       : 16384 MiB\n",
      "        Used                        : 2 MiB\n",
      "        Free                        : 16382 MiB\n",
      "    Compute Mode                    : Default\n",
      "    Utilization\n",
      "        Gpu                         : 0 %\n",
      "        Memory                      : 0 %\n",
      "        Encoder                     : 0 %\n",
      "        Decoder                     : 0 %\n",
      "    Encoder Stats\n",
      "        Active Sessions             : 0\n",
      "        Average FPS                 : 0\n",
      "        Average Latency             : 0\n",
      "    FBC Stats\n",
      "        Active Sessions             : 0\n",
      "        Average FPS                 : 0\n",
      "        Average Latency             : 0\n",
      "    Ecc Mode\n",
      "        Current                     : Enabled\n",
      "        Pending                     : Enabled\n",
      "    ECC Errors\n",
      "        Volatile\n",
      "            Single Bit            \n",
      "                Device Memory       : 0\n",
      "                Register File       : 0\n",
      "                L1 Cache            : 0\n",
      "                L2 Cache            : 0\n",
      "                Texture Memory      : N/A\n",
      "                Texture Shared      : N/A\n",
      "                CBU                 : N/A\n",
      "                Total               : 0\n",
      "            Double Bit            \n",
      "                Device Memory       : 0\n",
      "                Register File       : 0\n",
      "                L1 Cache            : 0\n",
      "                L2 Cache            : 0\n",
      "                Texture Memory      : N/A\n",
      "                Texture Shared      : N/A\n",
      "                CBU                 : 0\n",
      "                Total               : 0\n",
      "        Aggregate\n",
      "            Single Bit            \n",
      "                Device Memory       : 0\n",
      "                Register File       : 0\n",
      "                L1 Cache            : 0\n",
      "                L2 Cache            : 0\n",
      "                Texture Memory      : N/A\n",
      "                Texture Shared      : N/A\n",
      "                CBU                 : N/A\n",
      "                Total               : 0\n",
      "            Double Bit            \n",
      "                Device Memory       : 0\n",
      "                Register File       : 0\n",
      "                L1 Cache            : 0\n",
      "                L2 Cache            : 0\n",
      "                Texture Memory      : N/A\n",
      "                Texture Shared      : N/A\n",
      "                CBU                 : 0\n",
      "                Total               : 0\n",
      "    Retired Pages\n",
      "        Single Bit ECC              : 0\n",
      "        Double Bit ECC              : 0\n",
      "        Pending                     : No\n",
      "    Temperature\n",
      "        GPU Current Temp            : 33 C\n",
      "        GPU Shutdown Temp           : 90 C\n",
      "        GPU Slowdown Temp           : 87 C\n",
      "        GPU Max Operating Temp      : 83 C\n",
      "        Memory Current Temp         : 31 C\n",
      "        Memory Max Operating Temp   : 85 C\n",
      "    Power Readings\n",
      "        Power Management            : Supported\n",
      "        Power Draw                  : 25.49 W\n",
      "        Power Limit                 : 300.00 W\n",
      "        Default Power Limit         : 300.00 W\n",
      "        Enforced Power Limit        : 300.00 W\n",
      "        Min Power Limit             : 150.00 W\n",
      "        Max Power Limit             : 300.00 W\n",
      "    Clocks\n",
      "        Graphics                    : 135 MHz\n",
      "        SM                          : 135 MHz\n",
      "        Memory                      : 877 MHz\n",
      "        Video                       : 555 MHz\n",
      "    Applications Clocks\n",
      "        Graphics                    : 1312 MHz\n",
      "        Memory                      : 877 MHz\n",
      "    Default Applications Clocks\n",
      "        Graphics                    : 1312 MHz\n",
      "        Memory                      : 877 MHz\n",
      "    Max Clocks\n",
      "        Graphics                    : 1530 MHz\n",
      "        SM                          : 1530 MHz\n",
      "        Memory                      : 877 MHz\n",
      "        Video                       : 1372 MHz\n",
      "    Max Customer Boost Clocks\n",
      "        Graphics                    : 1530 MHz\n",
      "    Clock Policy\n",
      "        Auto Boost                  : N/A\n",
      "        Auto Boost Default          : N/A\n",
      "    Processes                       : None\n",
      "\n"
     ]
    }
   ],
   "source": [
    "!nvidia-smi -q"
   ]
  },
  {
   "cell_type": "markdown",
   "metadata": {},
   "source": [
    "### CPU"
   ]
  },
  {
   "cell_type": "code",
   "execution_count": 2,
   "metadata": {},
   "outputs": [
    {
     "name": "stdout",
     "output_type": "stream",
     "text": [
      "processor       : 0\n",
      "vendor_id       : GenuineIntel\n",
      "cpu family      : 6\n",
      "model           : 79\n",
      "model name      : Intel(R) Xeon(R) CPU E5-2686 v4 @ 2.30GHz\n",
      "stepping        : 1\n",
      "microcode       : 0xb000037\n",
      "cpu MHz         : 2700.085\n",
      "cache size      : 46080 KB\n",
      "physical id     : 0\n",
      "siblings        : 8\n",
      "core id         : 0\n",
      "cpu cores       : 4\n",
      "apicid          : 0\n",
      "initial apicid  : 0\n",
      "fpu             : yes\n",
      "fpu_exception   : yes\n",
      "cpuid level     : 13\n",
      "wp              : yes\n",
      "\u001b[K:\u001b[K         : fpu vme de pse tsc msr pae mce cx8 apic sep mtrr pge mca cmov pat pse36 clflush mmx fxsr sse sse2 ht syscall nx pdpe1gb rdtscp lm constant_tsc rep_good nopl xtopology nonstop_tsc aperfmperf eagerfpu pni pclmulqdq ssse3 fma cx16 pcid sse4_1 sse4_2 x2apic movbe popcnt tsc_deadline_timer aes xsave avx f1\u001b[7m/proc/cpuinfo\u001b[m\u001b[K\u0007"
     ]
    }
   ],
   "source": [
    "!less /proc/cpuinfo"
   ]
  },
  {
   "cell_type": "markdown",
   "metadata": {},
   "source": [
    "## Benchmark Setup"
   ]
  },
  {
   "cell_type": "markdown",
   "metadata": {},
   "source": [
    "### Installations\n",
    "\n",
    "Install v3io-generator to create a 1 GB data set for the benchmark.<br>\n",
    "You only need to run the generator once, and then you can reuse the generated data set."
   ]
  },
  {
   "cell_type": "code",
   "execution_count": 1,
   "metadata": {},
   "outputs": [
    {
     "name": "stdout",
     "output_type": "stream",
     "text": [
      "Collecting pytimeparse\n",
      "  Downloading https://files.pythonhosted.org/packages/1b/b4/afd75551a3b910abd1d922dbd45e49e5deeb4d47dc50209ce489ba9844dd/pytimeparse-1.1.8-py2.py3-none-any.whl\n",
      "Installing collected packages: pytimeparse\n",
      "Successfully installed pytimeparse-1.1.8\n",
      "Looking in indexes: https://test.pypi.org/simple/\n",
      "Collecting v3io-generator\n",
      "  Downloading https://test-files.pythonhosted.org/packages/6c/f6/ba9045111de98747af2c94e10f3dbf74311e6bd3a033c7ea1ca84e084e82/v3io_generator-0.0.27.dev0-py3-none-any.whl\n",
      "Installing collected packages: v3io-generator\n",
      "Successfully installed v3io-generator-0.0.27.dev0\n"
     ]
    }
   ],
   "source": [
    "!pip install pytimeparse\n",
    "!pip install -i https://test.pypi.org/simple/ v3io-generator --upgrade"
   ]
  },
  {
   "cell_type": "markdown",
   "metadata": {},
   "source": [
    "### Imports"
   ]
  },
  {
   "cell_type": "code",
   "execution_count": 1,
   "metadata": {},
   "outputs": [
    {
     "name": "stderr",
     "output_type": "stream",
     "text": [
      "/User/.pythonlibs/lib/python3.6/site-packages/tensorflow/python/framework/dtypes.py:516: FutureWarning: Passing (type, 1) or '1type' as a synonym of type is deprecated; in a future version of numpy, it will be understood as (type, (1,)) / '(1,)type'.\n",
      "  _np_qint8 = np.dtype([(\"qint8\", np.int8, 1)])\n",
      "/User/.pythonlibs/lib/python3.6/site-packages/tensorflow/python/framework/dtypes.py:517: FutureWarning: Passing (type, 1) or '1type' as a synonym of type is deprecated; in a future version of numpy, it will be understood as (type, (1,)) / '(1,)type'.\n",
      "  _np_quint8 = np.dtype([(\"quint8\", np.uint8, 1)])\n",
      "/User/.pythonlibs/lib/python3.6/site-packages/tensorflow/python/framework/dtypes.py:518: FutureWarning: Passing (type, 1) or '1type' as a synonym of type is deprecated; in a future version of numpy, it will be understood as (type, (1,)) / '(1,)type'.\n",
      "  _np_qint16 = np.dtype([(\"qint16\", np.int16, 1)])\n",
      "/User/.pythonlibs/lib/python3.6/site-packages/tensorflow/python/framework/dtypes.py:519: FutureWarning: Passing (type, 1) or '1type' as a synonym of type is deprecated; in a future version of numpy, it will be understood as (type, (1,)) / '(1,)type'.\n",
      "  _np_quint16 = np.dtype([(\"quint16\", np.uint16, 1)])\n",
      "/User/.pythonlibs/lib/python3.6/site-packages/tensorflow/python/framework/dtypes.py:520: FutureWarning: Passing (type, 1) or '1type' as a synonym of type is deprecated; in a future version of numpy, it will be understood as (type, (1,)) / '(1,)type'.\n",
      "  _np_qint32 = np.dtype([(\"qint32\", np.int32, 1)])\n",
      "/User/.pythonlibs/lib/python3.6/site-packages/tensorflow/python/framework/dtypes.py:525: FutureWarning: Passing (type, 1) or '1type' as a synonym of type is deprecated; in a future version of numpy, it will be understood as (type, (1,)) / '(1,)type'.\n",
      "  np_resource = np.dtype([(\"resource\", np.ubyte, 1)])\n",
      "/User/.pythonlibs/lib/python3.6/site-packages/tensorboard/compat/tensorflow_stub/dtypes.py:541: FutureWarning: Passing (type, 1) or '1type' as a synonym of type is deprecated; in a future version of numpy, it will be understood as (type, (1,)) / '(1,)type'.\n",
      "  _np_qint8 = np.dtype([(\"qint8\", np.int8, 1)])\n",
      "/User/.pythonlibs/lib/python3.6/site-packages/tensorboard/compat/tensorflow_stub/dtypes.py:542: FutureWarning: Passing (type, 1) or '1type' as a synonym of type is deprecated; in a future version of numpy, it will be understood as (type, (1,)) / '(1,)type'.\n",
      "  _np_quint8 = np.dtype([(\"quint8\", np.uint8, 1)])\n",
      "/User/.pythonlibs/lib/python3.6/site-packages/tensorboard/compat/tensorflow_stub/dtypes.py:543: FutureWarning: Passing (type, 1) or '1type' as a synonym of type is deprecated; in a future version of numpy, it will be understood as (type, (1,)) / '(1,)type'.\n",
      "  _np_qint16 = np.dtype([(\"qint16\", np.int16, 1)])\n",
      "/User/.pythonlibs/lib/python3.6/site-packages/tensorboard/compat/tensorflow_stub/dtypes.py:544: FutureWarning: Passing (type, 1) or '1type' as a synonym of type is deprecated; in a future version of numpy, it will be understood as (type, (1,)) / '(1,)type'.\n",
      "  _np_quint16 = np.dtype([(\"quint16\", np.uint16, 1)])\n",
      "/User/.pythonlibs/lib/python3.6/site-packages/tensorboard/compat/tensorflow_stub/dtypes.py:545: FutureWarning: Passing (type, 1) or '1type' as a synonym of type is deprecated; in a future version of numpy, it will be understood as (type, (1,)) / '(1,)type'.\n",
      "  _np_qint32 = np.dtype([(\"qint32\", np.int32, 1)])\n",
      "/User/.pythonlibs/lib/python3.6/site-packages/tensorboard/compat/tensorflow_stub/dtypes.py:550: FutureWarning: Passing (type, 1) or '1type' as a synonym of type is deprecated; in a future version of numpy, it will be understood as (type, (1,)) / '(1,)type'.\n",
      "  np_resource = np.dtype([(\"resource\", np.ubyte, 1)])\n"
     ]
    }
   ],
   "source": [
    "import os\n",
    "import yaml\n",
    "import time\n",
    "import datetime\n",
    "import json\n",
    "import itertools\n",
    "\n",
    "# Generator\n",
    "from v3io_generator import metrics_generator, deployment_generator\n",
    "\n",
    "# Dataframes\n",
    "import cudf\n",
    "import pandas as pd"
   ]
  },
  {
   "cell_type": "markdown",
   "metadata": {},
   "source": [
    "### Configurations"
   ]
  },
  {
   "cell_type": "code",
   "execution_count": 2,
   "metadata": {},
   "outputs": [],
   "source": [
    "# Benchmark configurations\n",
    "metric_names = ['cpu_utilization', 'latency', 'packet_loss', 'throughput']\n",
    "nlargest = 10\n",
    "source_file = os.path.join(os.getcwd(), 'data', 'ops.logs') # Use full path\n",
    "\n",
    "\n",
    "os.environ['SOURCE_PATH'] = source_file                    # Expose for display\n",
    "os.environ['SOURCE_DIR'] = os.path.dirname(source_file)    # Expose for display\n",
    "os.environ['SOURCE_FILE'] = os.path.basename(source_file)  # Expose for display"
   ]
  },
  {
   "cell_type": "markdown",
   "metadata": {},
   "source": [
    "### Create the Data Source\n",
    "\n",
    "Use v3io-generator to create a time-series network-operations dataset for 100 companies, including 4 metrics (CPU utilization, latency, throughput, and packet loss).<br>\n",
    "Then, write the dataset to a JSON file to be used as the data source."
   ]
  },
  {
   "cell_type": "code",
   "execution_count": 4,
   "metadata": {},
   "outputs": [
    {
     "data": {
      "text/html": [
       "<div>\n",
       "<style scoped>\n",
       "    .dataframe tbody tr th:only-of-type {\n",
       "        vertical-align: middle;\n",
       "    }\n",
       "\n",
       "    .dataframe tbody tr th {\n",
       "        vertical-align: top;\n",
       "    }\n",
       "\n",
       "    .dataframe thead th {\n",
       "        text-align: right;\n",
       "    }\n",
       "</style>\n",
       "<table border=\"1\" class=\"dataframe\">\n",
       "  <thead>\n",
       "    <tr style=\"text-align: right;\">\n",
       "      <th></th>\n",
       "      <th>company</th>\n",
       "      <th>cpu_utilization</th>\n",
       "      <th>latency</th>\n",
       "      <th>packet_loss</th>\n",
       "      <th>throughput</th>\n",
       "    </tr>\n",
       "  </thead>\n",
       "  <tbody>\n",
       "    <tr>\n",
       "      <th>0</th>\n",
       "      <td>Joyce-Cruz</td>\n",
       "      <td>0</td>\n",
       "      <td>0</td>\n",
       "      <td>0</td>\n",
       "      <td>0</td>\n",
       "    </tr>\n",
       "    <tr>\n",
       "      <th>1</th>\n",
       "      <td>Brown__Mcdowell_and_Richardson</td>\n",
       "      <td>0</td>\n",
       "      <td>0</td>\n",
       "      <td>0</td>\n",
       "      <td>0</td>\n",
       "    </tr>\n",
       "    <tr>\n",
       "      <th>2</th>\n",
       "      <td>Mitchell-Tucker</td>\n",
       "      <td>0</td>\n",
       "      <td>0</td>\n",
       "      <td>0</td>\n",
       "      <td>0</td>\n",
       "    </tr>\n",
       "    <tr>\n",
       "      <th>3</th>\n",
       "      <td>Scott_Group</td>\n",
       "      <td>0</td>\n",
       "      <td>0</td>\n",
       "      <td>0</td>\n",
       "      <td>0</td>\n",
       "    </tr>\n",
       "    <tr>\n",
       "      <th>4</th>\n",
       "      <td>Miller_Inc</td>\n",
       "      <td>0</td>\n",
       "      <td>0</td>\n",
       "      <td>0</td>\n",
       "      <td>0</td>\n",
       "    </tr>\n",
       "  </tbody>\n",
       "</table>\n",
       "</div>"
      ],
      "text/plain": [
       "                          company  cpu_utilization  latency  packet_loss  \\\n",
       "0                      Joyce-Cruz                0        0            0   \n",
       "1  Brown__Mcdowell_and_Richardson                0        0            0   \n",
       "2                 Mitchell-Tucker                0        0            0   \n",
       "3                     Scott_Group                0        0            0   \n",
       "4                      Miller_Inc                0        0            0   \n",
       "\n",
       "   throughput  \n",
       "0           0  \n",
       "1           0  \n",
       "2           0  \n",
       "3           0  \n",
       "4           0  "
      ]
     },
     "execution_count": 4,
     "metadata": {},
     "output_type": "execute_result"
    }
   ],
   "source": [
    "# Create a metadata factory\n",
    "dep_gen = deployment_generator.deployment_generator()\n",
    "faker=dep_gen.get_faker()\n",
    "\n",
    "# Design the metadata\n",
    "dep_gen.add_level(name='company',number=100,level_type=faker.company)\n",
    "\n",
    "# Generate a deployment structure\n",
    "deployment_df = dep_gen.generate_deployment()\n",
    "\n",
    "# Initialize the metric values\n",
    "for metric in metric_names:\n",
    "    deployment_df[metric] = 0\n",
    "\n",
    "deployment_df.head()"
   ]
  },
  {
   "cell_type": "markdown",
   "metadata": {},
   "source": [
    "Specify metrics configuration for the generator."
   ]
  },
  {
   "cell_type": "code",
   "execution_count": 5,
   "metadata": {},
   "outputs": [],
   "source": [
    "metrics_configuration = yaml.safe_load(\"\"\"\n",
    "errors: {length_in_ticks: 50, rate_in_ticks: 150}\n",
    "timestamps: {interval: 5s, stochastic_interval: false}\n",
    "metrics:\n",
    "  cpu_utilization:\n",
    "    accuracy: 2\n",
    "    distribution: normal\n",
    "    distribution_params: {mu: 70, noise: 0, sigma: 10}\n",
    "    is_threshold_below: true\n",
    "    past_based_value: false\n",
    "    produce_max: false\n",
    "    produce_min: false\n",
    "    validation:\n",
    "      distribution: {max: 1, min: -1, validate: false}\n",
    "      metric: {max: 100, min: 0, validate: true}\n",
    "  latency:\n",
    "    accuracy: 2\n",
    "    distribution: normal\n",
    "    distribution_params: {mu: 0, noise: 0, sigma: 5}\n",
    "    is_threshold_below: true\n",
    "    past_based_value: false\n",
    "    produce_max: false\n",
    "    produce_min: false\n",
    "    validation:\n",
    "      distribution: {max: 1, min: -1, validate: false}\n",
    "      metric: {max: 100, min: 0, validate: true}\n",
    "  packet_loss:\n",
    "    accuracy: 0\n",
    "    distribution: normal\n",
    "    distribution_params: {mu: 0, noise: 0, sigma: 2}\n",
    "    is_threshold_below: true\n",
    "    past_based_value: false\n",
    "    produce_max: false\n",
    "    produce_min: false\n",
    "    validation:\n",
    "      distribution: {max: 1, min: -1, validate: false}\n",
    "      metric: {max: 50, min: 0, validate: true}\n",
    "  throughput:\n",
    "    accuracy: 2\n",
    "    distribution: normal\n",
    "    distribution_params: {mu: 250, noise: 0, sigma: 20}\n",
    "    is_threshold_below: false\n",
    "    past_based_value: false\n",
    "    produce_max: false\n",
    "    produce_min: false\n",
    "    validation:\n",
    "      distribution: {max: 1, min: -1, validate: false}\n",
    "      metric: {max: 300, min: 0, validate: true}\n",
    "\"\"\")"
   ]
  },
  {
   "cell_type": "markdown",
   "metadata": {},
   "source": [
    "Create the data according to the given hierarchy and metrics configuration."
   ]
  },
  {
   "cell_type": "code",
   "execution_count": 7,
   "metadata": {},
   "outputs": [],
   "source": [
    "met_gen = metrics_generator.Generator_df(metrics_configuration, \n",
    "                                         user_hierarchy=deployment_df, \n",
    "                                         initial_timestamp=time.time())\n",
    "\n",
    "metrics = met_gen.generate_range(start_time=datetime.datetime.now(),\n",
    "                                 end_time=datetime.datetime.now()+datetime.timedelta(hours=62),\n",
    "                                 as_df=True,\n",
    "                                 as_iterator=False)\n",
    "\n",
    "# Verify that the source-file parent directory exists.\n",
    "os.makedirs(os.path.dirname(source_file), exist_ok=1)\n",
    "\n",
    "# Generate file from metrics\n",
    "with open(source_file, 'w') as f:\n",
    "    metrics_batch = metrics\n",
    "    metrics_batch.to_json(f,\n",
    "                          orient='records',\n",
    "                          lines=True)"
   ]
  },
  {
   "cell_type": "markdown",
   "metadata": {},
   "source": [
    "### Validate the Target File Size\n",
    "\n",
    "Set the target size for the test file, in MB."
   ]
  },
  {
   "cell_type": "code",
   "execution_count": 10,
   "metadata": {},
   "outputs": [
    {
     "name": "stdout",
     "output_type": "stream",
     "text": [
      "-rw-r--r-- 1 50 nogroup 1.2G Aug 13 11:00 ops.logs\n"
     ]
    }
   ],
   "source": [
    "!ls -lah ${SOURCE_DIR} | grep ${SOURCE_FILE}"
   ]
  },
  {
   "cell_type": "code",
   "execution_count": 11,
   "metadata": {},
   "outputs": [
    {
     "name": "stdout",
     "output_type": "stream",
     "text": [
      "{\"company\":\"Parker_and_Sons\",\"cpu_utilization\":77.0001379709,\"cpu_utilization_is_error\":false,\"latency\":8.9685908315,\"latency_is_error\":false,\"packet_loss\":0.1182060132,\"packet_loss_is_error\":false,\"throughput\":264.5567821475,\"throughput_is_error\":false,\"timestamp\":1565015264829}\n",
      "{\"company\":\"Barnes-Fletcher\",\"cpu_utilization\":82.3951249969,\"cpu_utilization_is_error\":false,\"latency\":2.7561547101,\"latency_is_error\":false,\"packet_loss\":0.9046704441,\"packet_loss_is_error\":false,\"throughput\":260.4376162919,\"throughput_is_error\":false,\"timestamp\":1565015264829}\n",
      "{\"company\":\"Johnson_Ltd\",\"cpu_utilization\":74.2230353639,\"cpu_utilization_is_error\":false,\"latency\":7.0199027791,\"latency_is_error\":false,\"packet_loss\":0.0,\"packet_loss_is_error\":false,\"throughput\":245.2035029337,\"throughput_is_error\":false,\"timestamp\":1565015264829}\n",
      "{\"company\":\"Cameron_Ltd\",\"cpu_utilization\":61.9061750617,\"cpu_utilization_is_error\":false,\"latency\":6.8589515103,\"latency_is_error\":false,\"packet_loss\":0.0,\"packet_loss_is_error\":false,\"throughput\":245.3090546657,\"throughput_is_error\":false,\"timestamp\":1565015264829}\n",
      "{\"company\":\"Sims-Mccoy\",\"cpu_utilization\":69.8156710076,\"cpu_utilization_is_error\":false,\"latency\":0.0,\"latency_is_error\":false,\"packet_loss\":4.1570694474,\"packet_loss_is_error\":false,\"throughput\":238.5772519428,\"throughput_is_error\":false,\"timestamp\":1565015264829}\n",
      "{\"company\":\"Bautista__Olson_and_Guzman\",\"cpu_utilization\":61.0139995818,\"cpu_utilization_is_error\":false,\"latency\":0.0,\"latency_is_error\":false,\"packet_loss\":0.0,\"packet_loss_is_error\":false,\"throughput\":253.2949507053,\"throughput_is_error\":false,\"timestamp\":1565015264829}\n",
      "{\"company\":\"Anderson_Inc\",\"cpu_utilization\":72.6603863726,\"cpu_utilization_is_error\":false,\"latency\":3.6437115053,\"latency_is_error\":false,\"packet_loss\":0.0,\"packet_loss_is_error\":false,\"throughput\":267.6726148695,\"throughput_is_error\":false,\"timestamp\":1565015264829}\n",
      "{\"company\":\"Nguyen-Silva\",\"cpu_utilization\":59.5127477315,\"cpu_utilization_is_error\":false,\"latency\":0.0,\"latency_is_error\":false,\"packet_loss\":0.0,\"packet_loss_is_error\":false,\"throughput\":255.2915162076,\"throughput_is_error\":false,\"timestamp\":1565015264829}\n",
      "{\"company\":\"Patrick_Group\",\"cpu_utilization\":68.3079877253,\"cpu_utilization_is_error\":false,\"latency\":0.0,\"latency_is_error\":false,\"packet_loss\":2.6670360416,\"packet_loss_is_error\":false,\"throughput\":243.9449272531,\"throughput_is_error\":false,\"timestamp\":1565015264829}\n",
      "{\"company\":\"Gutierrez_Ltd\",\"cpu_utilization\":70.1385482657,\"cpu_utilization_is_error\":false,\"latency\":0.0,\"latency_is_error\":false,\"packet_loss\":0.8048798451,\"packet_loss_is_error\":false,\"throughput\":252.1408356,\"throughput_is_error\":false,\"timestamp\":1565015264829}\n"
     ]
    }
   ],
   "source": [
    "!head ${SOURCE_PATH}"
   ]
  },
  {
   "cell_type": "markdown",
   "metadata": {},
   "source": [
    "## Benchmark\n",
    "\n",
    "The benchmark tests use the following flow:\n",
    "\n",
    "- Read file\n",
    "- Compute aggregations\n",
    "- Get the n-largest values"
   ]
  },
  {
   "cell_type": "code",
   "execution_count": 12,
   "metadata": {},
   "outputs": [],
   "source": [
    "benchmark_file = source_file"
   ]
  },
  {
   "cell_type": "markdown",
   "metadata": {},
   "source": [
    "In the following examples, `timeit` is executed in a loop.<br>\n",
    "You can change the number of runs and loops:\n",
    "```\n",
    "%%timeit -n 1 -r 1\n",
    "```"
   ]
  },
  {
   "cell_type": "markdown",
   "metadata": {},
   "source": [
    "### cuDF Benchmark"
   ]
  },
  {
   "cell_type": "code",
   "execution_count": 13,
   "metadata": {},
   "outputs": [
    {
     "name": "stdout",
     "output_type": "stream",
     "text": [
      "6.24 s ± 62.3 ms per loop (mean ± std. dev. of 7 runs, 1 loop each)\n"
     ]
    }
   ],
   "source": [
    "%%timeit\n",
    "\n",
    "# Read file\n",
    "gdf = cudf.read_json(benchmark_file, lines=True)\n",
    "\n",
    "# Perform aggregation\n",
    "ggdf = gdf.groupby(['company']).\\\n",
    "            agg({k: ['min', 'max', 'mean'] for k in metric_names})\n",
    "\n",
    "# Get the n-largest values (from the original DataFrame)\n",
    "raw_nlargest = gdf.nlargest(nlargest, 'cpu_utilization')"
   ]
  },
  {
   "cell_type": "markdown",
   "metadata": {},
   "source": [
    "### pandas Benchmark"
   ]
  },
  {
   "cell_type": "code",
   "execution_count": 14,
   "metadata": {},
   "outputs": [
    {
     "name": "stdout",
     "output_type": "stream",
     "text": [
      "47.6 s ± 228 ms per loop (mean ± std. dev. of 7 runs, 1 loop each)\n"
     ]
    }
   ],
   "source": [
    "%%timeit\n",
    "\n",
    "# Read file\n",
    "pdf = pd.read_json(benchmark_file, lines=True)\n",
    "\n",
    "# Perform aggregation\n",
    "gpdf = pdf.groupby(['company']).\\\n",
    "            agg({k: ['min', 'max', 'mean'] for k in metric_names})\n",
    "\n",
    "# Get the n-largest values (from the original DataFrame)\n",
    "raw_nlargest = pdf.nlargest(nlargest, 'cpu_utilization')"
   ]
  },
  {
   "cell_type": "markdown",
   "metadata": {},
   "source": [
    "## Test Load Times"
   ]
  },
  {
   "cell_type": "markdown",
   "metadata": {},
   "source": [
    "#### cuDF"
   ]
  },
  {
   "cell_type": "code",
   "execution_count": 15,
   "metadata": {},
   "outputs": [
    {
     "name": "stdout",
     "output_type": "stream",
     "text": [
      "5.95 s ± 77.3 ms per loop (mean ± std. dev. of 7 runs, 1 loop each)\n"
     ]
    }
   ],
   "source": [
    "%%timeit -r 2\n",
    "gdf = cudf.read_json(benchmark_file, lines=True)"
   ]
  },
  {
   "cell_type": "markdown",
   "metadata": {},
   "source": [
    "#### pandas"
   ]
  },
  {
   "cell_type": "code",
   "execution_count": 16,
   "metadata": {},
   "outputs": [
    {
     "name": "stdout",
     "output_type": "stream",
     "text": [
      "41.1 s ± 651 ms per loop (mean ± std. dev. of 7 runs, 1 loop each)\n"
     ]
    }
   ],
   "source": [
    "%%timeit\n",
    "gdf = pd.read_json(benchmark_file, lines=True)"
   ]
  },
  {
   "cell_type": "markdown",
   "metadata": {},
   "source": [
    "## Test Aggregation\n",
    "\n",
    "Load the files to memory to allow applying `timeit` only to the aggregations."
   ]
  },
  {
   "cell_type": "code",
   "execution_count": 17,
   "metadata": {},
   "outputs": [],
   "source": [
    "gdf = cudf.read_json(benchmark_file, lines=True)\n",
    "pdf = pd.read_json(benchmark_file, lines=True)"
   ]
  },
  {
   "cell_type": "markdown",
   "metadata": {},
   "source": [
    "#### cuDF"
   ]
  },
  {
   "cell_type": "code",
   "execution_count": 18,
   "metadata": {},
   "outputs": [
    {
     "name": "stdout",
     "output_type": "stream",
     "text": [
      "212 ms ± 14.9 ms per loop (mean ± std. dev. of 7 runs, 1 loop each)\n"
     ]
    }
   ],
   "source": [
    "%%timeit\n",
    "\n",
    "ggdf = gdf.groupby(['company']).\\\n",
    "            agg({k: ['min', 'max', 'mean'] for k in metric_names})\n",
    "raw_nlargest = gdf.nlargest(nlargest, 'cpu_utilization')"
   ]
  },
  {
   "cell_type": "markdown",
   "metadata": {},
   "source": [
    "#### pandas"
   ]
  },
  {
   "cell_type": "code",
   "execution_count": 19,
   "metadata": {},
   "outputs": [
    {
     "name": "stdout",
     "output_type": "stream",
     "text": [
      "2.17 s ± 72.8 ms per loop (mean ± std. dev. of 7 runs, 1 loop each)\n"
     ]
    }
   ],
   "source": [
    "%%timeit\n",
    "\n",
    "gpdf = pdf.groupby(['company']).\\\n",
    "            agg({k: ['min', 'max', 'mean'] for k in metric_names})\n",
    "raw_nlargest = pdf.nlargest(nlargest, 'cpu_utilization')"
   ]
  }
 ],
 "metadata": {
  "kernelspec": {
   "display_name": "Python 3",
   "language": "python",
   "name": "python3"
  },
  "language_info": {
   "codemirror_mode": {
    "name": "ipython",
    "version": 3
   },
   "file_extension": ".py",
   "mimetype": "text/x-python",
   "name": "python",
   "nbconvert_exporter": "python",
   "pygments_lexer": "ipython3",
   "version": "3.6.8"
  }
 },
 "nbformat": 4,
 "nbformat_minor": 4
}
