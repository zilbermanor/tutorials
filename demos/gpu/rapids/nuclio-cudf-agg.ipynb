{
 "cells": [
  {
   "cell_type": "markdown",
   "metadata": {},
   "source": [
    "# Nuclio Function for Unified Data Batching and Aggregation with RAPIDS cuDF"
   ]
  },
  {
   "cell_type": "code",
   "execution_count": 1,
   "metadata": {},
   "outputs": [],
   "source": [
    "# nuclio: ignore\n",
    "import nuclio"
   ]
  },
  {
   "cell_type": "markdown",
   "metadata": {},
   "source": [
    "## Environment"
   ]
  },
  {
   "cell_type": "markdown",
   "metadata": {},
   "source": [
    "### Base Configuration"
   ]
  },
  {
   "cell_type": "code",
   "execution_count": 2,
   "metadata": {},
   "outputs": [
    {
     "name": "stdout",
     "output_type": "stream",
     "text": [
      "%nuclio: setting spec.triggers.hahttp.kind to 'http'\n",
      "%nuclio: setting spec.triggers.hahttp.maxWorkers to 1\n",
      "%nuclio: setting spec.triggers.hahttp.attributes.port to 31001\n",
      "%nuclio: setting spec.build.baseImage to 'rapidsai/rapidsai:cuda10.0-runtime-centos7'\n"
     ]
    }
   ],
   "source": [
    "%%nuclio config\n",
    "\n",
    "# Kafka trigger\n",
    "# spec.triggers.hakafka.kind = \"kafka\"\n",
    "# spec.trigger.url = \"1.1.1.1\"\n",
    "# spec.triggers.hakafka.attributes.topic = \"haproxy\"\n",
    "# spec.triggers.hakafka.attributes.partitions = [0, 1, 2]\n",
    "# spec.triggers.hakafka.attributes.sasl.enable: true\n",
    "# spec.triggers.hakafka.attributes.sasl.user: \"\"\n",
    "# spec.triggers.hakafka.attributes.sasl.password: \"\"\n",
    "\n",
    "# HTTP trigger      \n",
    "spec.triggers.hahttp.kind=\"http\"\n",
    "spec.triggers.hahttp.maxWorkers=1\n",
    "spec.triggers.hahttp.attributes.port=31001\n",
    "\n",
    "# Base image\n",
    "spec.build.baseImage = \"rapidsai/rapidsai:cuda10.0-runtime-centos7\""
   ]
  },
  {
   "cell_type": "markdown",
   "metadata": {},
   "source": [
    "### Environment Variables"
   ]
  },
  {
   "cell_type": "code",
   "execution_count": 3,
   "metadata": {},
   "outputs": [
    {
     "name": "stdout",
     "output_type": "stream",
     "text": [
      "%nuclio: setting 'SINK_PATH' environment variable\n",
      "%nuclio: setting 'INTERVAL' environment variable\n",
      "%nuclio: setting 'METRIC_NAMES' environment variable\n"
     ]
    }
   ],
   "source": [
    "%nuclio env SINK_PATH=./sink\n",
    "%nuclio env INTERVAL=2\n",
    "%nuclio env METRIC_NAMES=cpu_utilization,latency,packet_loss,throughput"
   ]
  },
  {
   "cell_type": "markdown",
   "metadata": {},
   "source": [
    "## Function"
   ]
  },
  {
   "cell_type": "code",
   "execution_count": 4,
   "metadata": {},
   "outputs": [],
   "source": [
    "import os\n",
    "import glob\n",
    "from datetime import datetime, timedelta\n",
    "import time\n",
    "import cudf\n",
    "import itertools\n",
    "import json\n",
    "\n",
    "# Define sink and verify its availability\n",
    "sink = os.getenv('SINK_PATH', './sink')\n",
    "os.makedirs(sink, exist_ok=True)\n",
    "\n",
    "# Expose metric names\n",
    "metric_names = os.environ['METRIC_NAMES']\n",
    "metric_names = metric_names.split(',')\n",
    "\n",
    "# Define a batch and a batch interval\n",
    "batch = list()\n",
    "interval = int(os.getenv('INTERVAL', 100))\n",
    "\n",
    "def handler(context, event):\n",
    "    global batch\n",
    "    global metric_names\n",
    "    \n",
    "    # Aggregate event JSON objects\n",
    "    batch.append(event.body)\n",
    "    \n",
    "    # Verify that there are enough events to perform aggregations\n",
    "    if len(batch) >= interval:\n",
    "        \n",
    "        # Create a cuDF DataFrame from the batch of event JSON objects\n",
    "        df = cudf.read_json('\\n'.join(batch), lines=True)\n",
    "        df = df.reset_index(drop=True)\n",
    "        \n",
    "        # Perform aggregations\n",
    "        df = df.groupby(['company']).\\\n",
    "                    agg({k: ['min', 'max', 'mean'] for k in metric_names})\n",
    "        \n",
    "        # Save to Parquet\n",
    "        filename = f'{time.time()}.parquet'\n",
    "        filepath = os.path.join(sink, filename)\n",
    "        new_index = [f'{e[0]}_{e[1]}' for e in list(df.columns)]\n",
    "        df.columns = new_index\n",
    "        df.to_parquet(filepath)\n",
    "        \n",
    "        # Reset batch\n",
    "        batch = list()"
   ]
  },
  {
   "cell_type": "markdown",
   "metadata": {},
   "source": [
    "## Test"
   ]
  },
  {
   "cell_type": "code",
   "execution_count": 5,
   "metadata": {},
   "outputs": [],
   "source": [
    "# nuclio: ignore\n",
    "event = nuclio.Event(body='{\"company\":\"Rios__Pope_and_Baird\",\"cpu_utilization\":70.6942165035,\"cpu_utilization_is_error\":false,\"latency\":3.1373003261,\"latency_is_error\":false,\"packet_loss\":0.0,\"packet_loss_is_error\":false,\"throughput\":249.7207880994,\"throughput_is_error\":false,\"timestamp\":1563795193534}')\n",
    "out = handler(context, event)\n",
    "out"
   ]
  },
  {
   "cell_type": "markdown",
   "metadata": {},
   "source": [
    "## Deploy the Function\n",
    "\n",
    "Deploy the Nuclio function, provided a Nuclio cluster is available."
   ]
  },
  {
   "cell_type": "code",
   "execution_count": 6,
   "metadata": {},
   "outputs": [
    {
     "name": "stdout",
     "output_type": "stream",
     "text": [
      "[nuclio.deploy] 2019-08-07 12:29:26,987 (info) Building processor image\n"
     ]
    },
    {
     "name": "stderr",
     "output_type": "stream",
     "text": [
      "INFO:(info) Building processor image\n"
     ]
    },
    {
     "name": "stdout",
     "output_type": "stream",
     "text": [
      "[nuclio.deploy] 2019-08-07 12:29:30,024 (info) Pushing image\n"
     ]
    },
    {
     "name": "stderr",
     "output_type": "stream",
     "text": [
      "INFO:(info) Pushing image\n"
     ]
    },
    {
     "name": "stdout",
     "output_type": "stream",
     "text": [
      "[nuclio.deploy] 2019-08-07 12:29:30,026 (info) Build complete\n"
     ]
    },
    {
     "name": "stderr",
     "output_type": "stream",
     "text": [
      "INFO:(info) Build complete\n"
     ]
    },
    {
     "name": "stdout",
     "output_type": "stream",
     "text": [
      "[nuclio.deploy] 2019-08-07 12:29:34,085 (info) Function deploy complete\n"
     ]
    },
    {
     "name": "stderr",
     "output_type": "stream",
     "text": [
      "INFO:(info) Function deploy complete\n"
     ]
    },
    {
     "name": "stdout",
     "output_type": "stream",
     "text": [
      "[nuclio.deploy] 2019-08-07 12:29:34,096 done updating cudf-batch-and-agg, function address: 3.120.15.118:31001\n"
     ]
    },
    {
     "name": "stderr",
     "output_type": "stream",
     "text": [
      "INFO:done updating cudf-batch-and-agg, function address: 3.120.15.118:31001\n"
     ]
    },
    {
     "name": "stdout",
     "output_type": "stream",
     "text": [
      "%nuclio: function deployed\n"
     ]
    }
   ],
   "source": [
    "%nuclio deploy -p nvidia -n cudf_batch_and_agg -c"
   ]
  }
 ],
 "metadata": {
  "kernelspec": {
   "display_name": "Python 3",
   "language": "python",
   "name": "python3"
  },
  "language_info": {
   "codemirror_mode": {
    "name": "ipython",
    "version": 3
   },
   "file_extension": ".py",
   "mimetype": "text/x-python",
   "name": "python",
   "nbconvert_exporter": "python",
   "pygments_lexer": "ipython3",
   "version": "3.6.8"
  }
 },
 "nbformat": 4,
 "nbformat_minor": 4
}
