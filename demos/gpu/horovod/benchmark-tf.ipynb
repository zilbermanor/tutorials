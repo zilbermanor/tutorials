{
 "cells": [
  {
   "cell_type": "code",
   "execution_count": 4,
   "metadata": {
    "collapsed": true,
    "jupyter": {
     "outputs_hidden": true
    }
   },
   "outputs": [
    {
     "name": "stdout",
     "output_type": "stream",
     "text": [
      "Collecting git+https://github.com/v3io/v3io-gputils\n",
      "  Cloning https://github.com/v3io/v3io-gputils to /tmp/pip-req-build-y88dqrfb\n",
      "Requirement already satisfied: kubernetes==9.0.0 in /User/.pythonlibs/lib/python3.6/site-packages (from v3io-gputils==0.0.8) (9.0.0)\n",
      "Requirement already satisfied: PyYAML>=5.1 in /conda/lib/python3.6/site-packages (from v3io-gputils==0.0.8) (5.1.2)\n",
      "Requirement already satisfied: six>=1.9.0 in /conda/lib/python3.6/site-packages (from kubernetes==9.0.0->v3io-gputils==0.0.8) (1.12.0)\n",
      "Requirement already satisfied: websocket-client!=0.40.0,!=0.41.*,!=0.42.*,>=0.32.0 in /User/.pythonlibs/lib/python3.6/site-packages (from kubernetes==9.0.0->v3io-gputils==0.0.8) (0.56.0)\n",
      "Requirement already satisfied: requests in /User/.pythonlibs/lib/python3.6/site-packages (from kubernetes==9.0.0->v3io-gputils==0.0.8) (2.21.0)\n",
      "Requirement already satisfied: requests-oauthlib in /User/.pythonlibs/lib/python3.6/site-packages (from kubernetes==9.0.0->v3io-gputils==0.0.8) (1.2.0)\n",
      "Requirement already satisfied: google-auth>=1.0.1 in /User/.pythonlibs/lib/python3.6/site-packages (from kubernetes==9.0.0->v3io-gputils==0.0.8) (1.6.3)\n",
      "Requirement already satisfied: python-dateutil>=2.5.3 in /conda/lib/python3.6/site-packages (from kubernetes==9.0.0->v3io-gputils==0.0.8) (2.8.0)\n",
      "Requirement already satisfied: certifi>=14.05.14 in /conda/lib/python3.6/site-packages (from kubernetes==9.0.0->v3io-gputils==0.0.8) (2019.6.16)\n",
      "Requirement already satisfied: setuptools>=21.0.0 in /conda/lib/python3.6/site-packages (from kubernetes==9.0.0->v3io-gputils==0.0.8) (41.0.1)\n",
      "Requirement already satisfied: urllib3>=1.23 in /conda/lib/python3.6/site-packages (from kubernetes==9.0.0->v3io-gputils==0.0.8) (1.24.2)\n",
      "Requirement already satisfied: idna<2.9,>=2.5 in /conda/lib/python3.6/site-packages (from requests->kubernetes==9.0.0->v3io-gputils==0.0.8) (2.8)\n",
      "Requirement already satisfied: chardet<3.1.0,>=3.0.2 in /conda/lib/python3.6/site-packages (from requests->kubernetes==9.0.0->v3io-gputils==0.0.8) (3.0.4)\n",
      "Requirement already satisfied: oauthlib>=3.0.0 in /User/.pythonlibs/lib/python3.6/site-packages (from requests-oauthlib->kubernetes==9.0.0->v3io-gputils==0.0.8) (3.1.0)\n",
      "Requirement already satisfied: cachetools>=2.0.0 in /User/.pythonlibs/lib/python3.6/site-packages (from google-auth>=1.0.1->kubernetes==9.0.0->v3io-gputils==0.0.8) (3.1.1)\n",
      "Requirement already satisfied: rsa>=3.1.4 in /User/.pythonlibs/lib/python3.6/site-packages (from google-auth>=1.0.1->kubernetes==9.0.0->v3io-gputils==0.0.8) (4.0)\n",
      "Requirement already satisfied: pyasn1-modules>=0.2.1 in /User/.pythonlibs/lib/python3.6/site-packages (from google-auth>=1.0.1->kubernetes==9.0.0->v3io-gputils==0.0.8) (0.2.6)\n",
      "Requirement already satisfied: pyasn1>=0.1.3 in /User/.pythonlibs/lib/python3.6/site-packages (from rsa>=3.1.4->google-auth>=1.0.1->kubernetes==9.0.0->v3io-gputils==0.0.8) (0.4.7)\n",
      "Building wheels for collected packages: v3io-gputils\n",
      "  Running setup.py bdist_wheel for v3io-gputils ... \u001b[?25ldone\n",
      "\u001b[?25h  Stored in directory: /tmp/pip-ephem-wheel-cache-14l1hcn_/wheels/31/78/35/87d3ed0349478f78fc174953de2642d7284d30a52e14a243b9\n",
      "Successfully built v3io-gputils\n",
      "Installing collected packages: v3io-gputils\n",
      "Successfully installed v3io-gputils-0.0.8\n"
     ]
    }
   ],
   "source": [
    "!pip install git+https://github.com/v3io/v3io-gputils"
   ]
  },
  {
   "cell_type": "code",
   "execution_count": 46,
   "metadata": {},
   "outputs": [
    {
     "name": "stdout",
     "output_type": "stream",
     "text": [
      "Cloning into 'benchmarks'...\n",
      "warning: redirecting to https://github.com/tensorflow/benchmarks.git/\n",
      "remote: Enumerating objects: 40, done.\u001b[K\n",
      "remote: Counting objects: 100% (40/40), done.\u001b[K\n",
      "remote: Compressing objects: 100% (29/29), done.\u001b[K\n",
      "remote: Total 4174 (delta 21), reused 17 (delta 11), pack-reused 4134\u001b[K\n",
      "Receiving objects: 100% (4174/4174), 2.17 MiB | 271.00 KiB/s, done.\n",
      "Resolving deltas: 100% (2793/2793), done.\n"
     ]
    }
   ],
   "source": [
    "!git clone http://github.com/tensorflow/benchmarks.git --branch cnn_tf_v1.13_compatible"
   ]
  },
  {
   "cell_type": "code",
   "execution_count": 47,
   "metadata": {},
   "outputs": [],
   "source": [
    "HOROVOD_JOB_NAME = \"horovod-tf-benchmark\""
   ]
  },
  {
   "cell_type": "code",
   "execution_count": 58,
   "metadata": {},
   "outputs": [
    {
     "name": "stdout",
     "output_type": "stream",
     "text": [
      "{'apiVersion': 'kubeflow.org/v1alpha1',\n",
      " 'kind': 'MPIJob',\n",
      " 'metadata': {'creationTimestamp': '2019-09-18T11:46:13Z',\n",
      "              'generation': 1,\n",
      "              'name': 'horovod-tf-benchmark',\n",
      "              'namespace': 'default-tenant',\n",
      "              'resourceVersion': '2000563',\n",
      "              'selfLink': '/apis/kubeflow.org/v1alpha1/namespaces/default-tenant/mpijobs/horovod-tf-benchmark',\n",
      "              'uid': 'ea7b8b00-da09-11e9-a796-02e0e01c020a'},\n",
      " 'spec': {'replicas': 1,\n",
      "          'template': {'spec': {'containers': [{'command': ['mpirun',\n",
      "                                                            'python',\n",
      "                                                            '/User/demos/gpu/horovod/benchmarks/scripts/tf_cnn_benchmarks/tf_cnn_benchmarks.py',\n",
      "                                                            '--batch_size=32',\n",
      "                                                            '--model=resnet50',\n",
      "                                                            '--variable_update=horovod',\n",
      "                                                            '--use_fp16=true',\n",
      "                                                            '--xla=true'],\n",
      "                                                'image': 'iguaziodocker/horovod:0.1.1',\n",
      "                                                'name': 'horovod-tf-benchmark',\n",
      "                                                'resources': {'limits': {'nvidia.com/gpu': 1}},\n",
      "                                                'securityContext': {'capabilities': {'add': ['IPC_LOCK']}},\n",
      "                                                'volumeMounts': [{'mountPath': '/User',\n",
      "                                                                  'name': 'v3io'}],\n",
      "                                                'workingDir': '/User'}],\n",
      "                                'volumes': [{'flexVolume': {'driver': 'v3io/fuse',\n",
      "                                                            'options': {'accessKey': 'bd182781-6b24-4899-b2b7-a84608931aeb',\n",
      "                                                                        'container': 'users',\n",
      "                                                                        'subPath': '/iguazio'}},\n",
      "                                             'name': 'v3io'}]}}}}\n"
     ]
    }
   ],
   "source": [
    "from v3io_gputils.mpijob import MpiJob\n",
    "import os\n",
    "\n",
    "job = MpiJob(HOROVOD_JOB_NAME, 'iguaziodocker/horovod:0.1.1', [os.path.join(os.getcwd(), 'benchmarks', 'scripts', 'tf_cnn_benchmarks', 'tf_cnn_benchmarks.py'),\n",
    "                                                        '--batch_size=32',\n",
    "                                                        '--model=resnet50',\n",
    "                                                        '--variable_update=horovod',\n",
    "                                                        '--use_fp16=true',\n",
    "                                                        '--xla=true'])\n",
    "job.replicas(1).gpus(1)\n",
    "job.submit()\n"
   ]
  },
  {
   "cell_type": "code",
   "execution_count": 61,
   "metadata": {},
   "outputs": [
    {
     "name": "stdout",
     "output_type": "stream",
     "text": [
      "horovod-tf-benchmark-launcher-rnvts                 1/1     Running            0          59s\n",
      "horovod-tf-benchmark-worker-0                       1/1     Running            0          62s\n"
     ]
    }
   ],
   "source": [
    "!kubectl get pods | grep $HOROVOD_JOB_NAME"
   ]
  },
  {
   "cell_type": "code",
   "execution_count": 62,
   "metadata": {},
   "outputs": [
    {
     "name": "stdout",
     "output_type": "stream",
     "text": [
      "apiVersion: kubeflow.org/v1alpha1\n",
      "kind: MPIJob\n",
      "metadata:\n",
      "  creationTimestamp: 2019-09-18T11:46:13Z\n",
      "  generation: 4\n",
      "  name: horovod-tf-benchmark\n",
      "  namespace: default-tenant\n",
      "  resourceVersion: \"2000607\"\n",
      "  selfLink: /apis/kubeflow.org/v1alpha1/namespaces/default-tenant/mpijobs/horovod-tf-benchmark\n",
      "  uid: ea7b8b00-da09-11e9-a796-02e0e01c020a\n",
      "spec:\n",
      "  backoffLimit: 6\n",
      "  replicas: 1\n",
      "  template:\n",
      "    metadata:\n",
      "      creationTimestamp: null\n",
      "    spec:\n",
      "      containers:\n",
      "      - command:\n",
      "        - mpirun\n",
      "        - python\n",
      "        - /User/demos/gpu/horovod/benchmarks/scripts/tf_cnn_benchmarks/tf_cnn_benchmarks.py\n",
      "        - --batch_size=32\n",
      "        - --model=resnet50\n",
      "        - --variable_update=horovod\n",
      "        - --use_fp16=true\n",
      "        - --xla=true\n",
      "        image: iguaziodocker/horovod:0.1.1\n",
      "        name: horovod-tf-benchmark\n",
      "        resources:\n",
      "          limits:\n",
      "            nvidia.com/gpu: \"1\"\n",
      "        securityContext:\n",
      "          capabilities:\n",
      "            add:\n",
      "            - IPC_LOCK\n",
      "        volumeMounts:\n",
      "        - mountPath: /User\n",
      "          name: v3io\n",
      "        workingDir: /User\n",
      "      volumes:\n",
      "      - flexVolume:\n",
      "          driver: v3io/fuse\n",
      "          options:\n",
      "            accessKey: bd182781-6b24-4899-b2b7-a84608931aeb\n",
      "            container: users\n",
      "            subPath: /iguazio\n",
      "        name: v3io\n",
      "status:\n",
      "  launcherStatus: Active\n",
      "  startTime: 2019-09-18T11:46:16Z\n",
      "  workerReplicas: 1\n"
     ]
    }
   ],
   "source": [
    "!kubectl get mpijob $HOROVOD_JOB_NAME -o yaml"
   ]
  },
  {
   "cell_type": "code",
   "execution_count": 63,
   "metadata": {},
   "outputs": [
    {
     "name": "stdout",
     "output_type": "stream",
     "text": [
      "{'apiVersion': 'v1',\n",
      " 'details': {'group': 'kubeflow.org',\n",
      "             'kind': 'mpijobs',\n",
      "             'name': 'horovod-tf-benchmark',\n",
      "             'uid': 'ea7b8b00-da09-11e9-a796-02e0e01c020a'},\n",
      " 'kind': 'Status',\n",
      " 'metadata': {},\n",
      " 'status': 'Success'}\n"
     ]
    }
   ],
   "source": [
    "job.delete()"
   ]
  },
  {
   "cell_type": "code",
   "execution_count": null,
   "metadata": {},
   "outputs": [],
   "source": []
  }
 ],
 "metadata": {
  "kernelspec": {
   "display_name": "Python 3",
   "language": "python",
   "name": "python3"
  },
  "language_info": {
   "codemirror_mode": {
    "name": "ipython",
    "version": 3
   },
   "file_extension": ".py",
   "mimetype": "text/x-python",
   "name": "python",
   "nbconvert_exporter": "python",
   "pygments_lexer": "ipython3",
   "version": "3.6.8"
  }
 },
 "nbformat": 4,
 "nbformat_minor": 4
}
