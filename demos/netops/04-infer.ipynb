{
 "cells": [
  {
   "cell_type": "markdown",
   "metadata": {},
   "source": [
    "# Create a Model Inference Nuclio Function\n",
    "\n",
    "- [Initialize Nuclio Emulation, Environment Variables, and Configuration](#netops-infer-init-func)\n",
    "  - [Install Required Packages](#netops-infer-install-pkgs)\n",
    "- [Set a cron Function Trigger](#netops-infer-set-func-trigger)\n",
    "- [Initialize the Function](#netops-infer-func-init)\n",
    "- [Deploy the Function](#netops-infer-func-deploy)"
   ]
  },
  {
   "cell_type": "markdown",
   "metadata": {},
   "source": [
    "<a id=\"netops-infer-init-func\"></a>\n",
    "## Initialize Nuclio Emulation, Environment Variables, and Configuration\n",
    "\n",
    "> **Note:** Use `# nuclio: ignore` for sections that don't need to be copied to the function."
   ]
  },
  {
   "cell_type": "code",
   "execution_count": 11,
   "metadata": {},
   "outputs": [],
   "source": [
    "# nuclio: ignore\n",
    "import nuclio"
   ]
  },
  {
   "cell_type": "code",
   "execution_count": 12,
   "metadata": {},
   "outputs": [],
   "source": [
    "# nuclio: ignore\n",
    "from os import environ\n",
    "version = '1.0'\n",
    "environ['MODEL_FILE'] = 'netops.v{}.model'.format(version)"
   ]
  },
  {
   "cell_type": "code",
   "execution_count": 13,
   "metadata": {},
   "outputs": [
    {
     "name": "stdout",
     "output_type": "stream",
     "text": [
      "%nuclio: setting 'MODEL_FILEPATH' environment variable\n"
     ]
    }
   ],
   "source": [
    "%nuclio env -c V3IO_USERNAME=${V3IO_USERNAME}\n",
    "%nuclio env -c V3IO_ACCESS_KEY=${V3IO_ACCESS_KEY}\n",
    "%nuclio env -c MODEL_FILE=${MODEL_FILE}\n",
    "%nuclio env -c MODEL_FILEPATH=/tmp/mlmodel/${MODEL_FILE}\n",
    "%nuclio env -l MODEL_FILEPATH=models/${MODEL_FILE}"
   ]
  },
  {
   "cell_type": "markdown",
   "metadata": {},
   "source": [
    "<a id=\"netops-infer-install-pkgs\"></a>\n",
    "### Install Required Packages\n",
    "\n",
    "`%nuclio cmd` allows you to run image build instructions and install packages.\n",
    "\n",
    "> **Note:** When using the `-c` option, commands will only run in Nuclio and not locally."
   ]
  },
  {
   "cell_type": "code",
   "execution_count": 14,
   "metadata": {},
   "outputs": [],
   "source": [
    "%%nuclio cmd -c\n",
    "pip install pandas\n",
    "pip install sklearn\n",
    "pip install v3io_frames\n",
    "pip install dask_ml\n",
    "pip install dask['complete']\n",
    "apt-get update && apt-get install -y wget\n",
    "mkdir -p /tmp/mlmodel"
   ]
  },
  {
   "cell_type": "code",
   "execution_count": 15,
   "metadata": {},
   "outputs": [],
   "source": [
    "# Copy the model file into the function\n",
    "%nuclio cmd -c wget -O /tmp/mlmodel/${MODEL_FILE} --header \"x-v3io-session-key: ${V3IO_ACCESS_KEY}\" http://${V3IO_WEBAPI_SERVICE_HOST}:8081/users/${V3IO_USERNAME}/demos/netops/models/${MODEL_FILE}"
   ]
  },
  {
   "cell_type": "markdown",
   "metadata": {},
   "source": [
    "<a id=\"netops-infer-set-func-trigger\"></a>\n",
    "## Set a cron Function Trigger\n",
    "\n",
    "Set a cron function trigger with 1-minute interval:"
   ]
  },
  {
   "cell_type": "code",
   "execution_count": 16,
   "metadata": {},
   "outputs": [
    {
     "name": "stdout",
     "output_type": "stream",
     "text": [
      "%nuclio: setting spec.triggers.secs.kind to 'cron'\n",
      "%nuclio: setting spec.triggers.secs.attributes.interval to '600s'\n",
      "%nuclio: setting spec.build.baseImage to 'python:3.6-jessie'\n"
     ]
    }
   ],
   "source": [
    "%%nuclio config \n",
    "spec.triggers.secs.kind = \"cron\"\n",
    "spec.triggers.secs.attributes.interval = \"600s\"\n",
    "spec.build.baseImage = \"python:3.6-jessie\""
   ]
  },
  {
   "cell_type": "markdown",
   "metadata": {},
   "source": [
    "<a id=\"netops-infer-func-init\"></a>\n",
    "## Initialize the Function"
   ]
  },
  {
   "cell_type": "code",
   "execution_count": 17,
   "metadata": {},
   "outputs": [],
   "source": [
    "import pandas as pd\n",
    "import pickle\n",
    "import sklearn\n",
    "from dask_ml.wrappers import ParallelPostFit\n",
    "import sys\n",
    "sys.path.append('../../')\n",
    "import v3io_frames_local as v3f\n",
    "from os import environ\n",
    "\n",
    "# Define a V3IO TSDB client\n",
    "client = v3f.Client('framesd:8081')\n",
    "\n",
    "# Load the model\n",
    "with open(environ['MODEL_FILEPATH'], 'rb+') as f:\n",
    "    model = pickle.load(f) \n",
    "    \n",
    "clf = ParallelPostFit(estimator=model,\n",
    "                      scoring='accuracy')"
   ]
  },
  {
   "cell_type": "code",
   "execution_count": 18,
   "metadata": {},
   "outputs": [
    {
     "data": {
      "text/plain": [
       "'time                 company         data_center     device       \\n2020-01-10 17:54:43  Roberts_PLC     Gregory_Tunnel  3565281248497    0.0\\n2020-01-10 18:54:43  Roberts_PLC     Gregory_Tunnel  3565281248497    0.0\\n2020-01-10 17:54:43  Douglas-Holmes  Lopez_Summit    7236123187473    0.0\\n2020-01-10 18:54:43  Douglas-Holmes  Lopez_Summit    7236123187473    0.0\\n2020-01-10 17:54:43  Roberts_PLC     Gregory_Tunnel  4401357069985    0.0\\n2020-01-10 18:54:43  Roberts_PLC     Gregory_Tunnel  4401357069985    0.0\\n2020-01-10 17:54:43  Douglas-Holmes  Lopez_Summit    4752014671680    0.0\\n2020-01-10 18:54:43  Douglas-Holmes  Lopez_Summit    4752014671680    0.0\\n2020-01-10 17:54:43  Roberts_PLC     John_Curve      7026488238274    0.0\\n2020-01-10 18:54:43  Roberts_PLC     John_Curve      7026488238274    0.0\\n2020-01-10 17:54:43  Douglas-Holmes  Paul_Lane       3232046314748    0.0\\n2020-01-10 18:54:43  Douglas-Holmes  Paul_Lane       3232046314748    0.0\\n2020-01-10 17:54:43  Roberts_PLC     John_Curve      7873407333830    0.0\\n2020-01-10 18:54:43  Roberts_PLC     John_Curve      7873407333830    0.0\\n2020-01-10 17:54:43  Douglas-Holmes  Paul_Lane       1483265418393    0.0\\n2020-01-10 18:54:43  Douglas-Holmes  Paul_Lane       1483265418393    0.0\\nName: prediction, dtype: float64'"
      ]
     },
     "execution_count": 18,
     "metadata": {},
     "output_type": "execute_result"
    }
   ],
   "source": [
    "%%nuclio handler\n",
    "# Load last hour data\n",
    "df = client.read(backend='tsdb', query='select avg(cpu_utilization) , avg(latency) , avg(packet_loss) , avg(throughput) from netops_metrics_jupyter group by company, data_center, device',\n",
    "            start=\"now-1d\", end='now+1d', multi_index=True, step='1h')\n",
    "df['prediction'] = clf.predict(df)\n",
    "#df.reset_index(inplace=True)\n",
    "#client.write(backend='tsdb', table='netops_predictions', dfs=[df], index_cols=['company', 'data_center', 'device', 'time'])\n",
    "str(df['prediction']) # nuclio: return"
   ]
  },
  {
   "cell_type": "markdown",
   "metadata": {},
   "source": [
    "<a id=\"netops-infer-func-deploy\"></a>\n",
    "## Deploy the Function"
   ]
  },
  {
   "cell_type": "code",
   "execution_count": 19,
   "metadata": {},
   "outputs": [
    {
     "name": "stdout",
     "output_type": "stream",
     "text": [
      "[nuclio] 2020-01-10 18:54:51,130 (info) Build complete\n",
      "[nuclio] 2020-01-10 18:55:52,772 (error) Failed to deploy. Details:\n",
      "[18:55:39.657] (E) Caught unhandled exception while initializing [err=\"No module named 'v3io_frames_local'\",\n",
      "traceback=\"Traceback (most recent call last):\n",
      "  File \"/opt/nuclio/_nuclio_wrapper.py\", line 324, in run_wrapper\n",
      "    args.trigger_name)\n",
      "  File \"/opt/nuclio/_nuclio_wrapper.py\", line 51, in __init__\n",
      "    self._entrypoint = self._load_entrypoint_from_handler(handler)\n",
      "  File \"/opt/nuclio/_nuclio_wrapper.py\", line 231, in _load_entrypoint_from_handler\n",
      "    module = __import__(module_name)\n",
      "  File \"/opt/nuclio/04-infer.py\", line 9, in <module>\n",
      "    import v3io_frames_local as v3f\n",
      "ModuleNotFoundError: No module named 'v3io_frames_local'\n",
      "]\n",
      "\n"
     ]
    },
    {
     "name": "stderr",
     "output_type": "stream",
     "text": [
      "%nuclio: error: cannot deploy \n"
     ]
    }
   ],
   "source": [
    "%nuclio deploy -n netops-infer -p netops -c"
   ]
  },
  {
   "cell_type": "code",
   "execution_count": 20,
   "metadata": {},
   "outputs": [
    {
     "data": {
      "text/html": [
       "<div>\n",
       "<style scoped>\n",
       "    .dataframe tbody tr th:only-of-type {\n",
       "        vertical-align: middle;\n",
       "    }\n",
       "\n",
       "    .dataframe tbody tr th {\n",
       "        vertical-align: top;\n",
       "    }\n",
       "\n",
       "    .dataframe thead th {\n",
       "        text-align: right;\n",
       "    }\n",
       "</style>\n",
       "<table border=\"1\" class=\"dataframe\">\n",
       "  <thead>\n",
       "    <tr style=\"text-align: right;\">\n",
       "      <th></th>\n",
       "      <th></th>\n",
       "      <th></th>\n",
       "      <th></th>\n",
       "      <th>avg(cpu_utilization)</th>\n",
       "      <th>avg(latency)</th>\n",
       "      <th>avg(packet_loss)</th>\n",
       "      <th>avg(throughput)</th>\n",
       "    </tr>\n",
       "    <tr>\n",
       "      <th>time</th>\n",
       "      <th>company</th>\n",
       "      <th>data_center</th>\n",
       "      <th>device</th>\n",
       "      <th></th>\n",
       "      <th></th>\n",
       "      <th></th>\n",
       "      <th></th>\n",
       "    </tr>\n",
       "  </thead>\n",
       "  <tbody>\n",
       "    <tr>\n",
       "      <th>2020-01-10 18:25:52</th>\n",
       "      <th>Douglas-Holmes</th>\n",
       "      <th>Paul_Lane</th>\n",
       "      <th>1483265418393</th>\n",
       "      <td>68.933978</td>\n",
       "      <td>2.313415</td>\n",
       "      <td>0.999977</td>\n",
       "      <td>239.590221</td>\n",
       "    </tr>\n",
       "    <tr>\n",
       "      <th>2020-01-10 18:30:52</th>\n",
       "      <th>Douglas-Holmes</th>\n",
       "      <th>Paul_Lane</th>\n",
       "      <th>1483265418393</th>\n",
       "      <td>73.454727</td>\n",
       "      <td>1.413956</td>\n",
       "      <td>0.801538</td>\n",
       "      <td>249.498118</td>\n",
       "    </tr>\n",
       "    <tr>\n",
       "      <th>2020-01-10 18:35:52</th>\n",
       "      <th>Douglas-Holmes</th>\n",
       "      <th>Paul_Lane</th>\n",
       "      <th>1483265418393</th>\n",
       "      <td>81.130607</td>\n",
       "      <td>33.228238</td>\n",
       "      <td>11.452649</td>\n",
       "      <td>190.715959</td>\n",
       "    </tr>\n",
       "    <tr>\n",
       "      <th>2020-01-10 18:40:52</th>\n",
       "      <th>Douglas-Holmes</th>\n",
       "      <th>Paul_Lane</th>\n",
       "      <th>1483265418393</th>\n",
       "      <td>73.871325</td>\n",
       "      <td>10.117013</td>\n",
       "      <td>5.086630</td>\n",
       "      <td>228.470281</td>\n",
       "    </tr>\n",
       "    <tr>\n",
       "      <th>2020-01-10 18:45:52</th>\n",
       "      <th>Douglas-Holmes</th>\n",
       "      <th>Paul_Lane</th>\n",
       "      <th>1483265418393</th>\n",
       "      <td>69.703528</td>\n",
       "      <td>2.132821</td>\n",
       "      <td>0.627302</td>\n",
       "      <td>253.620352</td>\n",
       "    </tr>\n",
       "    <tr>\n",
       "      <th>2020-01-10 18:50:52</th>\n",
       "      <th>Douglas-Holmes</th>\n",
       "      <th>Paul_Lane</th>\n",
       "      <th>1483265418393</th>\n",
       "      <td>72.323913</td>\n",
       "      <td>2.087851</td>\n",
       "      <td>0.855528</td>\n",
       "      <td>244.880231</td>\n",
       "    </tr>\n",
       "    <tr>\n",
       "      <th>2020-01-10 18:55:52</th>\n",
       "      <th>Douglas-Holmes</th>\n",
       "      <th>Paul_Lane</th>\n",
       "      <th>1483265418393</th>\n",
       "      <td>70.847875</td>\n",
       "      <td>1.775647</td>\n",
       "      <td>1.089348</td>\n",
       "      <td>254.452688</td>\n",
       "    </tr>\n",
       "    <tr>\n",
       "      <th>2020-01-10 19:00:52</th>\n",
       "      <th>Douglas-Holmes</th>\n",
       "      <th>Paul_Lane</th>\n",
       "      <th>1483265418393</th>\n",
       "      <td>71.363916</td>\n",
       "      <td>2.127684</td>\n",
       "      <td>0.899277</td>\n",
       "      <td>246.894183</td>\n",
       "    </tr>\n",
       "    <tr>\n",
       "      <th>2020-01-10 19:05:52</th>\n",
       "      <th>Douglas-Holmes</th>\n",
       "      <th>Paul_Lane</th>\n",
       "      <th>1483265418393</th>\n",
       "      <td>83.564346</td>\n",
       "      <td>41.571719</td>\n",
       "      <td>17.219803</td>\n",
       "      <td>166.853100</td>\n",
       "    </tr>\n",
       "    <tr>\n",
       "      <th>2020-01-10 19:10:52</th>\n",
       "      <th>Douglas-Holmes</th>\n",
       "      <th>Paul_Lane</th>\n",
       "      <th>1483265418393</th>\n",
       "      <td>71.656725</td>\n",
       "      <td>1.300872</td>\n",
       "      <td>1.480534</td>\n",
       "      <td>248.947429</td>\n",
       "    </tr>\n",
       "  </tbody>\n",
       "</table>\n",
       "</div>"
      ],
      "text/plain": [
       "                                                              avg(cpu_utilization)  \\\n",
       "time                company        data_center device                                \n",
       "2020-01-10 18:25:52 Douglas-Holmes Paul_Lane   1483265418393             68.933978   \n",
       "2020-01-10 18:30:52 Douglas-Holmes Paul_Lane   1483265418393             73.454727   \n",
       "2020-01-10 18:35:52 Douglas-Holmes Paul_Lane   1483265418393             81.130607   \n",
       "2020-01-10 18:40:52 Douglas-Holmes Paul_Lane   1483265418393             73.871325   \n",
       "2020-01-10 18:45:52 Douglas-Holmes Paul_Lane   1483265418393             69.703528   \n",
       "2020-01-10 18:50:52 Douglas-Holmes Paul_Lane   1483265418393             72.323913   \n",
       "2020-01-10 18:55:52 Douglas-Holmes Paul_Lane   1483265418393             70.847875   \n",
       "2020-01-10 19:00:52 Douglas-Holmes Paul_Lane   1483265418393             71.363916   \n",
       "2020-01-10 19:05:52 Douglas-Holmes Paul_Lane   1483265418393             83.564346   \n",
       "2020-01-10 19:10:52 Douglas-Holmes Paul_Lane   1483265418393             71.656725   \n",
       "\n",
       "                                                              avg(latency)  \\\n",
       "time                company        data_center device                        \n",
       "2020-01-10 18:25:52 Douglas-Holmes Paul_Lane   1483265418393      2.313415   \n",
       "2020-01-10 18:30:52 Douglas-Holmes Paul_Lane   1483265418393      1.413956   \n",
       "2020-01-10 18:35:52 Douglas-Holmes Paul_Lane   1483265418393     33.228238   \n",
       "2020-01-10 18:40:52 Douglas-Holmes Paul_Lane   1483265418393     10.117013   \n",
       "2020-01-10 18:45:52 Douglas-Holmes Paul_Lane   1483265418393      2.132821   \n",
       "2020-01-10 18:50:52 Douglas-Holmes Paul_Lane   1483265418393      2.087851   \n",
       "2020-01-10 18:55:52 Douglas-Holmes Paul_Lane   1483265418393      1.775647   \n",
       "2020-01-10 19:00:52 Douglas-Holmes Paul_Lane   1483265418393      2.127684   \n",
       "2020-01-10 19:05:52 Douglas-Holmes Paul_Lane   1483265418393     41.571719   \n",
       "2020-01-10 19:10:52 Douglas-Holmes Paul_Lane   1483265418393      1.300872   \n",
       "\n",
       "                                                              avg(packet_loss)  \\\n",
       "time                company        data_center device                            \n",
       "2020-01-10 18:25:52 Douglas-Holmes Paul_Lane   1483265418393          0.999977   \n",
       "2020-01-10 18:30:52 Douglas-Holmes Paul_Lane   1483265418393          0.801538   \n",
       "2020-01-10 18:35:52 Douglas-Holmes Paul_Lane   1483265418393         11.452649   \n",
       "2020-01-10 18:40:52 Douglas-Holmes Paul_Lane   1483265418393          5.086630   \n",
       "2020-01-10 18:45:52 Douglas-Holmes Paul_Lane   1483265418393          0.627302   \n",
       "2020-01-10 18:50:52 Douglas-Holmes Paul_Lane   1483265418393          0.855528   \n",
       "2020-01-10 18:55:52 Douglas-Holmes Paul_Lane   1483265418393          1.089348   \n",
       "2020-01-10 19:00:52 Douglas-Holmes Paul_Lane   1483265418393          0.899277   \n",
       "2020-01-10 19:05:52 Douglas-Holmes Paul_Lane   1483265418393         17.219803   \n",
       "2020-01-10 19:10:52 Douglas-Holmes Paul_Lane   1483265418393          1.480534   \n",
       "\n",
       "                                                              avg(throughput)  \n",
       "time                company        data_center device                          \n",
       "2020-01-10 18:25:52 Douglas-Holmes Paul_Lane   1483265418393       239.590221  \n",
       "2020-01-10 18:30:52 Douglas-Holmes Paul_Lane   1483265418393       249.498118  \n",
       "2020-01-10 18:35:52 Douglas-Holmes Paul_Lane   1483265418393       190.715959  \n",
       "2020-01-10 18:40:52 Douglas-Holmes Paul_Lane   1483265418393       228.470281  \n",
       "2020-01-10 18:45:52 Douglas-Holmes Paul_Lane   1483265418393       253.620352  \n",
       "2020-01-10 18:50:52 Douglas-Holmes Paul_Lane   1483265418393       244.880231  \n",
       "2020-01-10 18:55:52 Douglas-Holmes Paul_Lane   1483265418393       254.452688  \n",
       "2020-01-10 19:00:52 Douglas-Holmes Paul_Lane   1483265418393       246.894183  \n",
       "2020-01-10 19:05:52 Douglas-Holmes Paul_Lane   1483265418393       166.853100  \n",
       "2020-01-10 19:10:52 Douglas-Holmes Paul_Lane   1483265418393       248.947429  "
      ]
     },
     "execution_count": 20,
     "metadata": {},
     "output_type": "execute_result"
    }
   ],
   "source": [
    "# nuclio: ignore\n",
    "client.read(backend='tsdb', query='select avg(cpu_utilization) , avg(latency) , avg(packet_loss) , avg(throughput)  from netops_metrics_jupyter group by company, data_center, device',\n",
    "            start=\"now-1d\", end='now+1d', multi_index=True, step='5m').head(10)\n"
   ]
  },
  {
   "cell_type": "code",
   "execution_count": null,
   "metadata": {},
   "outputs": [],
   "source": []
  }
 ],
 "metadata": {
  "kernelspec": {
   "display_name": "Python 3",
   "language": "python",
   "name": "python3"
  },
  "language_info": {
   "codemirror_mode": {
    "name": "ipython",
    "version": 3
   },
   "file_extension": ".py",
   "mimetype": "text/x-python",
   "name": "python",
   "nbconvert_exporter": "python",
   "pygments_lexer": "ipython3",
   "version": "3.6.8"
  }
 },
 "nbformat": 4,
 "nbformat_minor": 4
}
