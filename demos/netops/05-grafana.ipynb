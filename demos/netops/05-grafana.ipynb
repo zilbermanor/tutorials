{
 "cells": [
  {
   "cell_type": "markdown",
   "metadata": {},
   "source": [
    "# Create a Grafana Data Source and Dashboard"
   ]
  },
  {
   "cell_type": "markdown",
   "metadata": {},
   "source": [
    "Follow the steps in this this tutorial to define a custom \"iguazio\" Grafana data source and create a \"netops_metrics_jupyter\" Grafana dashboard that uses this data source to query tables in the Iguazio Data Science Platform (**\"the platform\"**).<br>\n",
    "Make sure the grafana service is up and running"
   ]
  },
  {
   "cell_type": "code",
   "execution_count": 1,
   "metadata": {},
   "outputs": [
    {
     "name": "stdout",
     "output_type": "stream",
     "text": [
      "Collecting git+https://github.com/v3io/grafwiz.git\n",
      "  Cloning https://github.com/v3io/grafwiz.git to /tmp/pip-req-build-vqbntk5f\n",
      "Requirement already satisfied (use --upgrade to upgrade): grafwiz==0.1.0 from git+https://github.com/v3io/grafwiz.git in /User/.pythonlibs/lib/python3.6/site-packages\n",
      "Requirement already satisfied: grafanalib in /User/.pythonlibs/lib/python3.6/site-packages (from grafwiz==0.1.0) (0.5.3)\n",
      "Requirement already satisfied: attrs in /conda/lib/python3.6/site-packages (from grafanalib->grafwiz==0.1.0) (19.1.0)\n",
      "Building wheels for collected packages: grafwiz\n",
      "  Running setup.py bdist_wheel for grafwiz ... \u001b[?25ldone\n",
      "\u001b[?25h  Stored in directory: /tmp/pip-ephem-wheel-cache-ay6hwj4u/wheels/8f/07/f3/185d8b497806aae5db86574055449669bd6c6658be2a5f9ec4\n",
      "Successfully built grafwiz\n"
     ]
    }
   ],
   "source": [
    "!pip install git+https://github.com/v3io/grafwiz.git"
   ]
  },
  {
   "cell_type": "code",
   "execution_count": 2,
   "metadata": {},
   "outputs": [],
   "source": [
    "from grafwiz import *\n",
    "import os"
   ]
  },
  {
   "cell_type": "code",
   "execution_count": 3,
   "metadata": {},
   "outputs": [],
   "source": [
    "# Grafana internal cluster address (will be http://grafana)\n",
    "grafana_url = 'http://grafana'"
   ]
  },
  {
   "cell_type": "code",
   "execution_count": 4,
   "metadata": {},
   "outputs": [
    {
     "name": "stdout",
     "output_type": "stream",
     "text": [
      "Dashboard netops_metrics_jupyter created successfully\n"
     ]
    }
   ],
   "source": [
    "# Create a new Grafana dashboard\n",
    "dash = Dashboard(\"netops_metrics_jupyter\", start='now-1d', dataSource='iguazio')\n",
    "\n",
    "# Create 6 charts (3 rows * 2 cols)\n",
    "dash.row([Graph(metric).series(table=\"netops_metrics_jupyter\", fields=[metric], container=\"bigdata\") for metric in ['cpu_utilization','latency']])\n",
    "dash.row([Graph(metric).series(table=\"netops_metrics_jupyter\", fields=[metric], container=\"bigdata\") for metric in ['throughput','packet_loss']])\n",
    "dash.row([Graph(metric).series(table=\"netops_metrics_jupyter\", fields=[metric], container=\"bigdata\") for metric in ['is_error', 'is_error']])\n",
    "\n",
    "# Deploy to Grafana\n",
    "dash.deploy(grafana_url)"
   ]
  },
  {
   "cell_type": "markdown",
   "metadata": {},
   "source": [
    "Once the dashboard is created successfully go to the Grafana service. Under the manage dashboard you will find the netops_metrics_jupyter dashboard"
   ]
  }
 ],
 "metadata": {
  "kernelspec": {
   "display_name": "Python 3",
   "language": "python",
   "name": "python3"
  },
  "language_info": {
   "codemirror_mode": {
    "name": "ipython",
    "version": 3
   },
   "file_extension": ".py",
   "mimetype": "text/x-python",
   "name": "python",
   "nbconvert_exporter": "python",
   "pygments_lexer": "ipython3",
   "version": "3.6.8"
  }
 },
 "nbformat": 4,
 "nbformat_minor": 2
}
